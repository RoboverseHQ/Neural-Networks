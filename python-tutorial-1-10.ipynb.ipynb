{
 "cells": [
  {
   "cell_type": "markdown",
   "metadata": {},
   "source": [
    "# Python Unpacking Tuple\n",
    "\n",
    "Summary: in this tutorial, you’ll learn how to unpack tuples in Python.\n",
    "\n",
    "# Reviewing Python tuples\n",
    "Python defines a tuple using commas (,), not parentheses (). For example, the following defines a tuple with two elements:\n",
    "\n",
    "1,2 \n",
    "Code language: Python (python)\n",
    "Python uses the parentheses to make the tuple clearer:\n",
    "\n",
    "(1, 2)\n",
    "Code language: Python (python)\n",
    "Python also uses the parentheses to create an empty tuple:\n",
    "\n",
    "()\n",
    "Code language: Python (python)\n",
    "In addition, you can use the tuple() constructor like this:\n",
    "\n",
    "# tuple()\n",
    "Code language: Python (python)\n",
    "To define a tuple with only one element, you still need to use a comma. The following example illustrates how to define a tuple with one element:\n",
    "\n",
    "1,\n",
    "Code language: Python (python)\n",
    "It’s equivalent to the following:\n",
    "\n",
    "(1, )\n",
    "Code language: Python (python)\n",
    "Note that the following is an integer, not a tuple:\n",
    "\n",
    "(1)\n",
    "Code language: Python (python)\n",
    "# Unpacking a tuple\n",
    "Unpacking a tuple means splitting the tuple’s elements into individual variables. For example:\n",
    "\n",
    "x, y = (1, 2)\n",
    "Code language: Python (python)\n",
    "The left side:\n",
    "\n",
    "x, y\n",
    "Code language: Python (python)\n",
    "is a tuple of two variables x and y.\n",
    "\n",
    "The right side is also a tuple of two integers 1 and 2.\n",
    "\n",
    "The expression assigns the tuple elements on the right side (1, 2) to each variable on the left side (x, y) based on the relative position of each element.\n",
    "\n",
    "In the above example, x will take 1 and y will take 2.\n",
    "\n",
    "See another example:\n",
    "\n",
    "x, y ,z = 10, 20, 30\n",
    "Code language: Python (python)\n",
    "The right side is a tuple of three integers 10, 20, and 30. You can quickly check its type as follows:\n",
    "\n",
    "numbers = 10, 20, 30\n",
    "print(type(numbers))\n",
    "Code language: Python (python)\n",
    "Output:\n",
    "\n",
    "<class 'tuple'>\n",
    "Code language: Python (python)\n",
    "In the above example, the x, y, and z variables will take the values 10, 20, and 30 respectively.\n",
    "\n",
    "Using unpacking tuple to swap values of two variables "
   ]
  },
  {
   "cell_type": "markdown",
   "metadata": {},
   "source": [
    "# Using unpacking tuple to swap values of two variables\n",
    "Traditionally, to swap the values of two variables, you would use a temporary variable like this:"
   ]
  },
  {
   "cell_type": "code",
   "execution_count": 1,
   "metadata": {},
   "outputs": [
    {
     "name": "stdout",
     "output_type": "stream",
     "text": [
      "x=10, y=20\n",
      "x=20, y=10\n"
     ]
    }
   ],
   "source": [
    "x = 10\n",
    "y = 20\n",
    "\n",
    "print(f'x={x}, y={y}')\n",
    "\n",
    "tmp = x\n",
    "x = y\n",
    "y = tmp\n",
    "\n",
    "print(f'x={x}, y={y}')"
   ]
  },
  {
   "cell_type": "code",
   "execution_count": 2,
   "metadata": {},
   "outputs": [
    {
     "name": "stdout",
     "output_type": "stream",
     "text": [
      "x=10, y=20\n",
      "x=20, y=10\n"
     ]
    }
   ],
   "source": [
    "x = 10\n",
    "y = 20\n",
    "\n",
    "print(f'x={x}, y={y}')\n",
    "\n",
    "x, y = y, x\n",
    "\n",
    "print(f'x={x}, y={y}')"
   ]
  },
  {
   "cell_type": "markdown",
   "metadata": {},
   "source": [
    "The following expression swaps the values of two variables, x and y.\n",
    "\n",
    "x, y = y, x\n",
    "Code language: Python (python)\n",
    "In this expression, Python evaluates the right-hand side first and then assigns the variable from the left-hand side to the values from the right-hand side.\n",
    "\n",
    "ValueError: too many values to unpack\n",
    "The following example unpacks the elements of a tuple into variables. However, it’ll result in an error:\n",
    "\n",
    "x, y = 10, 20, 30\n",
    "Code language: Python (python)\n",
    "Error:\n",
    "\n",
    "ValueError: too many values to unpack (expected 2)\n",
    "Code language: Python (python)\n",
    "This error is because the right-hand side returns three values while the left-hand side only has two variables.\n",
    "\n",
    "To fix this, you can add a _ variable:\n",
    "\n",
    "x, y, _ = 10, 20, 30\n",
    "Code language: Python (python)\n",
    "The _ variable is a regular variable in Python. By convention, it’s called a dummy variable.\n",
    "\n",
    "Typically, you use the dummy variable to unpack when you don’t care and use its value afterward.\n",
    "\n",
    "# Extended unpacking using the * operator\n",
    "Sometimes, you don’t want to unpack every single item in a tuple. For example, you may want to unpack the first and second elements. In this case, you can use the * operator. For example:"
   ]
  },
  {
   "cell_type": "code",
   "execution_count": 3,
   "metadata": {},
   "outputs": [],
   "source": [
    "r, g, *other = (192, 210, 100, 0.5)"
   ]
  },
  {
   "cell_type": "markdown",
   "metadata": {},
   "source": [
    "In this example, Python assigns 192 to r, 210 to g. Also, Python packs the remaining elements 100 and 0.5 into a list and assigns it to the other variable.\n",
    "\n",
    "Notice that you can only use the * operator once on the left-hand side of an unpacking assignment.\n",
    "\n",
    "The following example results in error:"
   ]
  },
  {
   "cell_type": "code",
   "execution_count": 4,
   "metadata": {},
   "outputs": [
    {
     "ename": "SyntaxError",
     "evalue": "two starred expressions in assignment (3014806510.py, line 1)",
     "output_type": "error",
     "traceback": [
      "\u001b[1;36m  Cell \u001b[1;32mIn[4], line 1\u001b[1;36m\u001b[0m\n\u001b[1;33m    x, y, *z, *t = (10, 20, 30, '10:30')\u001b[0m\n\u001b[1;37m    ^\u001b[0m\n\u001b[1;31mSyntaxError\u001b[0m\u001b[1;31m:\u001b[0m two starred expressions in assignment\n"
     ]
    }
   ],
   "source": [
    "x, y, *z, *t = (10, 20, 30, '10:30')"
   ]
  },
  {
   "cell_type": "markdown",
   "metadata": {},
   "source": [
    "Using the * operator on the right hand side\n",
    "Python allows you to use the * operator on the right-hand side. Suppose that you have two tuples:\n",
    "\n",
    "odd_numbers = (1, 3, 5)\n",
    "even_numbers = (2, 4, 6)\n",
    "Code language: Python (python)\n",
    "# The following example uses the * operator to unpack those tuples and merge them into a single tuple:"
   ]
  },
  {
   "cell_type": "code",
   "execution_count": 6,
   "metadata": {},
   "outputs": [],
   "source": [
    "odd_numbers = (1, 3, 5)\n",
    "even_numbers = (2, 4, 6)"
   ]
  },
  {
   "cell_type": "code",
   "execution_count": 7,
   "metadata": {},
   "outputs": [
    {
     "name": "stdout",
     "output_type": "stream",
     "text": [
      "(1, 3, 5, 2, 4, 6)\n"
     ]
    }
   ],
   "source": [
    "numbers = (*odd_numbers, *even_numbers)\n",
    "print(numbers)"
   ]
  },
  {
   "cell_type": "markdown",
   "metadata": {},
   "source": [
    "Summary\n",
    "Python uses the commas (,) to define a tuple, not parentheses.\n",
    "Unpacking tuples means assigning individual elements of a tuple to multiple variables.\n",
    "Use the * operator to assign remaining elements of an unpacking assignment into a list and assign it to a variable."
   ]
  },
  {
   "cell_type": "markdown",
   "metadata": {},
   "source": [
    "# Python *args\n",
    "\n",
    "Summary: in this tutorial, you’ll learn about the Python *args parameters and how to use them for defining variadic functions.\n",
    "\n",
    "Tuple unpacking\n",
    "The following unpacks a tuple into two variables:"
   ]
  },
  {
   "cell_type": "code",
   "execution_count": 8,
   "metadata": {},
   "outputs": [],
   "source": [
    "x, y = 10, 20"
   ]
  },
  {
   "cell_type": "code",
   "execution_count": 9,
   "metadata": {},
   "outputs": [
    {
     "data": {
      "text/plain": [
       "30"
      ]
     },
     "execution_count": 9,
     "metadata": {},
     "output_type": "execute_result"
    }
   ],
   "source": [
    "def add(x, y):\n",
    "    return x + y\n",
    "\n",
    "\n",
    "add(10, 20)"
   ]
  },
  {
   "cell_type": "code",
   "execution_count": 10,
   "metadata": {},
   "outputs": [
    {
     "name": "stdout",
     "output_type": "stream",
     "text": [
      "10\n",
      "20\n",
      "[30, 40]\n"
     ]
    }
   ],
   "source": [
    "x, y, *z = 10, 20, 30, 40\n",
    "\n",
    "print(x)\n",
    "print(y)\n",
    "print(z)"
   ]
  },
  {
   "cell_type": "code",
   "execution_count": 11,
   "metadata": {},
   "outputs": [
    {
     "name": "stdout",
     "output_type": "stream",
     "text": [
      "100\n"
     ]
    }
   ],
   "source": [
    "def add(x, y, *args):\n",
    "    total = x + y\n",
    "    for arg in args:\n",
    "        total += arg\n",
    "\n",
    "    return total\n",
    "\n",
    "\n",
    "result = add(10, 20, 30, 40)\n",
    "print(result)"
   ]
  },
  {
   "cell_type": "markdown",
   "metadata": {},
   "source": [
    "The add function accepts three parameters x, y, and *args. The *args is a special argument preceded by a star (*).\n",
    "\n",
    "When passing the positional arguments 10, 20, 30, and 40 to the function, Python assigns 10 to x, 20 to y, and a tuple (30, 40) to args.\n",
    "\n",
    "It’s like tuple unpacking except that the args is a tuple, not a list.\n",
    "\n",
    "# Introduction to the Python *args parameter\n",
    "When a function has a parameter preceded by an asterisk (*), it can accept a variable number of arguments. And you can pass zero, one, or more arguments to the *args parameter.\n",
    "\n",
    "In Python, the parameters like *args are called variadic parameters. Functions that have variadic parameters are called variadic functions.\n",
    "\n",
    "Note that you don’t need to name args for a variadic parameter. For example, you can use any meaningful names like *numbers, *strings, *lists, etc.\n",
    "\n",
    "However, by convention, Python uses the *args for a variadic parameter.\n",
    "\n",
    "Let’s take a look at the following example:"
   ]
  },
  {
   "cell_type": "code",
   "execution_count": 12,
   "metadata": {},
   "outputs": [
    {
     "name": "stdout",
     "output_type": "stream",
     "text": [
      "()\n"
     ]
    }
   ],
   "source": [
    "def add(*args):\n",
    "    print(args)\n",
    "\n",
    "\n",
    "add()"
   ]
  },
  {
   "cell_type": "code",
   "execution_count": 13,
   "metadata": {},
   "outputs": [
    {
     "name": "stdout",
     "output_type": "stream",
     "text": [
      "<class 'tuple'>\n",
      "()\n"
     ]
    }
   ],
   "source": [
    "def add(*args):\n",
    "    print(type(args))\n",
    "    print(args)\n",
    "\n",
    "add()"
   ]
  },
  {
   "cell_type": "code",
   "execution_count": 14,
   "metadata": {},
   "outputs": [
    {
     "name": "stdout",
     "output_type": "stream",
     "text": [
      "(1, 2, 3)\n"
     ]
    }
   ],
   "source": [
    "def add(*args):\n",
    "    print(args)\n",
    "\n",
    "\n",
    "add(1,2,3)"
   ]
  },
  {
   "cell_type": "code",
   "execution_count": 15,
   "metadata": {},
   "outputs": [
    {
     "name": "stdout",
     "output_type": "stream",
     "text": [
      "1\n",
      "2\n",
      "3\n"
     ]
    }
   ],
   "source": [
    "def add(*args):\n",
    "    print(args[0])\n",
    "    print(args[1])\n",
    "    print(args[2])\n",
    "\n",
    "\n",
    "add(1, 2, 3)"
   ]
  },
  {
   "cell_type": "code",
   "execution_count": 16,
   "metadata": {},
   "outputs": [
    {
     "name": "stdout",
     "output_type": "stream",
     "text": [
      "6\n"
     ]
    }
   ],
   "source": [
    "def add(*args):\n",
    "    total = 0\n",
    "    for arg in args:\n",
    "        total += arg\n",
    "    return total\n",
    "\n",
    "\n",
    "total = add(1, 2, 3)\n",
    "print(total)"
   ]
  },
  {
   "cell_type": "markdown",
   "metadata": {},
   "source": [
    "# Python *args argument exhausts positional arguments\n",
    "If you use the *args argument, you cannot add more positional arguments. However, you can use keyword arguments.\n",
    "\n",
    "The following example results in an error because it uses a positional argument after the *arg argument:"
   ]
  },
  {
   "cell_type": "code",
   "execution_count": 17,
   "metadata": {},
   "outputs": [
    {
     "ename": "TypeError",
     "evalue": "add() missing 1 required keyword-only argument: 'z'",
     "output_type": "error",
     "traceback": [
      "\u001b[1;31m---------------------------------------------------------------------------\u001b[0m",
      "\u001b[1;31mTypeError\u001b[0m                                 Traceback (most recent call last)",
      "\u001b[1;32mc:\\Users\\saima\\python-tutorial-12-15.ipynb Cell 25\u001b[0m line \u001b[0;36m5\n\u001b[0;32m      <a href='vscode-notebook-cell:/c%3A/Users/saima/python-tutorial-12-15.ipynb#X32sZmlsZQ%3D%3D?line=0'>1</a>\u001b[0m \u001b[39mdef\u001b[39;00m \u001b[39madd\u001b[39m(x, y, \u001b[39m*\u001b[39margs, z):\n\u001b[0;32m      <a href='vscode-notebook-cell:/c%3A/Users/saima/python-tutorial-12-15.ipynb#X32sZmlsZQ%3D%3D?line=1'>2</a>\u001b[0m     \u001b[39mreturn\u001b[39;00m x \u001b[39m+\u001b[39m y \u001b[39m+\u001b[39m \u001b[39msum\u001b[39m(args) \u001b[39m+\u001b[39m z\n\u001b[1;32m----> <a href='vscode-notebook-cell:/c%3A/Users/saima/python-tutorial-12-15.ipynb#X32sZmlsZQ%3D%3D?line=4'>5</a>\u001b[0m add(\u001b[39m10\u001b[39;49m, \u001b[39m20\u001b[39;49m, \u001b[39m30\u001b[39;49m, \u001b[39m40\u001b[39;49m, \u001b[39m50\u001b[39;49m)\n",
      "\u001b[1;31mTypeError\u001b[0m: add() missing 1 required keyword-only argument: 'z'"
     ]
    }
   ],
   "source": [
    "def add(x, y, *args, z):\n",
    "    return x + y + sum(args) + z\n",
    "\n",
    "\n",
    "add(10, 20, 30, 40, 50)"
   ]
  },
  {
   "cell_type": "code",
   "execution_count": 18,
   "metadata": {},
   "outputs": [
    {
     "data": {
      "text/plain": [
       "150"
      ]
     },
     "execution_count": 18,
     "metadata": {},
     "output_type": "execute_result"
    }
   ],
   "source": [
    "def add(x, y, *args, z):\n",
    "    return x + y + sum(args) + z\n",
    "\n",
    "\n",
    "add(10, 20, 30, 40, z=50)"
   ]
  },
  {
   "cell_type": "markdown",
   "metadata": {},
   "source": [
    "In this example, Python assigns 10 to x, 20 to y,(30,40) to args, and 50 to z.\n",
    "\n",
    "# Unpacking arguments\n",
    "The following point function accepts two arguments and returns a string representation of a point with x-coordinate and y-coordinate:"
   ]
  },
  {
   "cell_type": "markdown",
   "metadata": {},
   "source": []
  },
  {
   "cell_type": "code",
   "execution_count": 19,
   "metadata": {},
   "outputs": [],
   "source": [
    "\n",
    "def point(x, y):\n",
    "    return f'({x},{y})'"
   ]
  },
  {
   "cell_type": "code",
   "execution_count": 20,
   "metadata": {},
   "outputs": [
    {
     "ename": "TypeError",
     "evalue": "point() missing 1 required positional argument: 'y'",
     "output_type": "error",
     "traceback": [
      "\u001b[1;31m---------------------------------------------------------------------------\u001b[0m",
      "\u001b[1;31mTypeError\u001b[0m                                 Traceback (most recent call last)",
      "\u001b[1;32mc:\\Users\\saima\\python-tutorial-12-15.ipynb Cell 30\u001b[0m line \u001b[0;36m2\n\u001b[0;32m      <a href='vscode-notebook-cell:/c%3A/Users/saima/python-tutorial-12-15.ipynb#X42sZmlsZQ%3D%3D?line=0'>1</a>\u001b[0m a \u001b[39m=\u001b[39m (\u001b[39m0\u001b[39m, \u001b[39m0\u001b[39m)\n\u001b[1;32m----> <a href='vscode-notebook-cell:/c%3A/Users/saima/python-tutorial-12-15.ipynb#X42sZmlsZQ%3D%3D?line=1'>2</a>\u001b[0m origin \u001b[39m=\u001b[39m point(a)\n",
      "\u001b[1;31mTypeError\u001b[0m: point() missing 1 required positional argument: 'y'"
     ]
    }
   ],
   "source": [
    "a = (0, 0)\n",
    "origin = point(a)"
   ]
  },
  {
   "cell_type": "code",
   "execution_count": 21,
   "metadata": {},
   "outputs": [
    {
     "name": "stdout",
     "output_type": "stream",
     "text": [
      "(0,0)\n"
     ]
    }
   ],
   "source": [
    "def point(x, y):\n",
    "    return f'({x},{y})'\n",
    "\n",
    "\n",
    "a = (0, 0)\n",
    "origin = point(*a)\n",
    "print(origin)"
   ]
  },
  {
   "cell_type": "markdown",
   "metadata": {},
   "source": [
    "When you precede the argument a with the operator *, Python unpacks the tuple and assigns its elements to x and y parameters.\n",
    "\n",
    "# Summary\n",
    "Use Python *arg arguments for a function that accepts a variable number of arguments.\n",
    "The *args argument exhausts positional arguments so you can only use keyword arguments after it."
   ]
  },
  {
   "cell_type": "markdown",
   "metadata": {},
   "source": [
    "# Introduction to the Python **kwargs parameters\n",
    "In Python, a function can have a parameter preceded by two stars (**). For example: **kwwargs\n",
    "\n",
    "The **kwargs is called a keyword parameter.\n",
    "\n",
    "When a function has the **kwargs parameter, it can accept a variable number of keyword arguments as a dictionary.\n",
    "\n",
    "The two stars (**) are important. However, the name kwargs is by convention. Therefore, you can use any other meaningful names such as **configs and **files.\n",
    "\n",
    "The following example defines a function called connect() that accepts a **kwargs parameter:"
   ]
  },
  {
   "cell_type": "code",
   "execution_count": 22,
   "metadata": {},
   "outputs": [],
   "source": [
    "def connect(**kwargs):\n",
    "    print(type(kwargs))\n",
    "    print(kwargs)"
   ]
  },
  {
   "cell_type": "code",
   "execution_count": 23,
   "metadata": {},
   "outputs": [
    {
     "name": "stdout",
     "output_type": "stream",
     "text": [
      "<class 'dict'>\n",
      "{}\n"
     ]
    }
   ],
   "source": [
    "connect()"
   ]
  },
  {
   "cell_type": "code",
   "execution_count": 24,
   "metadata": {},
   "outputs": [
    {
     "name": "stdout",
     "output_type": "stream",
     "text": [
      "<class 'dict'>\n",
      "{'server': 'localhost', 'port': 3306, 'user': 'root', 'password': 'Py1hon!Xt'}\n"
     ]
    }
   ],
   "source": [
    "connect(server='localhost', port=3306, user='root', password='Py1hon!Xt')"
   ]
  },
  {
   "cell_type": "code",
   "execution_count": 25,
   "metadata": {},
   "outputs": [
    {
     "name": "stdout",
     "output_type": "stream",
     "text": [
      "{'server': 'localhost', 'port': 3306, 'user': 'root', 'password': 'Py1thon!Xt12'}\n"
     ]
    }
   ],
   "source": [
    "def connect(**kwargs):\n",
    "    print(kwargs)\n",
    "\n",
    "\n",
    "config = {'server': 'localhost',\n",
    "        'port': 3306,\n",
    "        'user': 'root',\n",
    "        'password': 'Py1thon!Xt12'}\n",
    "\n",
    "connect(**config)"
   ]
  },
  {
   "cell_type": "code",
   "execution_count": 26,
   "metadata": {},
   "outputs": [],
   "source": [
    "def connect(fn, **kwargs):\n",
    "    print(kwargs)"
   ]
  },
  {
   "cell_type": "markdown",
   "metadata": {},
   "source": [
    "# Summary\n",
    "Use the Python **kwargs parameter to allow the function to accept a variable number of keyword arguments.\n",
    "Inside the function, the kwargs argument is a dictionary that contains all keyword arguments as its name-value pairs.\n",
    "Precede double stars (**) to a dictionary argument to pass it to **kwargs parameter.\n",
    "Always place the **kwargs parameter at the end of the parameter list, or you’ll get an error."
   ]
  },
  {
   "cell_type": "markdown",
   "metadata": {},
   "source": [
    "# Python Partial Functions\n",
    "\n",
    "Summary: In this tutorial, you’ll learn about Python partial functions and how to define partial functions using the partial function from the functools module.\n",
    "\n",
    "# Introduction to Python partial functions\n",
    "The following example defines a function that multiplies two arguments:"
   ]
  },
  {
   "cell_type": "code",
   "execution_count": 28,
   "metadata": {},
   "outputs": [],
   "source": [
    "def multiply(a, b):\n",
    "    return a*b"
   ]
  },
  {
   "cell_type": "code",
   "execution_count": 29,
   "metadata": {},
   "outputs": [],
   "source": [
    "def double(a):\n",
    "    return multiply(a,2)"
   ]
  },
  {
   "cell_type": "code",
   "execution_count": 30,
   "metadata": {},
   "outputs": [
    {
     "name": "stdout",
     "output_type": "stream",
     "text": [
      "20\n"
     ]
    }
   ],
   "source": [
    "result = double(10)\n",
    "print(result) "
   ]
  },
  {
   "cell_type": "code",
   "execution_count": 31,
   "metadata": {},
   "outputs": [
    {
     "name": "stdout",
     "output_type": "stream",
     "text": [
      "20\n"
     ]
    }
   ],
   "source": [
    "def multiply(a, b):\n",
    "    return a*b\n",
    "\n",
    "\n",
    "def double(a):\n",
    "    return multiply(a, 2)\n",
    "\n",
    "\n",
    "result = double(10)\n",
    "print(result)  # 20"
   ]
  },
  {
   "cell_type": "markdown",
   "metadata": {},
   "source": [
    "As you can see, the double function reduces the arguments of the multiply function.\n",
    "\n",
    "The double function freezes the second argument of the multiply function, which results in a new function with a simpler signature.\n",
    "\n",
    "In other words, double function reduces the complexity of the multiply function.\n",
    "\n",
    "In Python, the double function is called a partial function.\n",
    "\n",
    "In practice, you use partial functions when you want to reduce the number of arguments of a function to simplify the function’s signature.\n",
    "\n",
    "Since you’ll create partial functions sometimes, Python provides you with the partial function from the functools standard module to help you define partial functions more easily.\n",
    "\n",
    "# Python partial function from functools module\n",
    "The following shows the syntax of the partial function from the functools module:"
   ]
  },
  {
   "cell_type": "markdown",
   "metadata": {},
   "source": [
    "# Python Type Hints\n",
    "\n",
    "Summary: in this tutorial, you’ll learn about the Python type hints and how to use the mypy tool to check types statically.\n",
    "\n",
    "# Introduction to Python type hints\n",
    "Some programming languages have static typing, such as C/C++. It means you need to declare types of variables, parameters, and return values of a function upfront. The predefined types allow the compilers to check the code before compiling and running the program.\n",
    "\n",
    "Python uses dynamic typing, in which a function’s variables, parameters, and return values can be any type. Also, the types of variables can change while the program runs.\n",
    "\n",
    "Generally, dynamic typing makes it easy to program and causes unexpected errors that you can only discover until the program runs.\n",
    "\n",
    "Python’s type hints provide you with optional static typing to leverage the best of both static and dynamic typing.\n",
    "\n",
    "The following example defines a simple function that accepts a string and returns another string:"
   ]
  },
  {
   "cell_type": "code",
   "execution_count": 33,
   "metadata": {},
   "outputs": [
    {
     "name": "stdout",
     "output_type": "stream",
     "text": [
      "Hi John\n"
     ]
    }
   ],
   "source": [
    "def say_hi(name):\n",
    "    return f'Hi {name}'\n",
    "\n",
    "\n",
    "greeting = say_hi('John')\n",
    "print(greeting)"
   ]
  },
  {
   "cell_type": "code",
   "execution_count": 34,
   "metadata": {},
   "outputs": [
    {
     "name": "stdout",
     "output_type": "stream",
     "text": [
      "Hi John\n"
     ]
    }
   ],
   "source": [
    "def say_hi(name: str) -> str:\n",
    "    return f'Hi {name}'\n",
    "\n",
    "\n",
    "greeting = say_hi('John')\n",
    "print(greeting)"
   ]
  },
  {
   "cell_type": "code",
   "execution_count": 35,
   "metadata": {},
   "outputs": [],
   "source": [
    "name: str"
   ]
  },
  {
   "cell_type": "code",
   "execution_count": 36,
   "metadata": {},
   "outputs": [
    {
     "name": "stdout",
     "output_type": "stream",
     "text": [
      "Hi 123\n"
     ]
    }
   ],
   "source": [
    "def say_hi(name: str) -> str:\n",
    "    return f'Hi {name}'\n",
    "\n",
    "\n",
    "greeting = say_hi(123)\n",
    "print(greeting)"
   ]
  },
  {
   "cell_type": "code",
   "execution_count": 38,
   "metadata": {},
   "outputs": [],
   "source": [
    "from typing import Union"
   ]
  },
  {
   "cell_type": "code",
   "execution_count": 39,
   "metadata": {},
   "outputs": [],
   "source": [
    "def add(x: Union[int, float], y: Union[int, float]) -> Union[int, float]:\n",
    "\n",
    "    \n",
    "    return x + y"
   ]
  },
  {
   "cell_type": "code",
   "execution_count": 40,
   "metadata": {},
   "outputs": [],
   "source": [
    "from typing import Union\n",
    "\n",
    "\n",
    "def add(x: Union[int, float], y: Union[int, float]) -> Union[int, float]:\n",
    "    return x + y"
   ]
  },
  {
   "cell_type": "markdown",
   "metadata": {},
   "source": [
    "# Type aliases\n",
    "Python allows you to assign an alias to a type and use the alias for type hintings. For example:"
   ]
  },
  {
   "cell_type": "code",
   "execution_count": 42,
   "metadata": {},
   "outputs": [],
   "source": [
    "from typing import Union\n",
    "\n",
    "number = Union[int, float]\n",
    "\n",
    "\n",
    "def add(x: number, y: number) -> number:\n",
    "    return x + y"
   ]
  },
  {
   "cell_type": "markdown",
   "metadata": {},
   "source": [
    "In this example, we assign the Union[int, float] type an alias Number and use the Number alias in the add() function.\n",
    "\n",
    "# Adding type hints for lists, dictionaries, and sets\n",
    "You can use the following built-in types to set the type hints for a list, dictionary, and set:\n",
    "\n",
    "list\n",
    "dict\n",
    "set\n",
    "If you type hints in a variable as a list but later assign a dictionary to it, you’ll get an error:"
   ]
  },
  {
   "cell_type": "markdown",
   "metadata": {},
   "source": [
    "ratings: list = [1, 2, 3]\n",
    "ratings = {1: 'Bad', 2: 'average', 3: 'Good'}\n",
    "Code language: Python (python)\n",
    "Error:\n",
    "\n",
    "app.py:3: error: Incompatible types in assignment (expression has type \"Dict[int, str]\", variable has type \"List[Any]\")\n",
    "Found 1 error in 1 file (checked 1 source file)\n",
    "Code language: Python (python)\n",
    "To specify the types of values in the list, dictionary, and sets, you can use type aliases from the typing module:\n",
    "\n",
    "Type Alias\tBuilt-in Type\n",
    "List\tlist\n",
    "Tuple\ttuple\n",
    "Dict\tdict\n",
    "Set\tset\n",
    "Frozenset\tfrozenset\n",
    "Sequence\tFor list, tuple, and any other sequence data type.\n",
    "Mapping\tFor dictionary (dict), set, frozenset, and any other mapping data type\n",
    "ByteString\tbytes, bytearray, and memoryview types.\n",
    "For example, the following defines a list of integers:"
   ]
  },
  {
   "cell_type": "code",
   "execution_count": 43,
   "metadata": {},
   "outputs": [],
   "source": [
    "from typing import List\n",
    "\n",
    "ratings: List[int] = [1, 2, 3]"
   ]
  },
  {
   "cell_type": "markdown",
   "metadata": {},
   "source": [
    "# None type\n",
    "If a function doesn’t explicitly return a value, you can use None to type hint the return value. For example:"
   ]
  },
  {
   "cell_type": "markdown",
   "metadata": {},
   "source": [
    "# Summary\n",
    "Use type hints and static type checker tools to make your code more robust."
   ]
  },
  {
   "cell_type": "markdown",
   "metadata": {},
   "source": [
    "# Python Basics\n",
    "\n",
    "In this section, you’ll learn basic Python. If you’re completely new to Python programming, this Python basics section is perfect for you.\n",
    "\n",
    "After completing the tutorials, you’ll be confident in Python programming and be able to create simple programs in Python."
   ]
  },
  {
   "cell_type": "markdown",
   "metadata": {},
   "source": [
    "# Python Syntax\n",
    "\n",
    "Summary: in this tutorial, you’ll learn about the basic Python syntax so that you can get started with the Python language quickly.\n",
    "\n",
    "Whitespace and indentation\n",
    "If you’ve been working in other programming languages such as Java, C#, or C/C++, you know that these languages use semicolons (;) to separate the statements.\n",
    "\n",
    "However, Python uses whitespace and indentation to construct the code structure.\n",
    "\n",
    "The following shows a snippet of Python code:"
   ]
  },
  {
   "cell_type": "code",
   "execution_count": 45,
   "metadata": {},
   "outputs": [
    {
     "name": "stdout",
     "output_type": "stream",
     "text": [
      "1\n",
      "2\n",
      "3\n",
      "4\n",
      "5\n",
      "6\n",
      "7\n",
      "8\n",
      "9\n"
     ]
    }
   ],
   "source": [
    "def main():\n",
    "    i = 1\n",
    "    max = 10\n",
    "    while (i < max):\n",
    "        print(i)\n",
    "        i = i + 1\n",
    "\n",
    "# call function main \n",
    "main()"
   ]
  },
  {
   "cell_type": "markdown",
   "metadata": {},
   "source": []
  },
  {
   "cell_type": "markdown",
   "metadata": {},
   "source": [
    "The meaning of the code isn’t important to you now. Please pay attention to the code structure instead.\n",
    "\n",
    "At the end of each line, you don’t see any semicolon to terminate the statement. And the code uses indentation to format the code.\n",
    "\n",
    "By using indentation and whitespace to organize the code, Python code gains the following advantages:\n",
    "\n",
    "First, you’ll never miss the beginning or ending code of a block like in other programming languages such as Java or C#.\n",
    "Second, the coding style is essentially uniform. If you have to maintain another developer’s code, that code looks the same as yours.\n",
    "Third, the code is more readable and clear in comparison with other programming languages.\n",
    "# Comments\n",
    "The comments are as important as the code because they describe why a piece of code was written.\n",
    "\n",
    "When the Python interpreter executes the code, it ignores the comments.\n",
    "\n",
    "In Python, a single-line comment begins with a hash (#) symbol followed by the comment. For example:"
   ]
  },
  {
   "cell_type": "markdown",
   "metadata": {},
   "source": [
    "And Python also supports other kinds of comments.\n",
    "\n",
    "Continuation of statements\n",
    "Python uses a newline character to separate statements. It places each statement on one line.\n",
    "\n",
    "However, a long statement can span multiple lines by using the backslash (\\) character.\n",
    "\n",
    "The following example illustrates how to use the backslash (\\) character to continue a statement in the second line:"
   ]
  },
  {
   "cell_type": "code",
   "execution_count": 46,
   "metadata": {},
   "outputs": [],
   "source": [
    "if (a == True) and (b == False) and \\\n",
    "   (c == True):\n",
    "    print(\"Continuation of statements\")"
   ]
  },
  {
   "cell_type": "markdown",
   "metadata": {},
   "source": [
    "# Identifiers\n",
    "Identifiers are names that identify variables, functions, modules, classes, and other objects in Python.\n",
    "\n",
    "The name of an identifier needs to begin with a letter or underscore (_). The following characters can be alphanumeric or underscore.\n",
    "\n",
    "Python identifiers are case-sensitive. For example, the counter and Counter are different identifiers.\n",
    "\n",
    "In addition, you cannot use Python keywords for naming identifiers.\n",
    "\n",
    "# Keywords\n",
    "Some words have special meanings in Python. They are called keywords.\n",
    "\n",
    "The following shows the list of keywords in Python:"
   ]
  },
  {
   "cell_type": "markdown",
   "metadata": {},
   "source": [
    "Python is a growing and evolving language. So its keywords will keep increasing and changing.\n",
    "\n",
    "Python provides a special module for listing its keywords called keyword. \n",
    "\n",
    "To find the current keyword list, you use the following code:"
   ]
  },
  {
   "cell_type": "code",
   "execution_count": 47,
   "metadata": {},
   "outputs": [
    {
     "name": "stdout",
     "output_type": "stream",
     "text": [
      "['False', 'None', 'True', 'and', 'as', 'assert', 'async', 'await', 'break', 'class', 'continue', 'def', 'del', 'elif', 'else', 'except', 'finally', 'for', 'from', 'global', 'if', 'import', 'in', 'is', 'lambda', 'nonlocal', 'not', 'or', 'pass', 'raise', 'return', 'try', 'while', 'with', 'yield']\n"
     ]
    }
   ],
   "source": [
    "import keyword\n",
    "\n",
    "print(keyword.kwlist) "
   ]
  },
  {
   "cell_type": "markdown",
   "metadata": {},
   "source": [
    "# String literals\n",
    "Python uses single quotes ('), double quotes (\"), triple single quotes (''') and triple-double quotes (\"\"\") to denote a string literal.\n",
    "\n",
    "The string literal need to be surrounded with the same type of quotes. For example, if you use a single quote to start a string literal, you need to use the same single quote to end it.\n",
    "\n",
    "The following shows some examples of string literals:"
   ]
  },
  {
   "cell_type": "code",
   "execution_count": 48,
   "metadata": {},
   "outputs": [
    {
     "name": "stdout",
     "output_type": "stream",
     "text": [
      "This is a string\n",
      "Another string using double quotes\n",
      " string can span\n",
      "        multiple line \n"
     ]
    }
   ],
   "source": [
    "s = 'This is a string'\n",
    "print(s)\n",
    "s = \"Another string using double quotes\"\n",
    "print(s)\n",
    "s = ''' string can span\n",
    "        multiple line '''\n",
    "print(s)"
   ]
  },
  {
   "cell_type": "markdown",
   "metadata": {},
   "source": [
    "# Summary\n",
    "A Python statement ends with a newline character.\n",
    "Python uses spaces and indentation to organize its code structure.\n",
    "Identifiers are names that identify variables, functions, modules, classes, etc. in Python.\n",
    "Comments describe why the code works. They are ignored by the Python interpreter.\n",
    "Use the single quote, double-quotes, triple-quotes, or triple double-quotes to denote"
   ]
  },
  {
   "cell_type": "markdown",
   "metadata": {},
   "source": [
    "# Python Variables\n",
    "\n",
    "Summary: in this tutorial, you’ll learn about Python variables and how to use them effectively.\n",
    "\n",
    "# What is a variable in Python\n",
    "When you develop a program, you need to manage values, a lot of them. To store values, you use variables.\n",
    "\n",
    "In Python, a variable is a label that you can assign a value to it. And a variable is always associated with a value. For example:"
   ]
  },
  {
   "cell_type": "markdown",
   "metadata": {},
   "source": []
  },
  {
   "cell_type": "code",
   "execution_count": 49,
   "metadata": {},
   "outputs": [
    {
     "name": "stdout",
     "output_type": "stream",
     "text": [
      "Hello, World!\n",
      "Good Bye!\n"
     ]
    }
   ],
   "source": [
    "message = 'Hello, World!'\n",
    "print(message)\n",
    "\n",
    "message = 'Good Bye!'\n",
    "print(message)"
   ]
  },
  {
   "cell_type": "markdown",
   "metadata": {},
   "source": [
    "In this example, message is a variable. It holds the string 'Hello, World!'. The print() function shows the message Hello, World! to the screen.\n",
    "\n",
    "The next line assigns the string 'Good Bye!' to the message variable and print its value to the screen.\n",
    "\n",
    "The variable message can hold various values at different times. And its value can change throughout the program.\n",
    "\n",
    "# Creating variables\n",
    "To define a variable, you use the following syntax:"
   ]
  },
  {
   "cell_type": "markdown",
   "metadata": {},
   "source": [
    "# Naming variables\n",
    "When you name a variable, you need to adhere to some rules. If you don’t, you’ll get an error.\n",
    "\n",
    "The following are the variable rules that you should keep in mind:\n",
    "\n",
    "Variable names can contain only letters, numbers, and underscores (_). They can start with a letter or an underscore (_), not with a number.\n",
    "Variable names cannot contain spaces. To separate words in variables, you use underscores for example sorted_list.\n",
    "Variable names cannot be the same as keywords, reserved words, and built-in functions in Python.\n",
    "The following guidelines help you define good variable names:\n",
    "\n",
    "Variable names should be concise and descriptive. For example, the active_user variable is more descriptive than the au.\n",
    "Use underscores (_) to separate multiple words in the variable names.\n",
    "Avoid using the letter l and the uppercase letter O because they look like the number 1 and 0.\n",
    "# Summary\n",
    "A variable is a label that you can assign a value to it. The value of a variable can change throughout the program.\n",
    "Use the variable_name = value to create a variable.\n",
    "The variable names should be as concise and descriptive as possible. Also, they should adhere to Python variable naming rules."
   ]
  },
  {
   "cell_type": "markdown",
   "metadata": {},
   "source": [
    "# Python String\n",
    "\n",
    "Summary: in this tutorial, you’ll learn about Python string and its basic operations.\n",
    "\n",
    "# Introduction to Python string\n",
    "A string is a series of characters. In Python, anything inside quotes is a string. And you can use either single or double quotes. For example:"
   ]
  },
  {
   "cell_type": "markdown",
   "metadata": {},
   "source": []
  },
  {
   "cell_type": "code",
   "execution_count": 51,
   "metadata": {},
   "outputs": [],
   "source": [
    "message = 'This is a string in Python'\n",
    "message = \"This is also a string\""
   ]
  },
  {
   "cell_type": "code",
   "execution_count": 52,
   "metadata": {},
   "outputs": [],
   "source": [
    "message = \"It's a string\""
   ]
  },
  {
   "cell_type": "code",
   "execution_count": 53,
   "metadata": {},
   "outputs": [],
   "source": [
    "message = '\"Beautiful is better than ugly.\". Said Tim Peters'"
   ]
  },
  {
   "cell_type": "code",
   "execution_count": 54,
   "metadata": {},
   "outputs": [],
   "source": [
    "message = 'It\\'s also a valid string'"
   ]
  },
  {
   "cell_type": "code",
   "execution_count": 55,
   "metadata": {},
   "outputs": [],
   "source": [
    "message = r'C:\\python\\bin'"
   ]
  },
  {
   "cell_type": "markdown",
   "metadata": {},
   "source": [
    "# Creating multiline strings\n",
    "To span a string multiple lines, you use triple-quotes “””…””” or ”’…”’. For example:"
   ]
  },
  {
   "cell_type": "code",
   "execution_count": 56,
   "metadata": {},
   "outputs": [
    {
     "name": "stdout",
     "output_type": "stream",
     "text": [
      "\n",
      "Usage: mysql command\n",
      "    -h hostname     \n",
      "    -d database name\n",
      "    -u username\n",
      "    -p password \n",
      "\n"
     ]
    }
   ],
   "source": [
    "help_message = '''\n",
    "Usage: mysql command\n",
    "    -h hostname     \n",
    "    -d database name\n",
    "    -u username\n",
    "    -p password \n",
    "'''\n",
    "\n",
    "print(help_message)"
   ]
  },
  {
   "cell_type": "markdown",
   "metadata": {},
   "source": [
    "# Using variables in Python strings with the f-strings\n",
    "Sometimes, you want to use the values of variables in a string.\n",
    "\n",
    "For example, you may want to use the value of the name variable inside the message string variable:"
   ]
  },
  {
   "cell_type": "code",
   "execution_count": 57,
   "metadata": {},
   "outputs": [],
   "source": [
    "name = 'John'\n",
    "message = 'Hi'"
   ]
  },
  {
   "cell_type": "code",
   "execution_count": 58,
   "metadata": {},
   "outputs": [
    {
     "name": "stdout",
     "output_type": "stream",
     "text": [
      "Hi John\n"
     ]
    }
   ],
   "source": [
    "name = 'John'\n",
    "message = f'Hi {name}'\n",
    "print(message)"
   ]
  },
  {
   "cell_type": "markdown",
   "metadata": {},
   "source": [
    "# Concatenating Python strings\n",
    "When you place the string literals next to each other, Python automatically concatenates them into one string. For example:"
   ]
  },
  {
   "cell_type": "code",
   "execution_count": 59,
   "metadata": {},
   "outputs": [
    {
     "name": "stdout",
     "output_type": "stream",
     "text": [
      "Good Morning!\n"
     ]
    }
   ],
   "source": [
    "greeting = 'Good ' 'Morning!'\n",
    "print(greeting)"
   ]
  },
  {
   "cell_type": "code",
   "execution_count": 60,
   "metadata": {},
   "outputs": [
    {
     "name": "stdout",
     "output_type": "stream",
     "text": [
      "Good Afternoon!\n"
     ]
    }
   ],
   "source": [
    "greeting = 'Good '\n",
    "time = 'Afternoon'\n",
    "\n",
    "greeting = greeting + time + '!'\n",
    "print(greeting)"
   ]
  },
  {
   "cell_type": "code",
   "execution_count": 61,
   "metadata": {},
   "outputs": [
    {
     "name": "stdout",
     "output_type": "stream",
     "text": [
      "P\n",
      "y\n"
     ]
    }
   ],
   "source": [
    "str = \"Python String\"\n",
    "print(str[0]) # P\n",
    "print(str[1]) # y"
   ]
  },
  {
   "cell_type": "code",
   "execution_count": 62,
   "metadata": {},
   "outputs": [
    {
     "name": "stdout",
     "output_type": "stream",
     "text": [
      "g\n",
      "n\n"
     ]
    }
   ],
   "source": [
    "str = \"Python String\"\n",
    "print(str[-1])  # g\n",
    "print(str[-2])  # n"
   ]
  },
  {
   "cell_type": "code",
   "execution_count": 63,
   "metadata": {},
   "outputs": [
    {
     "name": "stdout",
     "output_type": "stream",
     "text": [
      "13\n"
     ]
    }
   ],
   "source": [
    "str = \"Python String\"\n",
    "str_len = len(str)\n",
    "print(str_len)"
   ]
  },
  {
   "cell_type": "code",
   "execution_count": 64,
   "metadata": {},
   "outputs": [
    {
     "name": "stdout",
     "output_type": "stream",
     "text": [
      "Py\n"
     ]
    }
   ],
   "source": [
    "str = \"Python String\"\n",
    "print(str[0:2])"
   ]
  },
  {
   "cell_type": "markdown",
   "metadata": {},
   "source": [
    "# Python strings are immutable\n",
    "Python strings are immutable. It means that you cannot change the string. For example, you’ll get an error if you update one or more characters in a string:"
   ]
  },
  {
   "cell_type": "code",
   "execution_count": 66,
   "metadata": {},
   "outputs": [
    {
     "name": "stdout",
     "output_type": "stream",
     "text": [
      "Jython String\n"
     ]
    }
   ],
   "source": [
    "str = \"Python String\"\n",
    "new_str = 'J' + str[1:]\n",
    "print(new_str)"
   ]
  },
  {
   "cell_type": "markdown",
   "metadata": {},
   "source": [
    "# Python Numbers\n",
    "\n",
    "Summary: in this tutorial, you’ll learn about Python numbers and how to use them in programs.\n",
    "\n",
    "Python supports integers, floats, and complex numbers. This tutorial discusses only integers and floats.\n",
    "\n",
    "Integers\n",
    "The integers are numbers such as -1, 0, 1, 2, and 3, .. and they have type int.\n",
    "\n",
    "You can use Math operators like +, -, *, and / to form expressions that include integers. For example:"
   ]
  },
  {
   "cell_type": "markdown",
   "metadata": {},
   "source": []
  },
  {
   "cell_type": "code",
   "execution_count": 68,
   "metadata": {},
   "outputs": [
    {
     "data": {
      "text/plain": [
       "2.0"
      ]
     },
     "execution_count": 68,
     "metadata": {},
     "output_type": "execute_result"
    }
   ],
   "source": [
    ">>> 20 + 10\n",
    "30\n",
    ">>> 20 - 10\n",
    "10\n",
    ">>> 20 * 10\n",
    "200\n",
    ">>> 20 / 10\n",
    "2.0"
   ]
  },
  {
   "cell_type": "code",
   "execution_count": 69,
   "metadata": {},
   "outputs": [
    {
     "data": {
      "text/plain": [
       "27"
      ]
     },
     "execution_count": 69,
     "metadata": {},
     "output_type": "execute_result"
    }
   ],
   "source": [
    ">>> 3**3"
   ]
  },
  {
   "cell_type": "code",
   "execution_count": 70,
   "metadata": {},
   "outputs": [
    {
     "data": {
      "text/plain": [
       "1.0"
      ]
     },
     "execution_count": 70,
     "metadata": {},
     "output_type": "execute_result"
    }
   ],
   "source": [
    ">>> 20 / (10 + 10)"
   ]
  },
  {
   "cell_type": "markdown",
   "metadata": {},
   "source": [
    "# Floats\n",
    "Any number with a decimal point is a floating-point number. The term float means that the decimal point can appear at any position in a number.\n",
    "\n",
    "In general, you can use floats like integers. For example:"
   ]
  },
  {
   "cell_type": "code",
   "execution_count": 72,
   "metadata": {},
   "outputs": [
    {
     "data": {
      "text/plain": [
       "0.25"
      ]
     },
     "execution_count": 72,
     "metadata": {},
     "output_type": "execute_result"
    }
   ],
   "source": [
    ">>> 0.5 + 0.5\n",
    "1.0\n",
    ">>> 0.5 - 0.5\n",
    "0.0\n",
    ">>> 0.5 / 0.5\n",
    "1.0\n",
    ">>> 0.5 * 0.5\n",
    "0.25"
   ]
  },
  {
   "cell_type": "markdown",
   "metadata": {},
   "source": [
    "# Underscores in numbers\n",
    "When a number is large, it’ll become difficult to read. For example:"
   ]
  },
  {
   "cell_type": "code",
   "execution_count": 73,
   "metadata": {},
   "outputs": [],
   "source": [
    "count = 10000000000"
   ]
  },
  {
   "cell_type": "code",
   "execution_count": 74,
   "metadata": {},
   "outputs": [
    {
     "name": "stdout",
     "output_type": "stream",
     "text": [
      "10000000000\n"
     ]
    }
   ],
   "source": [
    "count = 10_000_000_000\n",
    "print(count)"
   ]
  },
  {
   "cell_type": "markdown",
   "metadata": {},
   "source": [
    "The underscores also work for both integers and floats.\n",
    "\n",
    "Note that the underscores in numbers have been available since Python 3.6\n",
    "\n",
    "# Summary\n",
    "Python supports common numeric types including integers, floats, and complex numbers.\n",
    "Use the underscores to group numbers for the large numbers."
   ]
  },
  {
   "cell_type": "markdown",
   "metadata": {},
   "source": [
    "# Python Boolean\n",
    "\n",
    "Summary: in this tutorial, you’ll learn about the Python boolean data type, falsy and truthy values.\n",
    "\n",
    "# Introduction to Python Boolean data type\n",
    "In programming, you often want to check if a condition is true or not and perform some actions based on the result.\n",
    "\n",
    "To represent true and false, Python provides you with the boolean data type. The boolean value has a technical name as bool.\n",
    "\n",
    "The boolean data type has two values: True and False.\n",
    "\n",
    "Note that the boolean values True and False start with the capital letters (T) and (F).\n",
    "\n",
    "The following example defines two boolean variables:"
   ]
  },
  {
   "cell_type": "markdown",
   "metadata": {},
   "source": []
  },
  {
   "cell_type": "code",
   "execution_count": 75,
   "metadata": {},
   "outputs": [],
   "source": [
    "is_active = True\n",
    "is_admin = False"
   ]
  },
  {
   "cell_type": "code",
   "execution_count": 76,
   "metadata": {},
   "outputs": [
    {
     "data": {
      "text/plain": [
       "False"
      ]
     },
     "execution_count": 76,
     "metadata": {},
     "output_type": "execute_result"
    }
   ],
   "source": [
    ">>> 20 > 10\n",
    "True\n",
    ">>> 20 < 10\n",
    "False"
   ]
  },
  {
   "cell_type": "markdown",
   "metadata": {},
   "source": [
    "# The bool() function\n",
    "To find out if a value is True or False, you use the bool() function. For example:#"
   ]
  },
  {
   "cell_type": "code",
   "execution_count": 77,
   "metadata": {},
   "outputs": [
    {
     "data": {
      "text/plain": [
       "False"
      ]
     },
     "execution_count": 77,
     "metadata": {},
     "output_type": "execute_result"
    }
   ],
   "source": [
    ">>> bool('Hi')\n",
    "True\n",
    ">>> bool('')\n",
    "False\n",
    ">>> bool(100)\n",
    "True\n",
    ">>> bool(0)\n",
    "False"
   ]
  },
  {
   "cell_type": "markdown",
   "metadata": {},
   "source": [
    "As you can see clearly from the output, some values evaluate to True and the others evaluate to False.\n",
    "\n",
    "# Falsy and Truthy values\n",
    "When a value evaluates to True, it’s truthy. And if a value evaluates to False, it’s falsy.\n",
    "\n",
    "The following are falsy values in Python:\n",
    "\n",
    "The number zero (0)\n",
    "An empty string ''\n",
    "False\n",
    "None\n",
    "An empty list []\n",
    "An empty tuple ()\n",
    "An empty dictionary {}\n",
    "The truthy values are the other values that aren’t falsy.\n",
    "\n",
    "Note that you’ll learn more about the None, list, tuple, and dictionary in the upcoming tutorials.\n",
    "\n",
    "# Summary\n",
    "Python boolean data type has two values: True and False.\n",
    "Use the bool() function to test if a value is True or False.\n",
    "The falsy values evaluate to False while the truthy values evaluate to True.\n",
    "Falsy values are the number zero, an empty string, False, None, an empty list, an empty tuple, and an empty dictionary. Truthy values are the values that are not falsy."
   ]
  },
  {
   "cell_type": "markdown",
   "metadata": {},
   "source": [
    "# Python Constants\n",
    "\n",
    "Summary: in this tutorial, you’ll learn how to define Python constants.\n",
    "\n",
    "Sometimes, you may want to store values in variables. But you don’t want to change these values throughout the execution of the program.\n",
    "\n",
    "To do it in other programming languages, you can use constants. The constants are like variables but their values don’t change during the program execution.\n",
    "\n",
    "The bad news is that Python doesn’t support constants.\n",
    "\n",
    "To work around this, you use all capital letters to name a variable to indicate that the variable should be treated as a constant. For example:"
   ]
  },
  {
   "cell_type": "markdown",
   "metadata": {},
   "source": []
  },
  {
   "cell_type": "code",
   "execution_count": 78,
   "metadata": {},
   "outputs": [],
   "source": [
    "FILE_SIZE_LIMIT = 2000"
   ]
  },
  {
   "cell_type": "markdown",
   "metadata": {},
   "source": [
    "# Python Comments\n",
    "\n",
    "Summary: in this tutorial, you’ll learn how to add comments to your code. And you’ll learn various kinds of Python comments including block comments, inline comments, and documentation string.\n",
    "\n",
    "# Introduction to Python comments\n",
    "Sometimes, you want to document the code that you write. For example, you may want to note why a piece of code works. To do it, you use the comments.\n",
    "\n",
    "Typically, you use comments to explain formulas, algorithms, and complex business logic.\n",
    "\n",
    "When executing a program, the Python interpreter ignores the comments and only interprets the code.\n",
    "\n",
    "Python provides three kinds of comments including block comment, inline comment, and documentation string.\n",
    "\n",
    "# Python block comments\n",
    "A block comment explains the code that follows it. Typically, you indent a block comment at the same level as the code block.\n",
    "\n",
    "To create a block comment, you start with a single hash sign (#) followed by a single space and a text string. For example:"
   ]
  },
  {
   "cell_type": "markdown",
   "metadata": {},
   "source": [
    "Python inline comments\n",
    "When you place a comment on the same line as a statement, you’ll have an inline comment.\n",
    "\n",
    "Similar to a block comment, an inline comment begins with a single hash sign (#) and is followed by a space and a text string.\n",
    "\n",
    "The following example illustrates an inline comment:\n",
    "\n",
    "salary = salary * 1.02   # increase salary by 2%\n",
    "Code language: Python (python)\n",
    "Python docstrings\n",
    "A documentation string is a string literal that you put as the first lines in a code block, for example, a function.\n",
    "\n",
    "Unlike a regular comment, a documentation string can be accessed at run-time using  obj.__doc__ attribute where obj is the name of the function.\n",
    "\n",
    "Typically, you use a documentation string to automatically generate the code documentation.\n",
    "\n",
    "Documentation strings is called docstrings.\n",
    "\n",
    "Technically speaking, docstrings are not the comments. They create anonymous variables that reference the strings. Also, they’re not ignored by the Python interpreter.\n",
    "\n",
    "Python provides two kinds of docstrings: one-line docstrings and multi-line docstrings.\n",
    "\n",
    "1) One-line docstrings\n",
    "As its name implies, a one-line docstring fits one line. A one-line docstring begins with triple quotes (\"\"\") and also ends with triple quotes (\"\"\"). Also, there won’t be any blank line either before or after the one-line docstring.\n",
    "\n",
    "The following example illustrates a one-line docstring in the quicksort() function:\n",
    "\n",
    "def quicksort():\n",
    "\"\"\" sort the list using quicksort algorithm \"\"\"\n",
    "...\n",
    "Code language: Python (python)\n",
    "2) Multi-line docstrings\n",
    "Unlike a one-line docstring, a multi-line docstring can span multiple lines. A multi-line docstring also starts with triple quotes (\"\"\") and ends with triple quotes (\"\"\").\n",
    "\n",
    "The following example shows you how to use multi-line docstrings:\n",
    "\n",
    "def increase(salary, percentage, rating):\n",
    "    \"\"\" increase salary base on rating and percentage\n",
    "    rating 1 - 2 no increase\n",
    "    rating 3 - 4 increase 5%\n",
    "    rating 4 - 6 increase 10%\n",
    "    \"\"\"\n",
    "Code language: Python (python)\n",
    "Python multiline comments\n",
    "Python doesn’t support multiline comments.\n",
    "\n",
    "However, you can use multi-line docstrings as multiline comments. Guido van Rossum, the creator of Python, also recommended this.\n",
    "\n",
    "It’s a good practice to keep your comment clear, concise, and explanatory. The ultimate goal is to save time and energy for you and other developers who will work on the code later.\n",
    "\n",
    "Summary\n",
    "Use comments to document your code when necessary.\n",
    "A block comment and inline comment starts with a hash sign (#).\n",
    "Use docstrings for functions, modules, and classes."
   ]
  },
  {
   "cell_type": "markdown",
   "metadata": {},
   "source": []
  },
  {
   "cell_type": "markdown",
   "metadata": {},
   "source": [
    "# Python Type Conversion\n",
    "\n",
    "Summary: in this tutorial, you’ll learn about type conversion in Python and some useful type conversion functions.\n",
    "\n",
    "# Introduction to type conversion in Python\n",
    "To get input from users, you use the input() function. For example:"
   ]
  },
  {
   "cell_type": "code",
   "execution_count": 81,
   "metadata": {},
   "outputs": [
    {
     "name": "stdout",
     "output_type": "stream",
     "text": [
      "\n"
     ]
    }
   ],
   "source": [
    "price = input('Enter the price ($):')\n",
    "tax = input('Enter the tax rate (%):')\n",
    "\n",
    "net_price = price * tax / 100\n",
    "\n",
    "print(f'The net price is ${net_price}')"
   ]
  },
  {
   "cell_type": "markdown",
   "metadata": {},
   "source": [
    "# Other type conversion functions\n",
    "Besides the int(str) functions, Python support other type conversion functions. The following shows the most important ones for now:\n",
    "\n",
    "float(str) – convert a string to a floating-point number.\n",
    "bool(val) – convert a value to a boolean value, either True or False.\n",
    "str(val) – return the string representation of a value.\n",
    "Getting the type of a value\n",
    "To get the type of a value, you use the type(value) function. For example:\n",
    "\n",
    ">>> type(100)\n",
    "<class 'int'>\n",
    ">>> type(2.0)\n",
    "<class 'float'>\n",
    ">>> type('Hello')\n",
    "<class 'str'>\n",
    ">>> type(True)\n",
    "<class 'bool'>\n",
    "Code language: Python (python)\n",
    "As you can see clearly from the output:\n",
    "\n",
    "The number 100 has the type of int.\n",
    "The number 2.0 has the type of float.\n",
    "The string 'Hello' has the type of str.\n",
    "And the True value has the type of bool.\n",
    "In front of each type, you see the class keyword. It isn’t important for now. And you’ll learn more about the class later.\n",
    "\n",
    "# Summary\n",
    "Use the input() function to get an input string from users.\n",
    "Use type conversion functions such as int(), float(), bool(), and str(vaue)to convert a value from one type to another.\n",
    "Use the type() function to get the type of a value."
   ]
  },
  {
   "cell_type": "markdown",
   "metadata": {},
   "source": []
  },
  {
   "cell_type": "markdown",
   "metadata": {},
   "source": [
    "# Python Comparison Operators\n",
    "\n",
    "Summary: in this tutorial, you’ll learn about Python comparison operators and how to use them to compare two values.\n",
    "\n",
    "Introduction to Python comparison operators\n",
    "In programming, you often want to compare a value with another value. To do that, you use comparison operators.\n",
    "\n",
    "# Python has six comparison operators, which are as follows:\n",
    "\n",
    "Less than ( < )\n",
    "Less than or equal to (<=)\n",
    "Greater than (>)\n",
    "Greater than or equal to (>=)\n",
    "Equal to ( == )\n",
    "Not equal to ( != )\n",
    "These comparison operators compare two values and return a boolean value, either True or False.\n",
    "\n",
    "And you can use these comparison operators to compare both numbers and strings.\n",
    "# Less than operator (<)\n",
    "The Less Than operator (<) compares two values and returns True if the value on the left is less than the value on the right. Otherwise, it returns False:"
   ]
  },
  {
   "cell_type": "markdown",
   "metadata": {},
   "source": []
  },
  {
   "cell_type": "code",
   "execution_count": 84,
   "metadata": {},
   "outputs": [
    {
     "ename": "NameError",
     "evalue": "name 'left_value' is not defined",
     "output_type": "error",
     "traceback": [
      "\u001b[1;31m---------------------------------------------------------------------------\u001b[0m",
      "\u001b[1;31mNameError\u001b[0m                                 Traceback (most recent call last)",
      "\u001b[1;32mc:\\Users\\saima\\python-tutorial-12-15.ipynb Cell 130\u001b[0m line \u001b[0;36m1\n\u001b[1;32m----> <a href='vscode-notebook-cell:/c%3A/Users/saima/python-tutorial-12-15.ipynb#Y263sZmlsZQ%3D%3D?line=0'>1</a>\u001b[0m left_value  \u001b[39m<\u001b[39m right_value\n",
      "\u001b[1;31mNameError\u001b[0m: name 'left_value' is not defined"
     ]
    }
   ],
   "source": [
    "left_value  < right_value"
   ]
  },
  {
   "cell_type": "code",
   "execution_count": 86,
   "metadata": {},
   "outputs": [
    {
     "data": {
      "text/plain": [
       "True"
      ]
     },
     "execution_count": 86,
     "metadata": {},
     "output_type": "execute_result"
    }
   ],
   "source": [
    ">>> 10 < 20\n"
   ]
  },
  {
   "cell_type": "code",
   "execution_count": 87,
   "metadata": {},
   "outputs": [
    {
     "data": {
      "text/plain": [
       "False"
      ]
     },
     "execution_count": 87,
     "metadata": {},
     "output_type": "execute_result"
    }
   ],
   "source": [
    "\n",
    ">>> 30 < 20\n",
    "False"
   ]
  },
  {
   "cell_type": "code",
   "execution_count": 88,
   "metadata": {},
   "outputs": [
    {
     "data": {
      "text/plain": [
       "True"
      ]
     },
     "execution_count": 88,
     "metadata": {},
     "output_type": "execute_result"
    }
   ],
   "source": [
    ">>> 'apple' < 'orange'"
   ]
  },
  {
   "cell_type": "code",
   "execution_count": 89,
   "metadata": {},
   "outputs": [
    {
     "data": {
      "text/plain": [
       "False"
      ]
     },
     "execution_count": 89,
     "metadata": {},
     "output_type": "execute_result"
    }
   ],
   "source": [
    ">>> 'banana' < 'apple'"
   ]
  },
  {
   "cell_type": "code",
   "execution_count": 90,
   "metadata": {},
   "outputs": [
    {
     "data": {
      "text/plain": [
       "True"
      ]
     },
     "execution_count": 90,
     "metadata": {},
     "output_type": "execute_result"
    }
   ],
   "source": [
    ">>> x = 10\n",
    ">>> y = 20\n",
    ">>> x < y"
   ]
  },
  {
   "cell_type": "code",
   "execution_count": 91,
   "metadata": {},
   "outputs": [
    {
     "data": {
      "text/plain": [
       "False"
      ]
     },
     "execution_count": 91,
     "metadata": {},
     "output_type": "execute_result"
    }
   ],
   "source": [
    ">>> y < x"
   ]
  },
  {
   "cell_type": "markdown",
   "metadata": {},
   "source": [
    "# Less than or equal to operator (<=)\n",
    "The less than or equal to operator compares two values and returns True if the left value is less than or equal to the right value. Otherwise, it returns False:"
   ]
  },
  {
   "cell_type": "code",
   "execution_count": 92,
   "metadata": {},
   "outputs": [
    {
     "data": {
      "text/plain": [
       "True"
      ]
     },
     "execution_count": 92,
     "metadata": {},
     "output_type": "execute_result"
    }
   ],
   "source": [
    ">>> 20 <= 20"
   ]
  },
  {
   "cell_type": "code",
   "execution_count": 93,
   "metadata": {},
   "outputs": [
    {
     "data": {
      "text/plain": [
       "True"
      ]
     },
     "execution_count": 93,
     "metadata": {},
     "output_type": "execute_result"
    }
   ],
   "source": [
    ">>> 10 <= 20"
   ]
  },
  {
   "cell_type": "code",
   "execution_count": 94,
   "metadata": {},
   "outputs": [
    {
     "data": {
      "text/plain": [
       "True"
      ]
     },
     "execution_count": 94,
     "metadata": {},
     "output_type": "execute_result"
    }
   ],
   "source": [
    ">>> x = 10\n",
    ">>> y = 20\n",
    ">>> x <= y"
   ]
  },
  {
   "cell_type": "markdown",
   "metadata": {},
   "source": [
    "# Greater than operator (>)\n",
    "The greater than operator (>) compares two values and returns True if the left value is greater than the right value. Otherwise, it returns False:"
   ]
  },
  {
   "cell_type": "code",
   "execution_count": 95,
   "metadata": {},
   "outputs": [
    {
     "data": {
      "text/plain": [
       "True"
      ]
     },
     "execution_count": 95,
     "metadata": {},
     "output_type": "execute_result"
    }
   ],
   "source": [
    ">>> 20 > 10"
   ]
  },
  {
   "cell_type": "code",
   "execution_count": 96,
   "metadata": {},
   "outputs": [
    {
     "data": {
      "text/plain": [
       "False"
      ]
     },
     "execution_count": 96,
     "metadata": {},
     "output_type": "execute_result"
    }
   ],
   "source": [
    ">>> 'apple' > 'orange'"
   ]
  },
  {
   "cell_type": "markdown",
   "metadata": {},
   "source": [
    "# Greater Than or Equal To operator (>=)\n",
    "The greater than or equal to operator (>=) compares two values and returns True if the left value is greater than or equal to the right value. Otherwise, it returns False:"
   ]
  },
  {
   "cell_type": "code",
   "execution_count": 97,
   "metadata": {},
   "outputs": [
    {
     "data": {
      "text/plain": [
       "True"
      ]
     },
     "execution_count": 97,
     "metadata": {},
     "output_type": "execute_result"
    }
   ],
   "source": [
    ">>> 20 >= 10"
   ]
  },
  {
   "cell_type": "code",
   "execution_count": 98,
   "metadata": {},
   "outputs": [
    {
     "data": {
      "text/plain": [
       "True"
      ]
     },
     "execution_count": 98,
     "metadata": {},
     "output_type": "execute_result"
    }
   ],
   "source": [
    ">>> 'apple' >= 'apple'"
   ]
  },
  {
   "cell_type": "markdown",
   "metadata": {},
   "source": [
    "# Equal To operator (==)\n",
    "The equal to operator (==) compares two values and returns True if the left value is equal to the right value. Otherwise, it returns False :"
   ]
  },
  {
   "cell_type": "code",
   "execution_count": 99,
   "metadata": {},
   "outputs": [
    {
     "data": {
      "text/plain": [
       "False"
      ]
     },
     "execution_count": 99,
     "metadata": {},
     "output_type": "execute_result"
    }
   ],
   "source": [
    ">>> 20 == 10"
   ]
  },
  {
   "cell_type": "code",
   "execution_count": 100,
   "metadata": {},
   "outputs": [
    {
     "data": {
      "text/plain": [
       "True"
      ]
     },
     "execution_count": 100,
     "metadata": {},
     "output_type": "execute_result"
    }
   ],
   "source": [
    ">>> 'apple' == 'apple'"
   ]
  },
  {
   "cell_type": "markdown",
   "metadata": {},
   "source": [
    "# Not Equal To operator (!=)\n",
    "The not equal to operator (!=) compares two values and returns True if the left value isn’t equal to the right value. Otherwise, it returns False."
   ]
  },
  {
   "cell_type": "code",
   "execution_count": 101,
   "metadata": {},
   "outputs": [
    {
     "data": {
      "text/plain": [
       "False"
      ]
     },
     "execution_count": 101,
     "metadata": {},
     "output_type": "execute_result"
    }
   ],
   "source": [
    ">>> 20 != 20"
   ]
  },
  {
   "cell_type": "code",
   "execution_count": 102,
   "metadata": {},
   "outputs": [
    {
     "data": {
      "text/plain": [
       "True"
      ]
     },
     "execution_count": 102,
     "metadata": {},
     "output_type": "execute_result"
    }
   ],
   "source": [
    ">>> 'apple' != 'orange'"
   ]
  },
  {
   "cell_type": "markdown",
   "metadata": {},
   "source": [
    "# Python Logical Operators\n",
    "\n",
    "Summary: in this tutorial, you’ll learn about Python logical operators and how to use them to combine multiple conditions.\n",
    "\n",
    "# Introduction to Python logical operators\n",
    "Sometimes, you may want to check multiple conditions at the same time. To do so, you use logical operators.\n",
    "\n",
    "# Python has three logical operators:\n",
    "\n",
    "and\n",
    "or\n",
    "not\n",
    "# The and operator\n",
    "The and operator checks whether two conditions are both True simultaneously:"
   ]
  },
  {
   "cell_type": "code",
   "execution_count": 103,
   "metadata": {},
   "outputs": [
    {
     "data": {
      "text/plain": [
       "True"
      ]
     },
     "execution_count": 103,
     "metadata": {},
     "output_type": "execute_result"
    }
   ],
   "source": [
    ">>> price = 9.99\n",
    ">>> price > 9 and price < 10"
   ]
  },
  {
   "cell_type": "markdown",
   "metadata": {},
   "source": [
    "# The or operator\n",
    "Similar to the and operator, the or operator checks multiple conditions. But it returns True when either or both individual conditions are True:"
   ]
  },
  {
   "cell_type": "code",
   "execution_count": 104,
   "metadata": {},
   "outputs": [
    {
     "data": {
      "text/plain": [
       "True"
      ]
     },
     "execution_count": 104,
     "metadata": {},
     "output_type": "execute_result"
    }
   ],
   "source": [
    ">>> price = 9.99\n",
    ">>> price > 10 or price < 20"
   ]
  },
  {
   "cell_type": "markdown",
   "metadata": {},
   "source": [
    "# The not operator\n",
    "The not operator applies to one condition. And it reverses the result of that condition, True becomes False and False becomes True."
   ]
  },
  {
   "cell_type": "code",
   "execution_count": 105,
   "metadata": {},
   "outputs": [
    {
     "data": {
      "text/plain": [
       "True"
      ]
     },
     "execution_count": 105,
     "metadata": {},
     "output_type": "execute_result"
    }
   ],
   "source": [
    ">>> price = 9.99\n",
    ">>> not price > 10"
   ]
  },
  {
   "cell_type": "markdown",
   "metadata": {},
   "source": [
    "# Precedence of Logical Operators\n",
    "When you mix the logical operators in an expression, Python will evaluate them in the order which is called the operator precedence.\n",
    "\n",
    "The following shows the precedence of the not, and, and or operators:\n",
    "\n",
    "Operator\tPrecedence\n",
    "not\tHigh\n",
    "and\tMedium\n",
    "or\tLow\n",
    "Based on these precedences, Python will group the operands for the operator with the highest precedence first, then group the operands for the operator with the lower precedence, and so on.\n",
    "\n",
    "In case an expression has several logical operators with the same precedence, Python will evaluate them from the left to right:"
   ]
  },
  {
   "cell_type": "markdown",
   "metadata": {},
   "source": []
  },
  {
   "cell_type": "markdown",
   "metadata": {},
   "source": [
    "# Python if Statement\n",
    "\n",
    "Summary: in this tutorial, you’ll learn how to use the Python if statement to execute a block of code based on a condition.\n",
    "\n",
    "# The simple Python if statement\n",
    "You use the if statement to execute a block of code based on a specified condition.\n",
    "\n",
    "The syntax of the if statement is as follows:"
   ]
  },
  {
   "cell_type": "code",
   "execution_count": 106,
   "metadata": {},
   "outputs": [
    {
     "name": "stdout",
     "output_type": "stream",
     "text": [
      "You're eligible to vote.\n"
     ]
    }
   ],
   "source": [
    "age = input('Enter your age:')\n",
    "if int(age) >= 18:\n",
    "    print(\"You're eligible to vote.\")"
   ]
  },
  {
   "cell_type": "markdown",
   "metadata": {},
   "source": [
    "# Python if…else statement\n",
    "Typically, you want to perform an action when a condition is True and another action when the condition is False.\n",
    "\n",
    "To do so, you use the if...else statement.\n",
    "\n",
    "The following shows the syntax of the if...else statement:"
   ]
  },
  {
   "cell_type": "code",
   "execution_count": 107,
   "metadata": {},
   "outputs": [
    {
     "name": "stdout",
     "output_type": "stream",
     "text": [
      "You're eligible to vote.\n"
     ]
    }
   ],
   "source": [
    "age = input('Enter your age:')\n",
    "if int(age) >= 18:\n",
    "    print(\"You're eligible to vote.\")\n",
    "else:\n",
    "    print(\"You're not eligible to vote.\")"
   ]
  },
  {
   "cell_type": "markdown",
   "metadata": {},
   "source": [
    "# Python if…elif…else statement\n",
    "If you want to check multiple conditions and perform an action accordingly, you can use the if...elif...else statement. The elif stands for else if.\n",
    "\n",
    "Here is the syntax if the if...elif...else statement:"
   ]
  },
  {
   "cell_type": "code",
   "execution_count": 108,
   "metadata": {},
   "outputs": [
    {
     "name": "stdout",
     "output_type": "stream",
     "text": [
      "You'll pay $10 for the ticket\n"
     ]
    }
   ],
   "source": [
    "age = input('Enter your age:')\n",
    "\n",
    "# convert the string to int\n",
    "your_age = int(age)\n",
    "\n",
    "# determine the ticket price\n",
    "if your_age < 5:\n",
    "    ticket_price = 5\n",
    "elif your_age < 16:\n",
    "    ticket_price = 10\n",
    "else:\n",
    "    ticket_price = 18\n",
    "\n",
    "# show the ticket price\n",
    "print(f\"You'll pay ${ticket_price} for the ticket\")"
   ]
  },
  {
   "cell_type": "markdown",
   "metadata": {},
   "source": [
    "# Python Ternary Operator\n",
    "\n",
    "Summary: in this tutorial, you’ll learn about the Python ternary operator and how to use it to make your code more concise.\n",
    "\n",
    "# Introduction to Python Ternary Operator\n",
    "The following program prompts you for your age and determines the ticket price based on it:"
   ]
  },
  {
   "cell_type": "markdown",
   "metadata": {},
   "source": []
  },
  {
   "cell_type": "code",
   "execution_count": 109,
   "metadata": {},
   "outputs": [
    {
     "name": "stdout",
     "output_type": "stream",
     "text": [
      "The ticket price is 20\n"
     ]
    }
   ],
   "source": [
    "age = input('Enter your age:')\n",
    "\n",
    "if int(age) >= 18:\n",
    "    ticket_price = 20\n",
    "else:\n",
    "    ticket_price = 5\n",
    "\n",
    "print(f\"The ticket price is {ticket_price}\")"
   ]
  },
  {
   "cell_type": "code",
   "execution_count": 110,
   "metadata": {},
   "outputs": [],
   "source": [
    "if int(age) >= 18:\n",
    "    ticket_price = 20\n",
    "else:\n",
    "    ticket_price = 5"
   ]
  },
  {
   "cell_type": "markdown",
   "metadata": {},
   "source": [
    "# Python for Loop with Range\n",
    "\n",
    "Summary: in this tutorial, you’ll learn about the Python for loop and how to use it to execute a code block a fixed number of times.\n",
    "\n",
    "# Introduction to Python for loop statement with the range() function\n",
    "In programming, you often want to execute a block of code multiple times. To do so, you use a for loop.\n",
    "\n",
    "The following illustrates the syntax of a for loop:"
   ]
  },
  {
   "cell_type": "code",
   "execution_count": 111,
   "metadata": {},
   "outputs": [
    {
     "name": "stdout",
     "output_type": "stream",
     "text": [
      "0\n",
      "1\n",
      "2\n",
      "3\n",
      "4\n"
     ]
    }
   ],
   "source": [
    "for index in range(5):\n",
    "    print(index)"
   ]
  },
  {
   "cell_type": "code",
   "execution_count": 112,
   "metadata": {},
   "outputs": [
    {
     "name": "stdout",
     "output_type": "stream",
     "text": [
      "1\n",
      "2\n",
      "3\n",
      "4\n",
      "5\n"
     ]
    }
   ],
   "source": [
    "for index in range(1, 6):\n",
    "    print(index)"
   ]
  },
  {
   "cell_type": "code",
   "execution_count": 113,
   "metadata": {},
   "outputs": [
    {
     "name": "stdout",
     "output_type": "stream",
     "text": [
      "0\n",
      "2\n",
      "4\n",
      "6\n",
      "8\n",
      "10\n"
     ]
    }
   ],
   "source": [
    "for index in range(0, 11, 2):\n",
    "    print(index)"
   ]
  },
  {
   "cell_type": "code",
   "execution_count": 114,
   "metadata": {},
   "outputs": [
    {
     "name": "stdout",
     "output_type": "stream",
     "text": [
      "5050\n"
     ]
    }
   ],
   "source": [
    "sum = 0\n",
    "for num in range(101):\n",
    "    sum += num\n",
    "\n",
    "print(sum)"
   ]
  },
  {
   "cell_type": "code",
   "execution_count": 115,
   "metadata": {},
   "outputs": [
    {
     "name": "stdout",
     "output_type": "stream",
     "text": [
      "5050.0\n"
     ]
    }
   ],
   "source": [
    "n = 100\n",
    "sum = n * (n+1)/2\n",
    "print(sum)"
   ]
  },
  {
   "cell_type": "markdown",
   "metadata": {},
   "source": [
    "# Python while\n",
    "\n",
    "Summary: in this tutorial, you’ll learn about the Python while statement and how to use it to run a code block as long as a condition is true.\n",
    "\n",
    "# Introduction to the Python while statement\n",
    "Python while statement allows you to execute a code block repeatedly as long as a condition is True.\n",
    "\n",
    "The following shows the syntax of the Python while statement:"
   ]
  },
  {
   "cell_type": "markdown",
   "metadata": {},
   "source": [
    "# Python while statement examples\n",
    "Let’s take some examples of using the Python while statement.\n",
    "\n",
    "# 1) Simple Python while statement example\n",
    "The following example uses a while statement to show 5 numbers from 0 to 4 to the screen:"
   ]
  },
  {
   "cell_type": "code",
   "execution_count": 116,
   "metadata": {},
   "outputs": [
    {
     "name": "stdout",
     "output_type": "stream",
     "text": [
      "0\n",
      "1\n",
      "2\n",
      "3\n",
      "4\n"
     ]
    }
   ],
   "source": [
    "max = 5\n",
    "counter = 0\n",
    "\n",
    "while counter < max:\n",
    "    print(counter)\n",
    "    counter += 1"
   ]
  },
  {
   "cell_type": "markdown",
   "metadata": {},
   "source": [
    "# Python break\n",
    "\n",
    "Summary: in this tutorial, you’ll learn about the Python break statement and how to use it to exit a loop prematurely.\n",
    "\n",
    "# Introduction to the Python break statement\n",
    "Sometimes, you want to terminate a for loop or a while loop prematurely regardless of the results of the conditional tests. In these cases, you can use the break statement:\n",
    "\n",
    "break"
   ]
  },
  {
   "cell_type": "code",
   "execution_count": 118,
   "metadata": {},
   "outputs": [
    {
     "name": "stdout",
     "output_type": "stream",
     "text": [
      "0\n",
      "1\n",
      "2\n",
      "3\n"
     ]
    }
   ],
   "source": [
    "for index in range(0, 10):\n",
    "    print(index)\n",
    "    if index == 3:\n",
    "        break"
   ]
  },
  {
   "cell_type": "code",
   "execution_count": 119,
   "metadata": {},
   "outputs": [
    {
     "name": "stdout",
     "output_type": "stream",
     "text": [
      "(0,0)\n",
      "(0,1)\n",
      "(1,0)\n",
      "(1,1)\n",
      "(2,0)\n",
      "(2,1)\n",
      "(3,0)\n",
      "(3,1)\n",
      "(4,0)\n",
      "(4,1)\n"
     ]
    }
   ],
   "source": [
    "for x in range(5):\n",
    "    for y in range(5):\n",
    "        # terminate the innermost loop\n",
    "        if y > 1:\n",
    "            break\n",
    "        # show coordinates on the screen\n",
    "        print(f\"({x},{y})\")"
   ]
  },
  {
   "cell_type": "markdown",
   "metadata": {},
   "source": [
    "# Python continue\n",
    "\n",
    "Summary: in this tutorial, you’ll learn about the Python continue statement and how to use it to control the loop.\n",
    "\n",
    "# Introduction to the Python continue statement\n",
    "The continue statement is used inside a for loop or a while loop. The continue statement skips the current iteration and starts the next one.\n",
    "\n",
    "Typically, you use the continue statement with an if statement to skip the current iteration once a condition is True.\n",
    "\n",
    "The following shows how to use the continue statement in a for loop:"
   ]
  },
  {
   "cell_type": "code",
   "execution_count": 1,
   "metadata": {},
   "outputs": [
    {
     "name": "stdout",
     "output_type": "stream",
     "text": [
      "0\n",
      "2\n",
      "4\n",
      "6\n",
      "8\n"
     ]
    }
   ],
   "source": [
    "for index in range(10):\n",
    "    if index % 2:\n",
    "        continue\n",
    "\n",
    "    print(index)"
   ]
  },
  {
   "cell_type": "code",
   "execution_count": 2,
   "metadata": {},
   "outputs": [
    {
     "name": "stdout",
     "output_type": "stream",
     "text": [
      "1\n",
      "3\n",
      "5\n",
      "7\n",
      "9\n"
     ]
    }
   ],
   "source": [
    "counter = 0\n",
    "while counter < 10:\n",
    "    counter += 1\n",
    "\n",
    "    if not counter % 2:\n",
    "        continue\n",
    "\n",
    "    print(counter)"
   ]
  },
  {
   "cell_type": "markdown",
   "metadata": {},
   "source": [
    "# Python pass\n",
    "\n",
    "Summary: in this tutorial, you’ll learn how to use the Python pass statement as a placeholder.\n",
    "\n",
    "# Introduction to the Python pass statement\n",
    "Suppose that you have the following if...else statement:"
   ]
  },
  {
   "cell_type": "markdown",
   "metadata": {},
   "source": []
  },
  {
   "cell_type": "code",
   "execution_count": 4,
   "metadata": {},
   "outputs": [],
   "source": [
    "for i in range(1,100):\n",
    "    pass"
   ]
  },
  {
   "cell_type": "markdown",
   "metadata": {},
   "source": [
    "# Python Functions\n",
    "\n",
    "Summary: in this tutorial, you’ll learn to develop Python functions by using the def keyword.\n",
    "\n",
    "# What is a function\n",
    "A function is a named code block that performs a job or returns a value.\n",
    "\n",
    "Why do you need functions in Python\n",
    "Sometimes, you need to perform a task multiple times in a program. And you don’t want to copy the code for that same task all over places.\n",
    "\n",
    "To do so, you wrap the code in a function and use this function to perform the task whenever you need it.\n",
    "\n",
    "For example, whenever you want to display a value on the screen, you need to call the print() function. Behind the scene, Python runs the code inside the print() function to display a value on the screen.\n",
    "\n",
    "In practice, you use functions to divide a large program into smaller and more manageable parts. The functions will make your program easier to develop, read, test, and maintain.\n",
    "\n",
    "The print() function is one of many built-in functions in Python. It means that these functions are available everywhere in the program.\n",
    "\n",
    "In this tutorial, you’ll learn how to define user-defined Python functions.\n",
    "\n",
    "# Defining a Python function\n",
    "Here’s a simple function that shows a greeting:"
   ]
  },
  {
   "cell_type": "code",
   "execution_count": 6,
   "metadata": {},
   "outputs": [],
   "source": [
    "def greet(name):\n",
    "    print(f\"Hi {name}\")"
   ]
  },
  {
   "cell_type": "code",
   "execution_count": 7,
   "metadata": {},
   "outputs": [
    {
     "name": "stdout",
     "output_type": "stream",
     "text": [
      "Hi John\n"
     ]
    }
   ],
   "source": [
    "greet('John')"
   ]
  },
  {
   "cell_type": "code",
   "execution_count": 8,
   "metadata": {},
   "outputs": [
    {
     "name": "stdout",
     "output_type": "stream",
     "text": [
      "Hi Jane\n"
     ]
    }
   ],
   "source": [
    "first_name = 'Jane'\n",
    "greet(first_name)"
   ]
  },
  {
   "cell_type": "markdown",
   "metadata": {},
   "source": [
    "# Parameters vs. Arguments\n",
    "Sometimes, parameters and arguments are used interchangeably. It’s important to distinguish between the parameters and arguments of a function.\n",
    "\n",
    "A parameter is a piece of information that a function needs. And you specify the parameter in the function definition. For example, the greet() function has a parameter called name.\n",
    "\n",
    "An argument is a piece of data that you pass into the function. For example, the text string 'John' or the variable jane is the function argument.\n",
    "\n",
    "# Returning a value\n",
    "A function can perform a task like the greet() function. Or it can return a value. The value that a function returns is called a return value.\n",
    "\n",
    "To return a value from a function, you use the return statement inside the function body."
   ]
  },
  {
   "cell_type": "code",
   "execution_count": 9,
   "metadata": {},
   "outputs": [
    {
     "name": "stdout",
     "output_type": "stream",
     "text": [
      "30\n"
     ]
    }
   ],
   "source": [
    "def sum(a, b):\n",
    "    return a + b\n",
    "\n",
    "\n",
    "total = sum(10,20)\n",
    "print(total)"
   ]
  },
  {
   "cell_type": "markdown",
   "metadata": {},
   "source": [
    "# Python Default Parameters\n",
    "\n",
    "Summary: in this tutorial, you’ll learn about the Python default parameters to simplify function calls.\n",
    "\n",
    "# Introduction to Python default parameters\n",
    "When you define a function, you can specify a default value for each parameter.\n",
    "\n",
    "To specify default values for parameters, you use the following syntax:"
   ]
  },
  {
   "cell_type": "code",
   "execution_count": 10,
   "metadata": {},
   "outputs": [
    {
     "name": "stdout",
     "output_type": "stream",
     "text": [
      "Hello John\n"
     ]
    }
   ],
   "source": [
    "def greet(name, message='Hi'):\n",
    "    return f\"{message} {name}\"\n",
    "\n",
    "\n",
    "greeting = greet('John', 'Hello')\n",
    "print(greeting)"
   ]
  },
  {
   "cell_type": "code",
   "execution_count": 11,
   "metadata": {},
   "outputs": [
    {
     "name": "stdout",
     "output_type": "stream",
     "text": [
      "Hi John\n"
     ]
    }
   ],
   "source": [
    "def greet(name, message='Hi'):\n",
    "    return f\"{message} {name}\"\n",
    "\n",
    "\n",
    "greeting = greet('John')\n",
    "print(greeting)"
   ]
  },
  {
   "cell_type": "markdown",
   "metadata": {},
   "source": [
    "# Multiple default parameters"
   ]
  },
  {
   "cell_type": "code",
   "execution_count": 12,
   "metadata": {},
   "outputs": [],
   "source": [
    "def greet(name='there', message='Hi'):\n",
    "    return f\"{message} {name}\""
   ]
  },
  {
   "cell_type": "code",
   "execution_count": 13,
   "metadata": {},
   "outputs": [
    {
     "name": "stdout",
     "output_type": "stream",
     "text": [
      "Hi there\n"
     ]
    }
   ],
   "source": [
    "def greet(name='there', message='Hi'):\n",
    "    return f\"{message} {name}\"\n",
    "\n",
    "\n",
    "greeting = greet()\n",
    "print(greeting)"
   ]
  },
  {
   "cell_type": "code",
   "execution_count": 14,
   "metadata": {},
   "outputs": [
    {
     "name": "stdout",
     "output_type": "stream",
     "text": [
      "Hi Hello\n"
     ]
    }
   ],
   "source": [
    "def greet(name='there', message='Hi'):\n",
    "    return f\"{message} {name}\"\n",
    "\n",
    "\n",
    "greeting = greet('Hello')\n",
    "print(greeting)"
   ]
  },
  {
   "cell_type": "code",
   "execution_count": 16,
   "metadata": {},
   "outputs": [
    {
     "name": "stdout",
     "output_type": "stream",
     "text": [
      "Hello there\n"
     ]
    }
   ],
   "source": [
    "def greet(name='there', message='Hi'):\n",
    "    return f\"{message} {name}\"\n",
    "\n",
    "\n",
    "greeting = greet(message='Hello')\n",
    "print(greeting)"
   ]
  },
  {
   "cell_type": "markdown",
   "metadata": {},
   "source": [
    "# Python Keyword Arguments\n",
    "\n",
    "Summary: in this tutorial, you’ll learn about the Python keyword arguments, and how to use them to make function calls more obvious.\n",
    "\n",
    "# Introduction to the Python keyword arguments\n",
    "Let’s start with a simple function that calculates the net price from the selling price and discount:"
   ]
  },
  {
   "cell_type": "markdown",
   "metadata": {},
   "source": []
  },
  {
   "cell_type": "code",
   "execution_count": 17,
   "metadata": {},
   "outputs": [],
   "source": [
    "def get_net_price(price, discount):\n",
    "    return price * (1-discount)"
   ]
  },
  {
   "cell_type": "code",
   "execution_count": 18,
   "metadata": {},
   "outputs": [
    {
     "name": "stdout",
     "output_type": "stream",
     "text": [
      "90.0\n"
     ]
    }
   ],
   "source": [
    "net_price = get_net_price(100, 0.1)\n",
    "print(net_price)"
   ]
  },
  {
   "cell_type": "code",
   "execution_count": 19,
   "metadata": {},
   "outputs": [
    {
     "name": "stdout",
     "output_type": "stream",
     "text": [
      "-9.9\n"
     ]
    }
   ],
   "source": [
    "net_price = get_net_price(0.1, 100)\n",
    "print(net_price)"
   ]
  },
  {
   "cell_type": "code",
   "execution_count": 20,
   "metadata": {},
   "outputs": [],
   "source": [
    "def get_net_price(price, tax=0.07, discount=0.05):\n",
    "    return price * (1 + tax - discount)"
   ]
  },
  {
   "cell_type": "code",
   "execution_count": 21,
   "metadata": {},
   "outputs": [],
   "source": [
    "net_price = get_net_price(100, 0.06)"
   ]
  },
  {
   "cell_type": "code",
   "execution_count": 22,
   "metadata": {},
   "outputs": [
    {
     "name": "stdout",
     "output_type": "stream",
     "text": [
      "101.0\n"
     ]
    }
   ],
   "source": [
    "net_price = get_net_price(price=100, discount=0.06)\n",
    "print(net_price)"
   ]
  },
  {
   "cell_type": "code",
   "execution_count": 23,
   "metadata": {},
   "outputs": [
    {
     "name": "stdout",
     "output_type": "stream",
     "text": [
      "101.0\n"
     ]
    }
   ],
   "source": [
    "net_price = get_net_price(100, discount=0.06)\n",
    "print(net_price)"
   ]
  },
  {
   "cell_type": "markdown",
   "metadata": {},
   "source": [
    "# Python Recursive Functions\n",
    "\n",
    "Summary: in this tutorial, you’ll learn about Python recursive functions and how to use them to simplify your code.\n",
    "\n",
    "# Introduction to recursive functions\n",
    "A recursive function is a function that calls itself until it doesn’t.\n",
    "\n",
    "The following fn() function is a recursive function because it has a call to itself:"
   ]
  },
  {
   "cell_type": "code",
   "execution_count": 25,
   "metadata": {},
   "outputs": [],
   "source": [
    "def count_down(start):\n",
    "    \"\"\" Count down from a number  \"\"\"\n",
    "    print(start)"
   ]
  },
  {
   "cell_type": "code",
   "execution_count": 26,
   "metadata": {},
   "outputs": [
    {
     "name": "stdout",
     "output_type": "stream",
     "text": [
      "3\n"
     ]
    }
   ],
   "source": [
    "count_down(3)"
   ]
  },
  {
   "cell_type": "code",
   "execution_count": 27,
   "metadata": {},
   "outputs": [
    {
     "name": "stdout",
     "output_type": "stream",
     "text": [
      "3\n",
      "2\n",
      "1\n",
      "0\n",
      "-1\n",
      "-2\n",
      "-3\n",
      "-4\n",
      "-5\n",
      "-6\n",
      "-7\n",
      "-8\n",
      "-9\n",
      "-10\n",
      "-11\n",
      "-12\n",
      "-13\n",
      "-14\n",
      "-15\n",
      "-16\n",
      "-17\n",
      "-18\n",
      "-19\n",
      "-20\n",
      "-21\n",
      "-22\n",
      "-23\n",
      "-24\n",
      "-25\n",
      "-26\n",
      "-27\n",
      "-28\n",
      "-29\n",
      "-30\n",
      "-31\n",
      "-32\n",
      "-33\n",
      "-34\n",
      "-35\n",
      "-36\n",
      "-37\n",
      "-38\n",
      "-39\n",
      "-40\n",
      "-41\n",
      "-42\n",
      "-43\n",
      "-44\n",
      "-45\n",
      "-46\n",
      "-47\n",
      "-48\n",
      "-49\n",
      "-50\n",
      "-51\n",
      "-52\n",
      "-53\n",
      "-54\n",
      "-55\n",
      "-56\n",
      "-57\n",
      "-58\n",
      "-59\n",
      "-60\n",
      "-61\n",
      "-62\n",
      "-63\n",
      "-64\n",
      "-65\n",
      "-66\n",
      "-67\n",
      "-68\n",
      "-69\n",
      "-70\n",
      "-71\n",
      "-72\n",
      "-73\n",
      "-74\n",
      "-75\n",
      "-76\n",
      "-77\n",
      "-78\n",
      "-79\n",
      "-80\n",
      "-81\n",
      "-82\n",
      "-83\n",
      "-84\n",
      "-85\n",
      "-86\n",
      "-87\n",
      "-88\n",
      "-89\n",
      "-90\n",
      "-91\n",
      "-92\n",
      "-93\n",
      "-94\n",
      "-95\n",
      "-96\n",
      "-97\n",
      "-98\n",
      "-99\n",
      "-100\n",
      "-101\n",
      "-102\n",
      "-103\n",
      "-104\n",
      "-105\n",
      "-106\n",
      "-107\n",
      "-108\n",
      "-109\n",
      "-110\n",
      "-111\n",
      "-112\n",
      "-113\n",
      "-114\n",
      "-115\n",
      "-116\n",
      "-117\n",
      "-118\n",
      "-119\n",
      "-120\n",
      "-121\n",
      "-122\n",
      "-123\n",
      "-124\n",
      "-125\n",
      "-126\n",
      "-127\n",
      "-128\n",
      "-129\n",
      "-130\n",
      "-131\n",
      "-132\n",
      "-133\n",
      "-134\n",
      "-135\n",
      "-136\n",
      "-137\n",
      "-138\n",
      "-139\n",
      "-140\n",
      "-141\n",
      "-142\n",
      "-143\n",
      "-144\n",
      "-145\n",
      "-146\n",
      "-147\n",
      "-148\n",
      "-149\n",
      "-150\n",
      "-151\n",
      "-152\n",
      "-153\n",
      "-154\n",
      "-155\n",
      "-156\n",
      "-157\n",
      "-158\n",
      "-159\n",
      "-160\n",
      "-161\n",
      "-162\n",
      "-163\n",
      "-164\n",
      "-165\n",
      "-166\n",
      "-167\n",
      "-168\n",
      "-169\n",
      "-170\n",
      "-171\n",
      "-172\n",
      "-173\n",
      "-174\n",
      "-175\n",
      "-176\n",
      "-177\n",
      "-178\n",
      "-179\n",
      "-180\n",
      "-181\n",
      "-182\n",
      "-183\n",
      "-184\n",
      "-185\n",
      "-186\n",
      "-187\n",
      "-188\n",
      "-189\n",
      "-190\n",
      "-191\n",
      "-192\n",
      "-193\n",
      "-194\n",
      "-195\n",
      "-196\n",
      "-197\n",
      "-198\n",
      "-199\n",
      "-200\n",
      "-201\n",
      "-202\n",
      "-203\n",
      "-204\n",
      "-205\n",
      "-206\n",
      "-207\n",
      "-208\n",
      "-209\n",
      "-210\n",
      "-211\n",
      "-212\n",
      "-213\n",
      "-214\n",
      "-215\n",
      "-216\n",
      "-217\n",
      "-218\n",
      "-219\n",
      "-220\n",
      "-221\n",
      "-222\n",
      "-223\n",
      "-224\n",
      "-225\n",
      "-226\n",
      "-227\n",
      "-228\n",
      "-229\n",
      "-230\n",
      "-231\n",
      "-232\n",
      "-233\n",
      "-234\n",
      "-235\n",
      "-236\n",
      "-237\n",
      "-238\n",
      "-239\n",
      "-240\n",
      "-241\n",
      "-242\n",
      "-243\n",
      "-244\n",
      "-245\n",
      "-246\n",
      "-247\n",
      "-248\n",
      "-249\n",
      "-250\n",
      "-251\n",
      "-252\n",
      "-253\n",
      "-254\n",
      "-255\n",
      "-256\n",
      "-257\n",
      "-258\n",
      "-259\n",
      "-260\n",
      "-261\n",
      "-262\n",
      "-263\n",
      "-264\n",
      "-265\n",
      "-266\n",
      "-267\n",
      "-268\n",
      "-269\n",
      "-270\n",
      "-271\n",
      "-272\n",
      "-273\n",
      "-274\n",
      "-275\n",
      "-276\n",
      "-277\n",
      "-278\n",
      "-279\n",
      "-280\n",
      "-281\n",
      "-282\n",
      "-283\n",
      "-284\n",
      "-285\n",
      "-286\n",
      "-287\n",
      "-288\n",
      "-289\n",
      "-290\n",
      "-291\n",
      "-292\n",
      "-293\n",
      "-294\n",
      "-295\n",
      "-296\n",
      "-297\n",
      "-298\n",
      "-299\n",
      "-300\n",
      "-301\n",
      "-302\n",
      "-303\n",
      "-304\n",
      "-305\n",
      "-306\n",
      "-307\n",
      "-308\n",
      "-309\n",
      "-310\n",
      "-311\n",
      "-312\n",
      "-313\n",
      "-314\n",
      "-315\n",
      "-316\n",
      "-317\n",
      "-318\n",
      "-319\n",
      "-320\n",
      "-321\n",
      "-322\n",
      "-323\n",
      "-324\n",
      "-325\n",
      "-326\n",
      "-327\n",
      "-328\n",
      "-329\n",
      "-330\n",
      "-331\n",
      "-332\n",
      "-333\n",
      "-334\n",
      "-335\n",
      "-336\n",
      "-337\n",
      "-338\n",
      "-339\n",
      "-340\n",
      "-341\n",
      "-342\n",
      "-343\n",
      "-344\n",
      "-345\n",
      "-346\n",
      "-347\n",
      "-348\n",
      "-349\n",
      "-350\n",
      "-351\n",
      "-352\n",
      "-353\n",
      "-354\n",
      "-355\n",
      "-356\n",
      "-357\n",
      "-358\n",
      "-359\n",
      "-360\n",
      "-361\n",
      "-362\n",
      "-363\n",
      "-364\n",
      "-365\n",
      "-366\n",
      "-367\n",
      "-368\n",
      "-369\n",
      "-370\n",
      "-371\n",
      "-372\n",
      "-373\n",
      "-374\n",
      "-375\n",
      "-376\n",
      "-377\n",
      "-378\n",
      "-379\n",
      "-380\n",
      "-381\n",
      "-382\n",
      "-383\n",
      "-384\n",
      "-385\n",
      "-386\n",
      "-387\n",
      "-388\n",
      "-389\n",
      "-390\n",
      "-391\n",
      "-392\n",
      "-393\n",
      "-394\n",
      "-395\n",
      "-396\n",
      "-397\n",
      "-398\n",
      "-399\n",
      "-400\n",
      "-401\n",
      "-402\n",
      "-403\n",
      "-404\n",
      "-405\n",
      "-406\n",
      "-407\n",
      "-408\n",
      "-409\n",
      "-410\n",
      "-411\n",
      "-412\n",
      "-413\n",
      "-414\n",
      "-415\n",
      "-416\n",
      "-417\n",
      "-418\n",
      "-419\n",
      "-420\n",
      "-421\n",
      "-422\n",
      "-423\n",
      "-424\n",
      "-425\n",
      "-426\n",
      "-427\n",
      "-428\n",
      "-429\n",
      "-430\n",
      "-431\n",
      "-432\n",
      "-433\n",
      "-434\n",
      "-435\n",
      "-436\n",
      "-437\n",
      "-438\n",
      "-439\n",
      "-440\n",
      "-441\n",
      "-442\n",
      "-443\n",
      "-444\n",
      "-445\n",
      "-446\n",
      "-447\n",
      "-448\n",
      "-449\n",
      "-450\n",
      "-451\n",
      "-452\n",
      "-453\n",
      "-454\n",
      "-455\n",
      "-456\n",
      "-457\n",
      "-458\n",
      "-459\n",
      "-460\n",
      "-461\n",
      "-462\n",
      "-463\n",
      "-464\n",
      "-465\n",
      "-466\n",
      "-467\n",
      "-468\n",
      "-469\n",
      "-470\n",
      "-471\n",
      "-472\n",
      "-473\n",
      "-474\n",
      "-475\n",
      "-476\n",
      "-477\n",
      "-478\n",
      "-479\n",
      "-480\n",
      "-481\n",
      "-482\n",
      "-483\n",
      "-484\n",
      "-485\n",
      "-486\n",
      "-487\n",
      "-488\n",
      "-489\n",
      "-490\n",
      "-491\n",
      "-492\n",
      "-493\n",
      "-494\n",
      "-495\n",
      "-496\n",
      "-497\n",
      "-498\n",
      "-499\n",
      "-500\n",
      "-501\n",
      "-502\n",
      "-503\n",
      "-504\n",
      "-505\n",
      "-506\n",
      "-507\n",
      "-508\n",
      "-509\n",
      "-510\n",
      "-511\n",
      "-512\n",
      "-513\n",
      "-514\n",
      "-515\n",
      "-516\n",
      "-517\n",
      "-518\n",
      "-519\n",
      "-520\n",
      "-521\n",
      "-522\n",
      "-523\n",
      "-524\n",
      "-525\n",
      "-526\n",
      "-527\n",
      "-528\n",
      "-529\n",
      "-530\n",
      "-531\n",
      "-532\n",
      "-533\n",
      "-534\n",
      "-535\n",
      "-536\n",
      "-537\n",
      "-538\n",
      "-539\n",
      "-540\n",
      "-541\n",
      "-542\n",
      "-543\n",
      "-544\n",
      "-545\n",
      "-546\n",
      "-547\n",
      "-548\n",
      "-549\n",
      "-550\n",
      "-551\n",
      "-552\n",
      "-553\n",
      "-554\n",
      "-555\n",
      "-556\n",
      "-557\n",
      "-558\n",
      "-559\n",
      "-560\n",
      "-561\n",
      "-562\n",
      "-563\n",
      "-564\n",
      "-565\n",
      "-566\n",
      "-567\n",
      "-568\n",
      "-569\n",
      "-570\n",
      "-571\n",
      "-572\n",
      "-573\n",
      "-574\n",
      "-575\n",
      "-576\n",
      "-577\n",
      "-578\n",
      "-579\n",
      "-580\n",
      "-581\n",
      "-582\n",
      "-583\n",
      "-584\n",
      "-585\n",
      "-586\n",
      "-587\n",
      "-588\n",
      "-589\n",
      "-590\n",
      "-591\n",
      "-592\n",
      "-593\n",
      "-594\n",
      "-595\n",
      "-596\n",
      "-597\n",
      "-598\n",
      "-599\n",
      "-600\n",
      "-601\n",
      "-602\n",
      "-603\n",
      "-604\n",
      "-605\n",
      "-606\n",
      "-607\n",
      "-608\n",
      "-609\n",
      "-610\n",
      "-611\n",
      "-612\n",
      "-613\n",
      "-614\n",
      "-615\n",
      "-616\n",
      "-617\n",
      "-618\n",
      "-619\n",
      "-620\n",
      "-621\n",
      "-622\n",
      "-623\n",
      "-624\n",
      "-625\n",
      "-626\n",
      "-627\n",
      "-628\n",
      "-629\n",
      "-630\n",
      "-631\n",
      "-632\n",
      "-633\n",
      "-634\n",
      "-635\n",
      "-636\n",
      "-637\n",
      "-638\n",
      "-639\n",
      "-640\n",
      "-641\n",
      "-642\n",
      "-643\n",
      "-644\n",
      "-645\n",
      "-646\n",
      "-647\n",
      "-648\n",
      "-649\n",
      "-650\n",
      "-651\n",
      "-652\n",
      "-653\n",
      "-654\n",
      "-655\n",
      "-656\n",
      "-657\n",
      "-658\n",
      "-659\n",
      "-660\n",
      "-661\n",
      "-662\n",
      "-663\n",
      "-664\n",
      "-665\n",
      "-666\n",
      "-667\n",
      "-668\n",
      "-669\n",
      "-670\n",
      "-671\n",
      "-672\n",
      "-673\n",
      "-674\n",
      "-675\n",
      "-676\n",
      "-677\n",
      "-678\n",
      "-679\n",
      "-680\n",
      "-681\n",
      "-682\n",
      "-683\n",
      "-684\n",
      "-685\n",
      "-686\n",
      "-687\n",
      "-688\n",
      "-689\n",
      "-690\n",
      "-691\n",
      "-692\n",
      "-693\n",
      "-694\n",
      "-695\n",
      "-696\n",
      "-697\n",
      "-698\n",
      "-699\n",
      "-700\n",
      "-701\n",
      "-702\n",
      "-703\n",
      "-704\n",
      "-705\n",
      "-706\n",
      "-707\n",
      "-708\n",
      "-709\n",
      "-710\n",
      "-711\n",
      "-712\n",
      "-713\n",
      "-714\n",
      "-715\n",
      "-716\n",
      "-717\n",
      "-718\n",
      "-719\n",
      "-720\n",
      "-721\n",
      "-722\n",
      "-723\n",
      "-724\n",
      "-725\n",
      "-726\n",
      "-727\n",
      "-728\n",
      "-729\n",
      "-730\n",
      "-731\n",
      "-732\n",
      "-733\n",
      "-734\n",
      "-735\n",
      "-736\n",
      "-737\n",
      "-738\n",
      "-739\n",
      "-740\n",
      "-741\n",
      "-742\n",
      "-743\n",
      "-744\n",
      "-745\n",
      "-746\n",
      "-747\n",
      "-748\n",
      "-749\n",
      "-750\n",
      "-751\n",
      "-752\n",
      "-753\n",
      "-754\n",
      "-755\n",
      "-756\n",
      "-757\n",
      "-758\n",
      "-759\n",
      "-760\n",
      "-761\n",
      "-762\n",
      "-763\n",
      "-764\n",
      "-765\n",
      "-766\n",
      "-767\n",
      "-768\n",
      "-769\n",
      "-770\n",
      "-771\n",
      "-772\n",
      "-773\n",
      "-774\n",
      "-775\n",
      "-776\n",
      "-777\n",
      "-778\n",
      "-779\n",
      "-780\n",
      "-781\n",
      "-782\n",
      "-783\n",
      "-784\n",
      "-785\n",
      "-786\n",
      "-787\n",
      "-788\n",
      "-789\n",
      "-790\n",
      "-791\n",
      "-792\n",
      "-793\n",
      "-794\n",
      "-795\n",
      "-796\n",
      "-797\n",
      "-798\n",
      "-799\n",
      "-800\n",
      "-801\n",
      "-802\n",
      "-803\n",
      "-804\n",
      "-805\n",
      "-806\n",
      "-807\n",
      "-808\n",
      "-809\n",
      "-810\n",
      "-811\n",
      "-812\n",
      "-813\n",
      "-814\n",
      "-815\n",
      "-816\n",
      "-817\n",
      "-818\n",
      "-819\n",
      "-820\n",
      "-821\n",
      "-822\n",
      "-823\n",
      "-824\n",
      "-825\n",
      "-826\n",
      "-827\n",
      "-828\n",
      "-829\n",
      "-830\n",
      "-831\n",
      "-832\n",
      "-833\n",
      "-834\n",
      "-835\n",
      "-836\n",
      "-837\n",
      "-838\n",
      "-839\n",
      "-840\n",
      "-841\n",
      "-842\n",
      "-843\n",
      "-844\n",
      "-845\n",
      "-846\n",
      "-847\n",
      "-848\n",
      "-849\n",
      "-850\n",
      "-851\n",
      "-852\n",
      "-853\n",
      "-854\n",
      "-855\n",
      "-856\n",
      "-857\n",
      "-858\n",
      "-859\n",
      "-860\n",
      "-861\n",
      "-862\n",
      "-863\n",
      "-864\n",
      "-865\n",
      "-866\n",
      "-867\n",
      "-868\n",
      "-869\n",
      "-870\n",
      "-871\n",
      "-872\n",
      "-873\n",
      "-874\n",
      "-875\n",
      "-876\n",
      "-877\n",
      "-878\n",
      "-879\n",
      "-880\n",
      "-881\n",
      "-882\n",
      "-883\n",
      "-884\n",
      "-885\n",
      "-886\n",
      "-887\n",
      "-888\n",
      "-889\n",
      "-890\n",
      "-891\n",
      "-892\n",
      "-893\n",
      "-894\n",
      "-895\n",
      "-896\n",
      "-897\n",
      "-898\n",
      "-899\n",
      "-900\n",
      "-901\n",
      "-902\n",
      "-903\n",
      "-904\n",
      "-905\n",
      "-906\n",
      "-907\n",
      "-908\n",
      "-909\n",
      "-910\n",
      "-911\n",
      "-912\n",
      "-913\n",
      "-914\n",
      "-915\n",
      "-916\n",
      "-917\n",
      "-918\n",
      "-919\n",
      "-920\n",
      "-921\n",
      "-922\n",
      "-923\n",
      "-924\n",
      "-925\n",
      "-926\n",
      "-927\n",
      "-928\n",
      "-929\n",
      "-930\n",
      "-931\n",
      "-932\n",
      "-933\n",
      "-934\n",
      "-935\n",
      "-936\n",
      "-937\n",
      "-938\n",
      "-939\n",
      "-940\n",
      "-941\n",
      "-942\n",
      "-943\n",
      "-944\n",
      "-945\n",
      "-946\n",
      "-947\n",
      "-948\n",
      "-949\n",
      "-950\n",
      "-951\n",
      "-952\n",
      "-953\n",
      "-954\n",
      "-955\n",
      "-956\n",
      "-957\n",
      "-958\n",
      "-959\n",
      "-960\n",
      "-961\n",
      "-962\n",
      "-963\n",
      "-964\n",
      "-965\n",
      "-966\n",
      "-967\n",
      "-968\n",
      "-969\n",
      "-970\n",
      "-971\n",
      "-972\n",
      "-973\n",
      "-974\n",
      "-975\n",
      "-976\n",
      "-977\n",
      "-978\n",
      "-979\n",
      "-980\n",
      "-981\n",
      "-982\n",
      "-983\n",
      "-984\n",
      "-985\n",
      "-986\n",
      "-987\n",
      "-988\n",
      "-989\n",
      "-990\n",
      "-991\n",
      "-992\n",
      "-993\n",
      "-994\n",
      "-995\n",
      "-996\n",
      "-997\n",
      "-998\n",
      "-999\n",
      "-1000\n",
      "-1001\n",
      "-1002\n",
      "-1003\n",
      "-1004\n",
      "-1005\n",
      "-1006\n",
      "-1007\n",
      "-1008\n",
      "-1009\n",
      "-1010\n",
      "-1011\n",
      "-1012\n",
      "-1013\n",
      "-1014\n",
      "-1015\n",
      "-1016\n",
      "-1017\n",
      "-1018\n",
      "-1019\n",
      "-1020\n",
      "-1021\n",
      "-1022\n",
      "-1023\n",
      "-1024\n",
      "-1025\n",
      "-1026\n",
      "-1027\n",
      "-1028\n",
      "-1029\n",
      "-1030\n",
      "-1031\n",
      "-1032\n",
      "-1033\n",
      "-1034\n",
      "-1035\n",
      "-1036\n",
      "-1037\n",
      "-1038\n",
      "-1039\n",
      "-1040\n",
      "-1041\n",
      "-1042\n",
      "-1043\n",
      "-1044\n",
      "-1045\n",
      "-1046\n",
      "-1047\n",
      "-1048\n",
      "-1049\n",
      "-1050\n",
      "-1051\n",
      "-1052\n",
      "-1053\n",
      "-1054\n",
      "-1055\n",
      "-1056\n",
      "-1057\n",
      "-1058\n",
      "-1059\n",
      "-1060\n",
      "-1061\n",
      "-1062\n",
      "-1063\n",
      "-1064\n",
      "-1065\n",
      "-1066\n",
      "-1067\n",
      "-1068\n",
      "-1069\n",
      "-1070\n",
      "-1071\n",
      "-1072\n",
      "-1073\n",
      "-1074\n",
      "-1075\n",
      "-1076\n",
      "-1077\n",
      "-1078\n",
      "-1079\n",
      "-1080\n",
      "-1081\n",
      "-1082\n",
      "-1083\n",
      "-1084\n",
      "-1085\n",
      "-1086\n",
      "-1087\n",
      "-1088\n",
      "-1089\n",
      "-1090\n",
      "-1091\n",
      "-1092\n",
      "-1093\n",
      "-1094\n",
      "-1095\n",
      "-1096\n",
      "-1097\n",
      "-1098\n",
      "-1099\n",
      "-1100\n",
      "-1101\n",
      "-1102\n",
      "-1103\n",
      "-1104\n",
      "-1105\n",
      "-1106\n",
      "-1107\n",
      "-1108\n",
      "-1109\n",
      "-1110\n",
      "-1111\n",
      "-1112\n",
      "-1113\n",
      "-1114\n",
      "-1115\n",
      "-1116\n",
      "-1117\n",
      "-1118\n",
      "-1119\n",
      "-1120\n",
      "-1121\n",
      "-1122\n",
      "-1123\n",
      "-1124\n",
      "-1125\n",
      "-1126\n",
      "-1127\n",
      "-1128\n",
      "-1129\n",
      "-1130\n",
      "-1131\n",
      "-1132\n",
      "-1133\n",
      "-1134\n",
      "-1135\n",
      "-1136\n",
      "-1137\n",
      "-1138\n",
      "-1139\n",
      "-1140\n",
      "-1141\n",
      "-1142\n",
      "-1143\n",
      "-1144\n",
      "-1145\n",
      "-1146\n",
      "-1147\n",
      "-1148\n",
      "-1149\n",
      "-1150\n",
      "-1151\n",
      "-1152\n",
      "-1153\n",
      "-1154\n",
      "-1155\n",
      "-1156\n",
      "-1157\n",
      "-1158\n",
      "-1159\n",
      "-1160\n",
      "-1161\n",
      "-1162\n",
      "-1163\n",
      "-1164\n",
      "-1165\n",
      "-1166\n",
      "-1167\n",
      "-1168\n",
      "-1169\n",
      "-1170\n",
      "-1171\n",
      "-1172\n",
      "-1173\n",
      "-1174\n",
      "-1175\n",
      "-1176\n",
      "-1177\n",
      "-1178\n",
      "-1179\n",
      "-1180\n",
      "-1181\n",
      "-1182\n",
      "-1183\n",
      "-1184\n",
      "-1185\n",
      "-1186\n",
      "-1187\n",
      "-1188\n",
      "-1189\n",
      "-1190\n",
      "-1191\n",
      "-1192\n",
      "-1193\n",
      "-1194\n",
      "-1195\n",
      "-1196\n",
      "-1197\n",
      "-1198\n",
      "-1199\n",
      "-1200\n",
      "-1201\n",
      "-1202\n",
      "-1203\n",
      "-1204\n",
      "-1205\n",
      "-1206\n",
      "-1207\n",
      "-1208\n",
      "-1209\n",
      "-1210\n",
      "-1211\n",
      "-1212\n",
      "-1213\n",
      "-1214\n",
      "-1215\n",
      "-1216\n",
      "-1217\n",
      "-1218\n",
      "-1219\n",
      "-1220\n",
      "-1221\n",
      "-1222\n",
      "-1223\n",
      "-1224\n",
      "-1225\n",
      "-1226\n",
      "-1227\n",
      "-1228\n",
      "-1229\n",
      "-1230\n",
      "-1231\n",
      "-1232\n",
      "-1233\n",
      "-1234\n",
      "-1235\n",
      "-1236\n",
      "-1237\n",
      "-1238\n",
      "-1239\n",
      "-1240\n",
      "-1241\n",
      "-1242\n",
      "-1243\n",
      "-1244\n",
      "-1245\n",
      "-1246\n",
      "-1247\n",
      "-1248\n",
      "-1249\n",
      "-1250\n",
      "-1251\n",
      "-1252\n",
      "-1253\n",
      "-1254\n",
      "-1255\n",
      "-1256\n",
      "-1257\n",
      "-1258\n",
      "-1259\n",
      "-1260\n",
      "-1261\n",
      "-1262\n",
      "-1263\n",
      "-1264\n",
      "-1265\n",
      "-1266\n",
      "-1267\n",
      "-1268\n",
      "-1269\n",
      "-1270\n",
      "-1271\n",
      "-1272\n",
      "-1273\n",
      "-1274\n",
      "-1275\n",
      "-1276\n",
      "-1277\n",
      "-1278\n",
      "-1279\n",
      "-1280\n",
      "-1281\n",
      "-1282\n",
      "-1283\n",
      "-1284\n",
      "-1285\n",
      "-1286\n",
      "-1287\n",
      "-1288\n",
      "-1289\n",
      "-1290\n",
      "-1291\n",
      "-1292\n",
      "-1293\n",
      "-1294\n",
      "-1295\n",
      "-1296\n",
      "-1297\n",
      "-1298\n",
      "-1299\n",
      "-1300\n",
      "-1301\n",
      "-1302\n",
      "-1303\n",
      "-1304\n",
      "-1305\n",
      "-1306\n",
      "-1307\n",
      "-1308\n",
      "-1309\n",
      "-1310\n",
      "-1311\n",
      "-1312\n",
      "-1313\n",
      "-1314\n",
      "-1315\n",
      "-1316\n",
      "-1317\n",
      "-1318\n",
      "-1319\n",
      "-1320\n",
      "-1321\n",
      "-1322\n",
      "-1323\n",
      "-1324\n",
      "-1325\n",
      "-1326\n",
      "-1327\n",
      "-1328\n",
      "-1329\n",
      "-1330\n",
      "-1331\n",
      "-1332\n",
      "-1333\n",
      "-1334\n",
      "-1335\n",
      "-1336\n",
      "-1337\n",
      "-1338\n",
      "-1339\n",
      "-1340\n",
      "-1341\n",
      "-1342\n",
      "-1343\n",
      "-1344\n",
      "-1345\n",
      "-1346\n",
      "-1347\n",
      "-1348\n",
      "-1349\n",
      "-1350\n",
      "-1351\n",
      "-1352\n",
      "-1353\n",
      "-1354\n",
      "-1355\n",
      "-1356\n",
      "-1357\n",
      "-1358\n",
      "-1359\n",
      "-1360\n",
      "-1361\n",
      "-1362\n",
      "-1363\n",
      "-1364\n",
      "-1365\n",
      "-1366\n",
      "-1367\n",
      "-1368\n",
      "-1369\n",
      "-1370\n",
      "-1371\n",
      "-1372\n",
      "-1373\n",
      "-1374\n",
      "-1375\n",
      "-1376\n",
      "-1377\n",
      "-1378\n",
      "-1379\n",
      "-1380\n",
      "-1381\n",
      "-1382\n",
      "-1383\n",
      "-1384\n",
      "-1385\n",
      "-1386\n",
      "-1387\n",
      "-1388\n",
      "-1389\n",
      "-1390\n",
      "-1391\n",
      "-1392\n",
      "-1393\n",
      "-1394\n",
      "-1395\n",
      "-1396\n",
      "-1397\n",
      "-1398\n",
      "-1399\n",
      "-1400\n",
      "-1401\n",
      "-1402\n",
      "-1403\n",
      "-1404\n",
      "-1405\n",
      "-1406\n",
      "-1407\n",
      "-1408\n",
      "-1409\n",
      "-1410\n",
      "-1411\n",
      "-1412\n",
      "-1413\n",
      "-1414\n",
      "-1415\n",
      "-1416\n",
      "-1417\n",
      "-1418\n",
      "-1419\n",
      "-1420\n",
      "-1421\n",
      "-1422\n",
      "-1423\n",
      "-1424\n",
      "-1425\n",
      "-1426\n",
      "-1427\n",
      "-1428\n",
      "-1429\n",
      "-1430\n",
      "-1431\n",
      "-1432\n",
      "-1433\n",
      "-1434\n",
      "-1435\n",
      "-1436\n",
      "-1437\n",
      "-1438\n",
      "-1439\n",
      "-1440\n",
      "-1441\n",
      "-1442\n",
      "-1443\n",
      "-1444\n",
      "-1445\n",
      "-1446\n",
      "-1447\n",
      "-1448\n",
      "-1449\n",
      "-1450\n",
      "-1451\n",
      "-1452\n",
      "-1453\n",
      "-1454\n",
      "-1455\n",
      "-1456\n",
      "-1457\n",
      "-1458\n",
      "-1459\n",
      "-1460\n",
      "-1461\n",
      "-1462\n",
      "-1463\n",
      "-1464\n",
      "-1465\n",
      "-1466\n",
      "-1467\n",
      "-1468\n",
      "-1469\n",
      "-1470\n",
      "-1471\n",
      "-1472\n",
      "-1473\n",
      "-1474\n",
      "-1475\n",
      "-1476\n",
      "-1477\n",
      "-1478\n",
      "-1479\n",
      "-1480\n",
      "-1481\n",
      "-1482\n",
      "-1483\n",
      "-1484\n",
      "-1485\n",
      "-1486\n",
      "-1487\n",
      "-1488\n",
      "-1489\n",
      "-1490\n",
      "-1491\n",
      "-1492\n",
      "-1493\n",
      "-1494\n",
      "-1495\n",
      "-1496\n",
      "-1497\n",
      "-1498\n",
      "-1499\n",
      "-1500\n",
      "-1501\n",
      "-1502\n",
      "-1503\n",
      "-1504\n",
      "-1505\n",
      "-1506\n",
      "-1507\n",
      "-1508\n",
      "-1509\n",
      "-1510\n",
      "-1511\n",
      "-1512\n",
      "-1513\n",
      "-1514\n",
      "-1515\n",
      "-1516\n",
      "-1517\n",
      "-1518\n",
      "-1519\n",
      "-1520\n",
      "-1521\n",
      "-1522\n",
      "-1523\n",
      "-1524\n",
      "-1525\n",
      "-1526\n",
      "-1527\n",
      "-1528\n",
      "-1529\n",
      "-1530\n",
      "-1531\n",
      "-1532\n",
      "-1533\n",
      "-1534\n",
      "-1535\n",
      "-1536\n",
      "-1537\n",
      "-1538\n",
      "-1539\n",
      "-1540\n",
      "-1541\n",
      "-1542\n",
      "-1543\n",
      "-1544\n",
      "-1545\n",
      "-1546\n",
      "-1547\n",
      "-1548\n",
      "-1549\n",
      "-1550\n",
      "-1551\n",
      "-1552\n",
      "-1553\n",
      "-1554\n",
      "-1555\n",
      "-1556\n",
      "-1557\n",
      "-1558\n",
      "-1559\n",
      "-1560\n",
      "-1561\n",
      "-1562\n",
      "-1563\n",
      "-1564\n",
      "-1565\n",
      "-1566\n",
      "-1567\n",
      "-1568\n",
      "-1569\n",
      "-1570\n",
      "-1571\n",
      "-1572\n",
      "-1573\n",
      "-1574\n",
      "-1575\n",
      "-1576\n",
      "-1577\n",
      "-1578\n",
      "-1579\n",
      "-1580\n",
      "-1581\n",
      "-1582\n",
      "-1583\n",
      "-1584\n",
      "-1585\n",
      "-1586\n",
      "-1587\n",
      "-1588\n",
      "-1589\n",
      "-1590\n",
      "-1591\n",
      "-1592\n",
      "-1593\n",
      "-1594\n",
      "-1595\n",
      "-1596\n",
      "-1597\n",
      "-1598\n",
      "-1599\n",
      "-1600\n",
      "-1601\n",
      "-1602\n",
      "-1603\n",
      "-1604\n",
      "-1605\n",
      "-1606\n",
      "-1607\n",
      "-1608\n",
      "-1609\n",
      "-1610\n",
      "-1611\n",
      "-1612\n",
      "-1613\n",
      "-1614\n",
      "-1615\n",
      "-1616\n",
      "-1617\n",
      "-1618\n",
      "-1619\n",
      "-1620\n",
      "-1621\n",
      "-1622\n",
      "-1623\n",
      "-1624\n",
      "-1625\n",
      "-1626\n",
      "-1627\n",
      "-1628\n",
      "-1629\n",
      "-1630\n",
      "-1631\n",
      "-1632\n",
      "-1633\n",
      "-1634\n",
      "-1635\n",
      "-1636\n",
      "-1637\n",
      "-1638\n",
      "-1639\n",
      "-1640\n",
      "-1641\n",
      "-1642\n",
      "-1643\n",
      "-1644\n",
      "-1645\n",
      "-1646\n",
      "-1647\n",
      "-1648\n",
      "-1649\n",
      "-1650\n",
      "-1651\n",
      "-1652\n",
      "-1653\n",
      "-1654\n",
      "-1655\n",
      "-1656\n",
      "-1657\n",
      "-1658\n",
      "-1659\n",
      "-1660\n",
      "-1661\n",
      "-1662\n",
      "-1663\n",
      "-1664\n",
      "-1665\n",
      "-1666\n",
      "-1667\n",
      "-1668\n",
      "-1669\n",
      "-1670\n",
      "-1671\n",
      "-1672\n",
      "-1673\n",
      "-1674\n",
      "-1675\n",
      "-1676\n",
      "-1677\n",
      "-1678\n",
      "-1679\n",
      "-1680\n",
      "-1681\n",
      "-1682\n",
      "-1683\n",
      "-1684\n",
      "-1685\n",
      "-1686\n",
      "-1687\n",
      "-1688\n",
      "-1689\n",
      "-1690\n",
      "-1691\n",
      "-1692\n",
      "-1693\n",
      "-1694\n",
      "-1695\n",
      "-1696\n",
      "-1697\n",
      "-1698\n",
      "-1699\n",
      "-1700\n",
      "-1701\n",
      "-1702\n",
      "-1703\n",
      "-1704\n",
      "-1705\n",
      "-1706\n",
      "-1707\n",
      "-1708\n",
      "-1709\n",
      "-1710\n",
      "-1711\n",
      "-1712\n",
      "-1713\n",
      "-1714\n",
      "-1715\n",
      "-1716\n",
      "-1717\n",
      "-1718\n",
      "-1719\n",
      "-1720\n",
      "-1721\n",
      "-1722\n",
      "-1723\n",
      "-1724\n",
      "-1725\n",
      "-1726\n",
      "-1727\n",
      "-1728\n",
      "-1729\n",
      "-1730\n",
      "-1731\n",
      "-1732\n",
      "-1733\n",
      "-1734\n",
      "-1735\n",
      "-1736\n",
      "-1737\n",
      "-1738\n",
      "-1739\n",
      "-1740\n",
      "-1741\n",
      "-1742\n",
      "-1743\n",
      "-1744\n",
      "-1745\n",
      "-1746\n",
      "-1747\n",
      "-1748\n",
      "-1749\n",
      "-1750\n",
      "-1751\n",
      "-1752\n",
      "-1753\n",
      "-1754\n",
      "-1755\n",
      "-1756\n",
      "-1757\n",
      "-1758\n",
      "-1759\n",
      "-1760\n",
      "-1761\n",
      "-1762\n",
      "-1763\n",
      "-1764\n",
      "-1765\n",
      "-1766\n",
      "-1767\n",
      "-1768\n",
      "-1769\n",
      "-1770\n",
      "-1771\n",
      "-1772\n",
      "-1773\n",
      "-1774\n",
      "-1775\n",
      "-1776\n",
      "-1777\n",
      "-1778\n",
      "-1779\n",
      "-1780\n",
      "-1781\n",
      "-1782\n",
      "-1783\n",
      "-1784\n",
      "-1785\n",
      "-1786\n",
      "-1787\n",
      "-1788\n",
      "-1789\n",
      "-1790\n",
      "-1791\n",
      "-1792\n",
      "-1793\n",
      "-1794\n",
      "-1795\n",
      "-1796\n",
      "-1797\n",
      "-1798\n",
      "-1799\n",
      "-1800\n",
      "-1801\n",
      "-1802\n",
      "-1803\n",
      "-1804\n",
      "-1805\n",
      "-1806\n",
      "-1807\n",
      "-1808\n",
      "-1809\n",
      "-1810\n",
      "-1811\n",
      "-1812\n",
      "-1813\n",
      "-1814\n",
      "-1815\n",
      "-1816\n",
      "-1817\n",
      "-1818\n",
      "-1819\n",
      "-1820\n",
      "-1821\n",
      "-1822\n",
      "-1823\n",
      "-1824\n",
      "-1825\n",
      "-1826\n",
      "-1827\n",
      "-1828\n",
      "-1829\n",
      "-1830\n",
      "-1831\n",
      "-1832\n",
      "-1833\n",
      "-1834\n",
      "-1835\n",
      "-1836\n",
      "-1837\n",
      "-1838\n",
      "-1839\n",
      "-1840\n",
      "-1841\n",
      "-1842\n",
      "-1843\n",
      "-1844\n",
      "-1845\n",
      "-1846\n",
      "-1847\n",
      "-1848\n",
      "-1849\n",
      "-1850\n",
      "-1851\n",
      "-1852\n",
      "-1853\n",
      "-1854\n",
      "-1855\n",
      "-1856\n",
      "-1857\n",
      "-1858\n",
      "-1859\n",
      "-1860\n",
      "-1861\n",
      "-1862\n",
      "-1863\n",
      "-1864\n",
      "-1865\n",
      "-1866\n",
      "-1867\n",
      "-1868\n",
      "-1869\n",
      "-1870\n",
      "-1871\n",
      "-1872\n",
      "-1873\n",
      "-1874\n",
      "-1875\n",
      "-1876\n",
      "-1877\n",
      "-1878\n",
      "-1879\n",
      "-1880\n",
      "-1881\n",
      "-1882\n",
      "-1883\n",
      "-1884\n",
      "-1885\n",
      "-1886\n",
      "-1887\n",
      "-1888\n",
      "-1889\n",
      "-1890\n",
      "-1891\n",
      "-1892\n",
      "-1893\n",
      "-1894\n",
      "-1895\n",
      "-1896\n",
      "-1897\n",
      "-1898\n",
      "-1899\n",
      "-1900\n",
      "-1901\n",
      "-1902\n",
      "-1903\n",
      "-1904\n",
      "-1905\n",
      "-1906\n",
      "-1907\n",
      "-1908\n",
      "-1909\n",
      "-1910\n",
      "-1911\n",
      "-1912\n",
      "-1913\n",
      "-1914\n",
      "-1915\n",
      "-1916\n",
      "-1917\n",
      "-1918\n",
      "-1919\n",
      "-1920\n",
      "-1921\n",
      "-1922\n",
      "-1923\n",
      "-1924\n",
      "-1925\n",
      "-1926\n",
      "-1927\n",
      "-1928\n",
      "-1929\n",
      "-1930\n",
      "-1931\n",
      "-1932\n",
      "-1933\n",
      "-1934\n",
      "-1935\n",
      "-1936\n",
      "-1937\n",
      "-1938\n",
      "-1939\n",
      "-1940\n",
      "-1941\n",
      "-1942\n",
      "-1943\n",
      "-1944\n",
      "-1945\n",
      "-1946\n",
      "-1947\n",
      "-1948\n",
      "-1949\n",
      "-1950\n",
      "-1951\n",
      "-1952\n",
      "-1953\n",
      "-1954\n",
      "-1955\n",
      "-1956\n",
      "-1957\n",
      "-1958\n",
      "-1959\n",
      "-1960\n",
      "-1961\n",
      "-1962\n",
      "-1963\n",
      "-1964\n",
      "-1965\n",
      "-1966\n",
      "-1967\n",
      "-1968\n",
      "-1969\n",
      "-1970\n",
      "-1971\n",
      "-1972\n",
      "-1973\n",
      "-1974\n",
      "-1975\n",
      "-1976\n",
      "-1977\n",
      "-1978\n",
      "-1979\n",
      "-1980\n",
      "-1981\n",
      "-1982\n",
      "-1983\n",
      "-1984\n",
      "-1985\n",
      "-1986\n",
      "-1987\n",
      "-1988\n",
      "-1989\n",
      "-1990\n",
      "-1991\n",
      "-1992\n",
      "-1993\n",
      "-1994\n",
      "-1995\n",
      "-1996\n",
      "-1997\n",
      "-1998\n",
      "-1999\n",
      "-2000\n",
      "-2001\n",
      "-2002\n",
      "-2003\n",
      "-2004\n",
      "-2005\n",
      "-2006\n",
      "-2007\n",
      "-2008\n",
      "-2009\n",
      "-2010\n",
      "-2011\n",
      "-2012\n",
      "-2013\n",
      "-2014\n",
      "-2015\n",
      "-2016\n",
      "-2017\n",
      "-2018\n",
      "-2019\n",
      "-2020\n",
      "-2021\n",
      "-2022\n",
      "-2023\n",
      "-2024\n",
      "-2025\n",
      "-2026\n",
      "-2027\n",
      "-2028\n",
      "-2029\n",
      "-2030\n",
      "-2031\n",
      "-2032\n",
      "-2033\n",
      "-2034\n",
      "-2035\n",
      "-2036\n",
      "-2037\n",
      "-2038\n",
      "-2039\n",
      "-2040\n",
      "-2041\n",
      "-2042\n",
      "-2043\n",
      "-2044\n",
      "-2045\n",
      "-2046\n",
      "-2047\n",
      "-2048\n",
      "-2049\n",
      "-2050\n",
      "-2051\n",
      "-2052\n",
      "-2053\n",
      "-2054\n",
      "-2055\n",
      "-2056\n",
      "-2057\n",
      "-2058\n",
      "-2059\n",
      "-2060\n",
      "-2061\n",
      "-2062\n",
      "-2063\n",
      "-2064\n",
      "-2065\n",
      "-2066\n",
      "-2067\n",
      "-2068\n",
      "-2069\n",
      "-2070\n",
      "-2071\n",
      "-2072\n",
      "-2073\n",
      "-2074\n",
      "-2075\n",
      "-2076\n",
      "-2077\n",
      "-2078\n",
      "-2079\n",
      "-2080\n",
      "-2081\n",
      "-2082\n",
      "-2083\n",
      "-2084\n",
      "-2085\n",
      "-2086\n",
      "-2087\n",
      "-2088\n",
      "-2089\n",
      "-2090\n",
      "-2091\n",
      "-2092\n",
      "-2093\n",
      "-2094\n",
      "-2095\n",
      "-2096\n",
      "-2097\n",
      "-2098\n",
      "-2099\n",
      "-2100\n",
      "-2101\n",
      "-2102\n",
      "-2103\n",
      "-2104\n",
      "-2105\n",
      "-2106\n",
      "-2107\n",
      "-2108\n",
      "-2109\n",
      "-2110\n",
      "-2111\n",
      "-2112\n",
      "-2113\n",
      "-2114\n",
      "-2115\n",
      "-2116\n",
      "-2117\n",
      "-2118\n",
      "-2119\n",
      "-2120\n",
      "-2121\n",
      "-2122\n",
      "-2123\n",
      "-2124\n",
      "-2125\n",
      "-2126\n",
      "-2127\n",
      "-2128\n",
      "-2129\n",
      "-2130\n",
      "-2131\n",
      "-2132\n",
      "-2133\n",
      "-2134\n",
      "-2135\n",
      "-2136\n",
      "-2137\n",
      "-2138\n",
      "-2139\n",
      "-2140\n",
      "-2141\n",
      "-2142\n",
      "-2143\n",
      "-2144\n",
      "-2145\n",
      "-2146\n",
      "-2147\n",
      "-2148\n",
      "-2149\n",
      "-2150\n",
      "-2151\n",
      "-2152\n",
      "-2153\n",
      "-2154\n",
      "-2155\n",
      "-2156\n",
      "-2157\n",
      "-2158\n",
      "-2159\n",
      "-2160\n",
      "-2161\n",
      "-2162\n",
      "-2163\n",
      "-2164\n",
      "-2165\n",
      "-2166\n",
      "-2167\n",
      "-2168\n",
      "-2169\n",
      "-2170\n",
      "-2171\n",
      "-2172\n",
      "-2173\n",
      "-2174\n",
      "-2175\n",
      "-2176\n",
      "-2177\n",
      "-2178\n",
      "-2179\n",
      "-2180\n",
      "-2181\n",
      "-2182\n",
      "-2183\n",
      "-2184\n",
      "-2185\n",
      "-2186\n",
      "-2187\n",
      "-2188\n",
      "-2189\n",
      "-2190\n",
      "-2191\n",
      "-2192\n",
      "-2193\n",
      "-2194\n",
      "-2195\n",
      "-2196\n",
      "-2197\n",
      "-2198\n",
      "-2199\n",
      "-2200\n",
      "-2201\n",
      "-2202\n",
      "-2203\n",
      "-2204\n",
      "-2205\n",
      "-2206\n",
      "-2207\n",
      "-2208\n",
      "-2209\n",
      "-2210\n",
      "-2211\n",
      "-2212\n",
      "-2213\n",
      "-2214\n",
      "-2215\n",
      "-2216\n",
      "-2217\n",
      "-2218\n",
      "-2219\n",
      "-2220\n",
      "-2221\n",
      "-2222\n",
      "-2223\n",
      "-2224\n",
      "-2225\n",
      "-2226\n",
      "-2227\n",
      "-2228\n",
      "-2229\n",
      "-2230\n",
      "-2231\n",
      "-2232\n",
      "-2233\n",
      "-2234\n",
      "-2235\n",
      "-2236\n",
      "-2237\n",
      "-2238\n",
      "-2239\n",
      "-2240\n",
      "-2241\n",
      "-2242\n",
      "-2243\n",
      "-2244\n",
      "-2245\n",
      "-2246\n",
      "-2247\n",
      "-2248\n",
      "-2249\n",
      "-2250\n",
      "-2251\n",
      "-2252\n",
      "-2253\n",
      "-2254\n",
      "-2255\n",
      "-2256\n",
      "-2257\n",
      "-2258\n",
      "-2259\n",
      "-2260\n",
      "-2261\n",
      "-2262\n",
      "-2263\n",
      "-2264\n",
      "-2265\n",
      "-2266\n",
      "-2267\n",
      "-2268\n",
      "-2269\n",
      "-2270\n",
      "-2271\n",
      "-2272\n",
      "-2273\n",
      "-2274\n",
      "-2275\n",
      "-2276\n",
      "-2277\n",
      "-2278\n",
      "-2279\n",
      "-2280\n",
      "-2281\n",
      "-2282\n",
      "-2283\n",
      "-2284\n",
      "-2285\n",
      "-2286\n",
      "-2287\n",
      "-2288\n",
      "-2289\n",
      "-2290\n",
      "-2291\n",
      "-2292\n",
      "-2293\n",
      "-2294\n",
      "-2295\n",
      "-2296\n",
      "-2297\n",
      "-2298\n",
      "-2299\n",
      "-2300\n",
      "-2301\n",
      "-2302\n",
      "-2303\n",
      "-2304\n",
      "-2305\n",
      "-2306\n",
      "-2307\n",
      "-2308\n",
      "-2309\n",
      "-2310\n",
      "-2311\n",
      "-2312\n",
      "-2313\n",
      "-2314\n",
      "-2315\n",
      "-2316\n",
      "-2317\n",
      "-2318\n",
      "-2319\n",
      "-2320\n",
      "-2321\n",
      "-2322\n",
      "-2323\n",
      "-2324\n",
      "-2325\n",
      "-2326\n",
      "-2327\n",
      "-2328\n",
      "-2329\n",
      "-2330\n",
      "-2331\n",
      "-2332\n",
      "-2333\n",
      "-2334\n",
      "-2335\n",
      "-2336\n",
      "-2337\n",
      "-2338\n",
      "-2339\n",
      "-2340\n",
      "-2341\n",
      "-2342\n",
      "-2343\n",
      "-2344\n",
      "-2345\n",
      "-2346\n",
      "-2347\n",
      "-2348\n",
      "-2349\n",
      "-2350\n",
      "-2351\n",
      "-2352\n",
      "-2353\n",
      "-2354\n",
      "-2355\n",
      "-2356\n",
      "-2357\n",
      "-2358\n",
      "-2359\n",
      "-2360\n",
      "-2361\n",
      "-2362\n",
      "-2363\n",
      "-2364\n",
      "-2365\n",
      "-2366\n",
      "-2367\n",
      "-2368\n",
      "-2369\n",
      "-2370\n",
      "-2371\n",
      "-2372\n",
      "-2373\n",
      "-2374\n",
      "-2375\n",
      "-2376\n",
      "-2377\n",
      "-2378\n",
      "-2379\n",
      "-2380\n",
      "-2381\n",
      "-2382\n",
      "-2383\n",
      "-2384\n",
      "-2385\n",
      "-2386\n",
      "-2387\n",
      "-2388\n",
      "-2389\n",
      "-2390\n",
      "-2391\n",
      "-2392\n",
      "-2393\n",
      "-2394\n",
      "-2395\n",
      "-2396\n",
      "-2397\n",
      "-2398\n",
      "-2399\n",
      "-2400\n",
      "-2401\n",
      "-2402\n",
      "-2403\n",
      "-2404\n",
      "-2405\n",
      "-2406\n",
      "-2407\n",
      "-2408\n",
      "-2409\n",
      "-2410\n",
      "-2411\n",
      "-2412\n",
      "-2413\n",
      "-2414\n",
      "-2415\n",
      "-2416\n",
      "-2417\n",
      "-2418\n",
      "-2419\n",
      "-2420\n",
      "-2421\n",
      "-2422\n",
      "-2423\n",
      "-2424\n",
      "-2425\n",
      "-2426\n",
      "-2427\n",
      "-2428\n",
      "-2429\n",
      "-2430\n",
      "-2431\n",
      "-2432\n",
      "-2433\n",
      "-2434\n",
      "-2435\n",
      "-2436\n",
      "-2437\n",
      "-2438\n",
      "-2439\n",
      "-2440\n",
      "-2441\n",
      "-2442\n",
      "-2443\n",
      "-2444\n",
      "-2445\n",
      "-2446\n",
      "-2447\n",
      "-2448\n",
      "-2449\n",
      "-2450\n",
      "-2451\n",
      "-2452\n",
      "-2453\n",
      "-2454\n",
      "-2455\n",
      "-2456\n",
      "-2457\n",
      "-2458\n",
      "-2459\n",
      "-2460\n",
      "-2461\n",
      "-2462\n",
      "-2463\n",
      "-2464\n",
      "-2465\n",
      "-2466\n",
      "-2467\n",
      "-2468\n",
      "-2469\n",
      "-2470\n",
      "-2471\n",
      "-2472\n",
      "-2473\n",
      "-2474\n",
      "-2475\n",
      "-2476\n",
      "-2477\n",
      "-2478\n",
      "-2479\n",
      "-2480\n",
      "-2481\n",
      "-2482\n",
      "-2483\n",
      "-2484\n",
      "-2485\n",
      "-2486\n",
      "-2487\n",
      "-2488\n",
      "-2489\n",
      "-2490\n",
      "-2491\n",
      "-2492\n",
      "-2493\n",
      "-2494\n",
      "-2495\n",
      "-2496\n",
      "-2497\n",
      "-2498\n",
      "-2499\n",
      "-2500\n",
      "-2501\n",
      "-2502\n",
      "-2503\n",
      "-2504\n",
      "-2505\n",
      "-2506\n",
      "-2507\n",
      "-2508\n",
      "-2509\n",
      "-2510\n",
      "-2511\n",
      "-2512\n",
      "-2513\n",
      "-2514\n",
      "-2515\n",
      "-2516\n",
      "-2517\n",
      "-2518\n",
      "-2519\n",
      "-2520\n",
      "-2521\n",
      "-2522\n",
      "-2523\n",
      "-2524\n",
      "-2525\n",
      "-2526\n",
      "-2527\n",
      "-2528\n",
      "-2529\n",
      "-2530\n",
      "-2531\n",
      "-2532\n",
      "-2533\n",
      "-2534\n",
      "-2535\n",
      "-2536\n",
      "-2537\n",
      "-2538\n",
      "-2539\n",
      "-2540\n",
      "-2541\n",
      "-2542\n",
      "-2543\n",
      "-2544\n",
      "-2545\n",
      "-2546\n",
      "-2547\n",
      "-2548\n",
      "-2549\n",
      "-2550\n",
      "-2551\n",
      "-2552\n",
      "-2553\n",
      "-2554\n",
      "-2555\n",
      "-2556\n",
      "-2557\n",
      "-2558\n",
      "-2559\n",
      "-2560\n",
      "-2561\n",
      "-2562\n",
      "-2563\n",
      "-2564\n",
      "-2565\n",
      "-2566\n",
      "-2567\n",
      "-2568\n",
      "-2569\n",
      "-2570\n",
      "-2571\n",
      "-2572\n",
      "-2573\n",
      "-2574\n",
      "-2575\n",
      "-2576\n",
      "-2577\n",
      "-2578\n",
      "-2579\n",
      "-2580\n",
      "-2581\n",
      "-2582\n",
      "-2583\n",
      "-2584\n",
      "-2585\n",
      "-2586\n",
      "-2587\n",
      "-2588\n",
      "-2589\n",
      "-2590\n",
      "-2591\n",
      "-2592\n",
      "-2593\n",
      "-2594\n",
      "-2595\n",
      "-2596\n",
      "-2597\n",
      "-2598\n",
      "-2599\n",
      "-2600\n",
      "-2601\n",
      "-2602\n",
      "-2603\n",
      "-2604\n",
      "-2605\n",
      "-2606\n",
      "-2607\n",
      "-2608\n",
      "-2609\n",
      "-2610\n",
      "-2611\n",
      "-2612\n",
      "-2613\n",
      "-2614\n",
      "-2615\n",
      "-2616\n",
      "-2617\n",
      "-2618\n",
      "-2619\n",
      "-2620\n",
      "-2621\n",
      "-2622\n",
      "-2623\n",
      "-2624\n",
      "-2625\n",
      "-2626\n",
      "-2627\n",
      "-2628\n",
      "-2629\n",
      "-2630\n",
      "-2631\n",
      "-2632\n",
      "-2633\n",
      "-2634\n",
      "-2635\n",
      "-2636\n",
      "-2637\n",
      "-2638\n",
      "-2639\n",
      "-2640\n",
      "-2641\n",
      "-2642\n",
      "-2643\n",
      "-2644\n",
      "-2645\n",
      "-2646\n",
      "-2647\n",
      "-2648\n",
      "-2649\n",
      "-2650\n",
      "-2651\n",
      "-2652\n",
      "-2653\n",
      "-2654\n",
      "-2655\n",
      "-2656\n",
      "-2657\n",
      "-2658\n",
      "-2659\n",
      "-2660\n",
      "-2661\n",
      "-2662\n",
      "-2663\n",
      "-2664\n",
      "-2665\n",
      "-2666\n",
      "-2667\n",
      "-2668\n",
      "-2669\n",
      "-2670\n",
      "-2671\n",
      "-2672\n",
      "-2673\n",
      "-2674\n",
      "-2675\n",
      "-2676\n",
      "-2677\n",
      "-2678\n",
      "-2679\n",
      "-2680\n",
      "-2681\n",
      "-2682\n",
      "-2683\n",
      "-2684\n",
      "-2685\n",
      "-2686\n",
      "-2687\n",
      "-2688\n",
      "-2689\n",
      "-2690\n",
      "-2691\n",
      "-2692\n",
      "-2693\n",
      "-2694\n",
      "-2695\n",
      "-2696\n",
      "-2697\n",
      "-2698\n",
      "-2699\n",
      "-2700\n",
      "-2701\n",
      "-2702\n",
      "-2703\n",
      "-2704\n",
      "-2705\n",
      "-2706\n",
      "-2707\n",
      "-2708\n",
      "-2709\n",
      "-2710\n",
      "-2711\n",
      "-2712\n",
      "-2713\n",
      "-2714\n",
      "-2715\n",
      "-2716\n",
      "-2717\n",
      "-2718\n",
      "-2719\n",
      "-2720\n",
      "-2721\n",
      "-2722\n",
      "-2723\n",
      "-2724\n",
      "-2725\n",
      "-2726\n",
      "-2727\n",
      "-2728\n",
      "-2729\n",
      "-2730\n",
      "-2731\n",
      "-2732\n",
      "-2733\n",
      "-2734\n",
      "-2735\n",
      "-2736\n",
      "-2737\n",
      "-2738\n",
      "-2739\n",
      "-2740\n",
      "-2741\n",
      "-2742\n",
      "-2743\n",
      "-2744\n",
      "-2745\n",
      "-2746\n",
      "-2747\n",
      "-2748\n",
      "-2749\n",
      "-2750\n",
      "-2751\n",
      "-2752\n",
      "-2753\n",
      "-2754\n",
      "-2755\n",
      "-2756\n",
      "-2757\n",
      "-2758\n",
      "-2759\n",
      "-2760\n",
      "-2761\n",
      "-2762\n",
      "-2763\n",
      "-2764\n",
      "-2765\n",
      "-2766\n",
      "-2767\n",
      "-2768\n",
      "-2769\n",
      "-2770\n",
      "-2771\n",
      "-2772\n",
      "-2773\n",
      "-2774\n",
      "-2775\n",
      "-2776\n",
      "-2777\n",
      "-2778\n",
      "-2779\n",
      "-2780\n",
      "-2781\n",
      "-2782\n",
      "-2783\n",
      "-2784\n",
      "-2785\n",
      "-2786\n",
      "-2787\n",
      "-2788\n",
      "-2789\n",
      "-2790\n",
      "-2791\n",
      "-2792\n",
      "-2793\n",
      "-2794\n",
      "-2795\n",
      "-2796\n",
      "-2797\n",
      "-2798\n",
      "-2799\n",
      "-2800\n",
      "-2801\n",
      "-2802\n",
      "-2803\n",
      "-2804\n",
      "-2805\n",
      "-2806\n",
      "-2807\n",
      "-2808\n",
      "-2809\n",
      "-2810\n",
      "-2811\n",
      "-2812\n",
      "-2813\n",
      "-2814\n",
      "-2815\n",
      "-2816\n",
      "-2817\n",
      "-2818\n",
      "-2819\n",
      "-2820\n",
      "-2821\n",
      "-2822\n",
      "-2823\n",
      "-2824\n",
      "-2825\n",
      "-2826\n",
      "-2827\n",
      "-2828\n",
      "-2829\n",
      "-2830\n",
      "-2831\n",
      "-2832\n",
      "-2833\n",
      "-2834\n",
      "-2835\n",
      "-2836\n",
      "-2837\n",
      "-2838\n",
      "-2839\n",
      "-2840\n",
      "-2841\n",
      "-2842\n",
      "-2843\n",
      "-2844\n",
      "-2845\n",
      "-2846\n",
      "-2847\n",
      "-2848\n",
      "-2849\n",
      "-2850\n",
      "-2851\n",
      "-2852\n",
      "-2853\n",
      "-2854\n",
      "-2855\n",
      "-2856\n",
      "-2857\n",
      "-2858\n",
      "-2859\n",
      "-2860\n",
      "-2861\n",
      "-2862\n",
      "-2863\n",
      "-2864\n",
      "-2865\n",
      "-2866\n",
      "-2867\n",
      "-2868\n",
      "-2869\n",
      "-2870\n",
      "-2871\n",
      "-2872\n",
      "-2873\n",
      "-2874\n",
      "-2875\n",
      "-2876\n",
      "-2877\n",
      "-2878\n",
      "-2879\n",
      "-2880\n",
      "-2881\n",
      "-2882\n",
      "-2883\n",
      "-2884\n",
      "-2885\n",
      "-2886\n",
      "-2887\n",
      "-2888\n",
      "-2889\n",
      "-2890\n",
      "-2891\n",
      "-2892\n",
      "-2893\n",
      "-2894\n",
      "-2895\n",
      "-2896\n",
      "-2897\n",
      "-2898\n",
      "-2899\n",
      "-2900\n",
      "-2901\n",
      "-2902\n",
      "-2903\n",
      "-2904\n",
      "-2905\n",
      "-2906\n",
      "-2907\n",
      "-2908\n",
      "-2909\n",
      "-2910\n",
      "-2911\n",
      "-2912\n",
      "-2913\n",
      "-2914\n",
      "-2915\n",
      "-2916\n",
      "-2917\n",
      "-2918\n",
      "-2919\n",
      "-2920\n",
      "-2921\n",
      "-2922\n",
      "-2923\n",
      "-2924\n",
      "-2925\n",
      "-2926\n",
      "-2927\n",
      "-2928\n",
      "-2929\n",
      "-2930\n",
      "-2931\n",
      "-2932\n",
      "-2933\n",
      "-2934\n",
      "-2935\n",
      "-2936\n",
      "-2937\n",
      "-2938\n",
      "-2939\n",
      "-2940\n",
      "-2941\n",
      "-2942\n",
      "-2943\n",
      "-2944\n",
      "-2945\n",
      "-2946\n",
      "-2947\n",
      "-2948\n",
      "-2949\n",
      "-2950\n",
      "-2951\n",
      "-2952\n",
      "-2953\n",
      "-2954\n",
      "-2955\n",
      "-2956\n",
      "-2957\n",
      "-2958\n",
      "-2959\n",
      "-2960\n",
      "-2961\n",
      "-2962\n",
      "-2963\n",
      "-2964\n",
      "-2965\n"
     ]
    },
    {
     "ename": "RecursionError",
     "evalue": "maximum recursion depth exceeded while calling a Python object",
     "output_type": "error",
     "traceback": [
      "\u001b[1;31m---------------------------------------------------------------------------\u001b[0m",
      "\u001b[1;31mRecursionError\u001b[0m                            Traceback (most recent call last)",
      "\u001b[1;32mc:\\Users\\saima\\python-tutorial-12-15.ipynb Cell 215\u001b[0m line \u001b[0;36m7\n\u001b[0;32m      <a href='vscode-notebook-cell:/c%3A/Users/saima/python-tutorial-12-15.ipynb#Y460sZmlsZQ%3D%3D?line=2'>3</a>\u001b[0m     \u001b[39mprint\u001b[39m(start)\n\u001b[0;32m      <a href='vscode-notebook-cell:/c%3A/Users/saima/python-tutorial-12-15.ipynb#Y460sZmlsZQ%3D%3D?line=3'>4</a>\u001b[0m     count_down(start\u001b[39m-\u001b[39m\u001b[39m1\u001b[39m)\n\u001b[1;32m----> <a href='vscode-notebook-cell:/c%3A/Users/saima/python-tutorial-12-15.ipynb#Y460sZmlsZQ%3D%3D?line=6'>7</a>\u001b[0m count_down(\u001b[39m3\u001b[39;49m)\n",
      "\u001b[1;32mc:\\Users\\saima\\python-tutorial-12-15.ipynb Cell 215\u001b[0m line \u001b[0;36m4\n\u001b[0;32m      <a href='vscode-notebook-cell:/c%3A/Users/saima/python-tutorial-12-15.ipynb#Y460sZmlsZQ%3D%3D?line=1'>2</a>\u001b[0m \u001b[39m\u001b[39m\u001b[39m\"\"\" Count down from a number  \"\"\"\u001b[39;00m\n\u001b[0;32m      <a href='vscode-notebook-cell:/c%3A/Users/saima/python-tutorial-12-15.ipynb#Y460sZmlsZQ%3D%3D?line=2'>3</a>\u001b[0m \u001b[39mprint\u001b[39m(start)\n\u001b[1;32m----> <a href='vscode-notebook-cell:/c%3A/Users/saima/python-tutorial-12-15.ipynb#Y460sZmlsZQ%3D%3D?line=3'>4</a>\u001b[0m count_down(start\u001b[39m-\u001b[39;49m\u001b[39m1\u001b[39;49m)\n",
      "\u001b[1;32mc:\\Users\\saima\\python-tutorial-12-15.ipynb Cell 215\u001b[0m line \u001b[0;36m4\n\u001b[0;32m      <a href='vscode-notebook-cell:/c%3A/Users/saima/python-tutorial-12-15.ipynb#Y460sZmlsZQ%3D%3D?line=1'>2</a>\u001b[0m \u001b[39m\u001b[39m\u001b[39m\"\"\" Count down from a number  \"\"\"\u001b[39;00m\n\u001b[0;32m      <a href='vscode-notebook-cell:/c%3A/Users/saima/python-tutorial-12-15.ipynb#Y460sZmlsZQ%3D%3D?line=2'>3</a>\u001b[0m \u001b[39mprint\u001b[39m(start)\n\u001b[1;32m----> <a href='vscode-notebook-cell:/c%3A/Users/saima/python-tutorial-12-15.ipynb#Y460sZmlsZQ%3D%3D?line=3'>4</a>\u001b[0m count_down(start\u001b[39m-\u001b[39;49m\u001b[39m1\u001b[39;49m)\n",
      "    \u001b[1;31m[... skipping similar frames: count_down at line 4 (2966 times)]\u001b[0m\n",
      "\u001b[1;32mc:\\Users\\saima\\python-tutorial-12-15.ipynb Cell 215\u001b[0m line \u001b[0;36m4\n\u001b[0;32m      <a href='vscode-notebook-cell:/c%3A/Users/saima/python-tutorial-12-15.ipynb#Y460sZmlsZQ%3D%3D?line=1'>2</a>\u001b[0m \u001b[39m\u001b[39m\u001b[39m\"\"\" Count down from a number  \"\"\"\u001b[39;00m\n\u001b[0;32m      <a href='vscode-notebook-cell:/c%3A/Users/saima/python-tutorial-12-15.ipynb#Y460sZmlsZQ%3D%3D?line=2'>3</a>\u001b[0m \u001b[39mprint\u001b[39m(start)\n\u001b[1;32m----> <a href='vscode-notebook-cell:/c%3A/Users/saima/python-tutorial-12-15.ipynb#Y460sZmlsZQ%3D%3D?line=3'>4</a>\u001b[0m count_down(start\u001b[39m-\u001b[39;49m\u001b[39m1\u001b[39;49m)\n",
      "\u001b[1;32mc:\\Users\\saima\\python-tutorial-12-15.ipynb Cell 215\u001b[0m line \u001b[0;36m3\n\u001b[0;32m      <a href='vscode-notebook-cell:/c%3A/Users/saima/python-tutorial-12-15.ipynb#Y460sZmlsZQ%3D%3D?line=0'>1</a>\u001b[0m \u001b[39mdef\u001b[39;00m \u001b[39mcount_down\u001b[39m(start):\n\u001b[0;32m      <a href='vscode-notebook-cell:/c%3A/Users/saima/python-tutorial-12-15.ipynb#Y460sZmlsZQ%3D%3D?line=1'>2</a>\u001b[0m \u001b[39m    \u001b[39m\u001b[39m\"\"\" Count down from a number  \"\"\"\u001b[39;00m\n\u001b[1;32m----> <a href='vscode-notebook-cell:/c%3A/Users/saima/python-tutorial-12-15.ipynb#Y460sZmlsZQ%3D%3D?line=2'>3</a>\u001b[0m     \u001b[39mprint\u001b[39;49m(start)\n\u001b[0;32m      <a href='vscode-notebook-cell:/c%3A/Users/saima/python-tutorial-12-15.ipynb#Y460sZmlsZQ%3D%3D?line=3'>4</a>\u001b[0m     count_down(start\u001b[39m-\u001b[39m\u001b[39m1\u001b[39m)\n",
      "File \u001b[1;32mc:\\Users\\saima\\anaconda3\\envs\\ece5831-2023\\lib\\site-packages\\ipykernel\\iostream.py:651\u001b[0m, in \u001b[0;36mOutStream.write\u001b[1;34m(self, string)\u001b[0m\n\u001b[0;32m    649\u001b[0m     \u001b[39mraise\u001b[39;00m \u001b[39mValueError\u001b[39;00m(msg)\n\u001b[0;32m    650\u001b[0m \u001b[39melse\u001b[39;00m:\n\u001b[1;32m--> 651\u001b[0m     is_child \u001b[39m=\u001b[39m \u001b[39mnot\u001b[39;00m \u001b[39mself\u001b[39;49m\u001b[39m.\u001b[39;49m_is_master_process()\n\u001b[0;32m    652\u001b[0m     \u001b[39m# only touch the buffer in the IO thread to avoid races\u001b[39;00m\n\u001b[0;32m    653\u001b[0m     \u001b[39mwith\u001b[39;00m \u001b[39mself\u001b[39m\u001b[39m.\u001b[39m_buffer_lock:\n",
      "File \u001b[1;32mc:\\Users\\saima\\anaconda3\\envs\\ece5831-2023\\lib\\site-packages\\ipykernel\\iostream.py:522\u001b[0m, in \u001b[0;36mOutStream._is_master_process\u001b[1;34m(self)\u001b[0m\n\u001b[0;32m    521\u001b[0m \u001b[39mdef\u001b[39;00m \u001b[39m_is_master_process\u001b[39m(\u001b[39mself\u001b[39m):\n\u001b[1;32m--> 522\u001b[0m     \u001b[39mreturn\u001b[39;00m os\u001b[39m.\u001b[39;49mgetpid() \u001b[39m==\u001b[39m \u001b[39mself\u001b[39m\u001b[39m.\u001b[39m_master_pid\n",
      "\u001b[1;31mRecursionError\u001b[0m: maximum recursion depth exceeded while calling a Python object"
     ]
    }
   ],
   "source": [
    "def count_down(start):\n",
    "    \"\"\" Count down from a number  \"\"\"\n",
    "    print(start)\n",
    "    count_down(start-1)\n",
    "\n",
    "\n",
    "count_down(3)"
   ]
  },
  {
   "cell_type": "code",
   "execution_count": 28,
   "metadata": {},
   "outputs": [
    {
     "name": "stdout",
     "output_type": "stream",
     "text": [
      "3\n",
      "2\n",
      "1\n"
     ]
    }
   ],
   "source": [
    "def count_down(start):\n",
    "    \"\"\" Count down from a number  \"\"\"\n",
    "    print(start)\n",
    "\n",
    "    # call the count_down if the next\n",
    "    # number is greater than 0\n",
    "    next = start - 1\n",
    "    if next > 0:\n",
    "        count_down(next)\n",
    "\n",
    "\n",
    "count_down(3)"
   ]
  },
  {
   "cell_type": "markdown",
   "metadata": {},
   "source": [
    "# 2) Using a recursive function to calculate the sum of a sequence\n",
    "Suppose that you need to calculate a sum of a sequence e.g., from 1 to 100. A simple way to do this is to use a for loop with the range() function:"
   ]
  },
  {
   "cell_type": "code",
   "execution_count": 29,
   "metadata": {},
   "outputs": [
    {
     "name": "stdout",
     "output_type": "stream",
     "text": [
      "5050\n"
     ]
    }
   ],
   "source": [
    "def sum(n):\n",
    "    total = 0\n",
    "    for index in range(n+1):\n",
    "        total += index\n",
    "\n",
    "    return total\n",
    "\n",
    "\n",
    "result = sum(100)\n",
    "print(result)"
   ]
  },
  {
   "cell_type": "markdown",
   "metadata": {},
   "source": [
    "# Python Lambda Expressions\n",
    "\n",
    "ADVERTISING\n",
    "\n",
    "\n",
    "Summary: in this tutorial, you’ll learn about Python lambda expressions and how to use them to write anonymous functions.\n",
    "\n",
    "Sometimes, you need to write a simple function that contains one expression. However, you need to use this function once. And it’ll unnecessary to define that function with the def keyword.\n",
    "\n",
    "That’s where the Python lambda expressions come into play.\n",
    "\n",
    "# What are Python lambda expressions\n",
    "Python lambda expressions allow you to define anonymous functions.\n",
    "\n",
    "Anonymous functions are functions without names. The anonymous functions are useful when you need to use them once.\n",
    "\n",
    "A lambda expression typically contains one or more arguments, but it can have only one expression.\n",
    "\n",
    "The following shows the lambda expression syntax:"
   ]
  },
  {
   "cell_type": "markdown",
   "metadata": {},
   "source": [
    "Python lambda expression examples\n",
    "In Python, you can pass a function to another function or return a function from another function.\n",
    "\n",
    "1) Functions that accept a function example\n",
    "The following defines a function called get_full_name() that format the full name from the first name and last name:"
   ]
  },
  {
   "cell_type": "code",
   "execution_count": 31,
   "metadata": {},
   "outputs": [],
   "source": [
    "def get_full_name(first_name, last_name, formatter):\n",
    "    return formatter(first_name, last_name)"
   ]
  },
  {
   "cell_type": "code",
   "execution_count": 32,
   "metadata": {},
   "outputs": [],
   "source": [
    "def first_last(first_name, last_name):\n",
    "    return f\"{first_name} {last_name}\"\n",
    "\n",
    "\n",
    "def last_first(first_name, last_name):\n",
    "    return f\"{last_name}, {first_name}\""
   ]
  },
  {
   "cell_type": "code",
   "execution_count": 33,
   "metadata": {},
   "outputs": [
    {
     "name": "stdout",
     "output_type": "stream",
     "text": [
      "John Doe\n",
      "Doe, John\n"
     ]
    }
   ],
   "source": [
    "full_name = get_full_name('John', 'Doe', first_last)\n",
    "print(full_name) # John Doe\n",
    "\n",
    "full_name = get_full_name('John', 'Doe', last_first)\n",
    "print(full_name) #  Doe, John"
   ]
  },
  {
   "cell_type": "code",
   "execution_count": 34,
   "metadata": {},
   "outputs": [
    {
     "name": "stdout",
     "output_type": "stream",
     "text": [
      "John Doe\n",
      "Doe John\n"
     ]
    }
   ],
   "source": [
    "def get_full_name(first_name, last_name, formatter):\n",
    "    return formatter(first_name, last_name)\n",
    "\n",
    "\n",
    "full_name = get_full_name(\n",
    "    'John',\n",
    "    'Doe',\n",
    "    lambda first_name, last_name: f\"{first_name} {last_name}\"\n",
    ")\n",
    "print(full_name)\n",
    "\n",
    "full_name = get_full_name(\n",
    "    'John',\n",
    "    'Doe',\n",
    "    lambda first_name, last_name: f\"{last_name} {first_name}\"\n",
    ")\n",
    "print(full_name)"
   ]
  },
  {
   "cell_type": "code",
   "execution_count": 35,
   "metadata": {},
   "outputs": [],
   "source": [
    "def times(n):\n",
    "    return lambda x: x * n"
   ]
  },
  {
   "cell_type": "code",
   "execution_count": 36,
   "metadata": {},
   "outputs": [
    {
     "name": "stdout",
     "output_type": "stream",
     "text": [
      "3\n",
      "3\n",
      "3\n"
     ]
    }
   ],
   "source": [
    "callables = []\n",
    "for i in (1, 2, 3):\n",
    "    callables.append(lambda: i)\n",
    "\n",
    "for f in callables:\n",
    "    print(f())"
   ]
  },
  {
   "cell_type": "markdown",
   "metadata": {},
   "source": [
    "# Python Function Docstrings\n",
    "\n",
    "Summary: in this tutorial, you’ll learn about how to use docstrings to add documentation to a function.\n",
    "\n",
    "# Introduction to the help() function\n",
    "Python provides a built-in function called help() that allows you to show the documentation of a function.\n",
    "\n",
    "The following example shows the documentation of the print() function:"
   ]
  },
  {
   "cell_type": "code",
   "execution_count": 37,
   "metadata": {},
   "outputs": [],
   "source": [
    "def add(a, b):\n",
    "    \"Return the sum of two arguments\"\n",
    "    return a + b"
   ]
  },
  {
   "cell_type": "code",
   "execution_count": 38,
   "metadata": {},
   "outputs": [
    {
     "name": "stdout",
     "output_type": "stream",
     "text": [
      "Help on function add in module __main__:\n",
      "\n",
      "add(a, b)\n",
      "    Return the sum of two arguments\n",
      "\n"
     ]
    }
   ],
   "source": [
    "help(add)"
   ]
  },
  {
   "cell_type": "code",
   "execution_count": 39,
   "metadata": {},
   "outputs": [],
   "source": [
    "def add(a, b):\n",
    "    \"\"\" Add two arguments\n",
    "    Arguments:\n",
    "        a: an integer\n",
    "        b: an integer\n",
    "    Returns:\n",
    "        The sum of the two arguments\n",
    "    \"\"\"\n",
    "    return a + b"
   ]
  },
  {
   "cell_type": "markdown",
   "metadata": {},
   "source": [
    "# Python List\n",
    "\n",
    "Summary: in this tutorial, you’ll learn about Python List type and how to manipulate list elements effectively.\n",
    "\n",
    "What is a List\n",
    "A list is an ordered collection of items.\n",
    "\n",
    "Python uses the square brackets ([]) to indicate a list. The following shows an empty list:"
   ]
  },
  {
   "cell_type": "code",
   "execution_count": 40,
   "metadata": {},
   "outputs": [
    {
     "name": "stdout",
     "output_type": "stream",
     "text": [
      "4\n",
      "9\n"
     ]
    }
   ],
   "source": [
    "numbers = [1, 3, 2, 7, 9, 4]\n",
    "print(numbers[-1])\n",
    "print(numbers[-2])"
   ]
  },
  {
   "cell_type": "markdown",
   "metadata": {},
   "source": [
    "# Modifying, adding, and removing elements\n",
    "A list is dynamic. It means that you can modify elements in the list, add new elements to the list, and remove elements from a list.\n",
    "\n",
    "# 1) Modifying elements in a list\n",
    "To change an element, you assign a new value to it using this syntax:"
   ]
  },
  {
   "cell_type": "code",
   "execution_count": 41,
   "metadata": {},
   "outputs": [
    {
     "name": "stdout",
     "output_type": "stream",
     "text": [
      "[10, 3, 2, 7, 9, 4]\n"
     ]
    }
   ],
   "source": [
    "numbers = [1, 3, 2, 7, 9, 4]\n",
    "numbers[0] = 10\n",
    "\n",
    "print(numbers)"
   ]
  },
  {
   "cell_type": "code",
   "execution_count": 42,
   "metadata": {},
   "outputs": [
    {
     "name": "stdout",
     "output_type": "stream",
     "text": [
      "[1, 3, 1.0, 7, 9, 4]\n"
     ]
    }
   ],
   "source": [
    "numbers = [1, 3, 2, 7, 9, 4]\n",
    "numbers[2] /= 2\n",
    "\n",
    "print(numbers)"
   ]
  },
  {
   "cell_type": "code",
   "execution_count": 43,
   "metadata": {},
   "outputs": [
    {
     "name": "stdout",
     "output_type": "stream",
     "text": [
      "[1, 3, 2, 7, 9, 4, 100]\n"
     ]
    }
   ],
   "source": [
    "numbers = [1, 3, 2, 7, 9, 4]\n",
    "numbers.append(100)\n",
    "\n",
    "print(numbers)"
   ]
  },
  {
   "cell_type": "code",
   "execution_count": 44,
   "metadata": {},
   "outputs": [
    {
     "name": "stdout",
     "output_type": "stream",
     "text": [
      "[1, 3, 100, 2, 7, 9, 4]\n"
     ]
    }
   ],
   "source": [
    "numbers = [1, 3, 2, 7, 9, 4]\n",
    "numbers.insert(2, 100)\n",
    "\n",
    "print(numbers)"
   ]
  },
  {
   "cell_type": "code",
   "execution_count": 45,
   "metadata": {},
   "outputs": [
    {
     "name": "stdout",
     "output_type": "stream",
     "text": [
      "[3, 2, 7, 9, 4]\n"
     ]
    }
   ],
   "source": [
    "numbers = [1, 3, 2, 7, 9, 4]\n",
    "del numbers[0]\n",
    "\n",
    "print(numbers)"
   ]
  },
  {
   "cell_type": "code",
   "execution_count": 46,
   "metadata": {},
   "outputs": [
    {
     "name": "stdout",
     "output_type": "stream",
     "text": [
      "4\n",
      "[1, 3, 2, 7, 9]\n"
     ]
    }
   ],
   "source": [
    "numbers = [1, 3, 2, 7, 9, 4]\n",
    "last = numbers.pop()\n",
    "\n",
    "print(last)\n",
    "print(numbers)"
   ]
  },
  {
   "cell_type": "code",
   "execution_count": 47,
   "metadata": {},
   "outputs": [
    {
     "name": "stdout",
     "output_type": "stream",
     "text": [
      "3\n",
      "[1, 2, 7, 9, 4]\n"
     ]
    }
   ],
   "source": [
    "numbers = [1, 3, 2, 7, 9, 4]\n",
    "\n",
    "second = numbers.pop(1)\n",
    "\n",
    "print(second)\n",
    "print(numbers)"
   ]
  },
  {
   "cell_type": "code",
   "execution_count": 48,
   "metadata": {},
   "outputs": [
    {
     "name": "stdout",
     "output_type": "stream",
     "text": [
      "[1, 3, 2, 7, 4, 9]\n"
     ]
    }
   ],
   "source": [
    "numbers = [1, 3, 2, 7, 9, 4, 9]\n",
    "\n",
    "numbers.remove(9)\n",
    "print(numbers)"
   ]
  },
  {
   "cell_type": "markdown",
   "metadata": {},
   "source": [
    "# Python Tuples\n",
    "\n",
    "Summary: in this tutorial, you’ll learn about Python tuples and how to use them effectively.\n",
    "\n",
    "Introduction to Python tuples\n",
    "Sometimes, you want to create a list of items that cannot be changed throughout the program. Tuples allow you to do that.\n",
    "\n",
    "A tuple is a list that cannot change. Python refers to a value that cannot change as immutable. So by definition, a tuple is an immutable list.\n",
    "\n",
    "# Defining a tuple"
   ]
  },
  {
   "cell_type": "code",
   "execution_count": 49,
   "metadata": {},
   "outputs": [
    {
     "name": "stdout",
     "output_type": "stream",
     "text": [
      "red\n",
      "green\n",
      "blue\n"
     ]
    }
   ],
   "source": [
    "rgb = ('red', 'green', 'blue')\n",
    "\n",
    "print(rgb[0])\n",
    "print(rgb[1])\n",
    "print(rgb[2])"
   ]
  },
  {
   "cell_type": "code",
   "execution_count": 50,
   "metadata": {},
   "outputs": [
    {
     "name": "stdout",
     "output_type": "stream",
     "text": [
      "<class 'int'>\n"
     ]
    }
   ],
   "source": [
    "numbers = (3)\n",
    "print(type(numbers))"
   ]
  },
  {
   "cell_type": "code",
   "execution_count": 51,
   "metadata": {},
   "outputs": [
    {
     "name": "stdout",
     "output_type": "stream",
     "text": [
      "('red', 'green', 'blue')\n",
      "('Cyan', 'Magenta', 'Yellow', 'black')\n"
     ]
    }
   ],
   "source": [
    "colors = ('red', 'green', 'blue')\n",
    "print(colors)\n",
    "\n",
    "colors = ('Cyan', 'Magenta', 'Yellow', 'black')\n",
    "print(colors)"
   ]
  },
  {
   "cell_type": "markdown",
   "metadata": {},
   "source": [
    "# Python Sort List\n",
    "\n",
    "Summary: in this tutorial, you’ll learn how to use the Python List sort() method to sort a list.\n",
    "\n",
    "# Introduction to the Python List sort() method\n",
    "To sort a list, you use the sort() method:"
   ]
  },
  {
   "cell_type": "code",
   "execution_count": 52,
   "metadata": {},
   "outputs": [
    {
     "name": "stdout",
     "output_type": "stream",
     "text": [
      "['James', 'Jennifer', 'John', 'Mary', 'Patricia', 'Robert']\n"
     ]
    }
   ],
   "source": [
    "guests = ['James', 'Mary', 'John', 'Patricia', 'Robert', 'Jennifer']\n",
    "guests.sort()\n",
    "\n",
    "print(guests)"
   ]
  },
  {
   "cell_type": "code",
   "execution_count": 53,
   "metadata": {},
   "outputs": [
    {
     "name": "stdout",
     "output_type": "stream",
     "text": [
      "['Robert', 'Patricia', 'Mary', 'John', 'Jennifer', 'James']\n"
     ]
    }
   ],
   "source": [
    "guests = ['James', 'Mary', 'John', 'Patricia', 'Robert', 'Jennifer']\n",
    "guests.sort(reverse=True)\n",
    "\n",
    "print(guests)"
   ]
  },
  {
   "cell_type": "markdown",
   "metadata": {},
   "source": [
    "# 2) Using the Python List sort() method to sort a list of numbers"
   ]
  },
  {
   "cell_type": "code",
   "execution_count": 54,
   "metadata": {},
   "outputs": [
    {
     "name": "stdout",
     "output_type": "stream",
     "text": [
      "[4, 5, 6, 7, 8, 9]\n"
     ]
    }
   ],
   "source": [
    "scores = [5, 7, 4, 6, 9, 8]\n",
    "scores.sort()\n",
    "\n",
    "print(scores)"
   ]
  },
  {
   "cell_type": "code",
   "execution_count": 55,
   "metadata": {},
   "outputs": [
    {
     "name": "stdout",
     "output_type": "stream",
     "text": [
      "[9, 8, 7, 6, 5, 4]\n"
     ]
    }
   ],
   "source": [
    "scores = [5, 7, 4, 6, 9, 8]\n",
    "scores.sort(reverse=True)\n",
    "\n",
    "print(scores)"
   ]
  },
  {
   "cell_type": "markdown",
   "metadata": {},
   "source": [
    "# 3) Using the Python List sort() method to sort a list of tuples"
   ]
  },
  {
   "cell_type": "code",
   "execution_count": 56,
   "metadata": {},
   "outputs": [],
   "source": [
    "companies = [('Google', 2019, 134.81),\n",
    "             ('Apple', 2019, 260.2),\n",
    "             ('Facebook', 2019, 70.7)]"
   ]
  },
  {
   "cell_type": "code",
   "execution_count": 57,
   "metadata": {},
   "outputs": [
    {
     "name": "stdout",
     "output_type": "stream",
     "text": [
      "[('Facebook', 2019, 70.7), ('Google', 2019, 134.81), ('Apple', 2019, 260.2)]\n"
     ]
    }
   ],
   "source": [
    "companies = [('Google', 2019, 134.81),\n",
    "             ('Apple', 2019, 260.2),\n",
    "             ('Facebook', 2019, 70.7)]\n",
    "\n",
    "# sort the companies by revenue\n",
    "companies.sort(key=lambda company: company[2])\n",
    "\n",
    "# show the sorted companies\n",
    "print(companies)"
   ]
  },
  {
   "cell_type": "markdown",
   "metadata": {},
   "source": [
    "# Python sorted\n",
    "\n",
    "Summary: in this tutorial, you’ll learn how to use the Python sorted() function to sort a list.\n",
    "\n",
    "# Introduction to the Python sorted() function\n",
    "The sort() method sorts a list in place. In other words, it changes the order of elements in the original list.\n",
    "\n",
    "To return the new sorted list from the original list, you use the sorted() function:"
   ]
  },
  {
   "cell_type": "markdown",
   "metadata": {},
   "source": [
    "# 1) Using Python sorted() function to sort a list of strings\n",
    "The following example uses the sorted() function to sort a list of strings in alphabetical order:"
   ]
  },
  {
   "cell_type": "code",
   "execution_count": 58,
   "metadata": {},
   "outputs": [
    {
     "name": "stdout",
     "output_type": "stream",
     "text": [
      "['James', 'Mary', 'John', 'Patricia', 'Robert', 'Jennifer']\n",
      "['James', 'Jennifer', 'John', 'Mary', 'Patricia', 'Robert']\n"
     ]
    }
   ],
   "source": [
    "guests = ['James', 'Mary', 'John', 'Patricia', 'Robert', 'Jennifer']\n",
    "sorted_guests = sorted(guests)\n",
    "\n",
    "print(guests)\n",
    "print(sorted_guests)"
   ]
  },
  {
   "cell_type": "markdown",
   "metadata": {},
   "source": [
    "# 2) Using Python sorted() function to sort a list of numbers"
   ]
  },
  {
   "cell_type": "code",
   "execution_count": 59,
   "metadata": {},
   "outputs": [
    {
     "name": "stdout",
     "output_type": "stream",
     "text": [
      "[4, 5, 6, 7, 8, 9]\n"
     ]
    }
   ],
   "source": [
    "scores = [5, 7, 4, 6, 9, 8]\n",
    "sorted_scores = sorted(scores)\n",
    "\n",
    "print(sorted_scores)"
   ]
  },
  {
   "cell_type": "markdown",
   "metadata": {},
   "source": [
    "# Python List Slice\n",
    "\n",
    "Summary: in this tutorial, you’ll learn about Python list slice and how to use it to manipulate lists effectively.\n",
    "\n",
    "# Introduction to Python List slice notation\n",
    "Lists support the slice notation that allows you to get a sublist from a list:"
   ]
  },
  {
   "cell_type": "code",
   "execution_count": 60,
   "metadata": {},
   "outputs": [
    {
     "name": "stdout",
     "output_type": "stream",
     "text": [
      "['orange', 'yellow', 'green']\n"
     ]
    }
   ],
   "source": [
    "colors = ['red', 'orange', 'yellow', 'green', 'blue', 'indigo', 'violet']\n",
    "sub_colors = colors[1:4]\n",
    "\n",
    "print(sub_colors)"
   ]
  },
  {
   "cell_type": "markdown",
   "metadata": {},
   "source": [
    "The begin index is 1, so the slice starts from the 'orange' color. The end index is 4, therefore, the last element of the slice is 'green'.\n",
    "\n",
    "As a result, the slice creates a new list with three colors: ['orange', 'yellow', 'green'].\n",
    "\n",
    "This example doesn’t use the step, so the slice gets all values within the range without skipping any elements.\n",
    "\n",
    "# 2) Using Python List slice to get the n-first elements from a list\n",
    "To get the n-first elements from a list, you omit the first argument:"
   ]
  },
  {
   "cell_type": "code",
   "execution_count": 61,
   "metadata": {},
   "outputs": [
    {
     "name": "stdout",
     "output_type": "stream",
     "text": [
      "['red', 'orange', 'yellow']\n"
     ]
    }
   ],
   "source": [
    "colors = ['red', 'orange', 'yellow', 'green', 'blue', 'indigo', 'violet']\n",
    "sub_colors = colors[:3]\n",
    "\n",
    "print(sub_colors)"
   ]
  },
  {
   "cell_type": "markdown",
   "metadata": {},
   "source": [
    "# 3) Using Python List slice to get the n-last elements from a list\n",
    "To get the n-last elements of a list, you use the negative indexes.\n",
    "\n",
    "For example, the following returns a list that includes the last 3 elements of the colors list:\n"
   ]
  },
  {
   "cell_type": "code",
   "execution_count": 64,
   "metadata": {},
   "outputs": [
    {
     "name": "stdout",
     "output_type": "stream",
     "text": [
      "['blue', 'indigo', 'violet']\n"
     ]
    }
   ],
   "source": [
    "colors = ['red', 'orange', 'yellow', 'green', 'blue', 'indigo', 'violet']\n",
    "sub_colors = colors[-3:]\n",
    "\n",
    "print(sub_colors)"
   ]
  },
  {
   "cell_type": "markdown",
   "metadata": {},
   "source": [
    "# 4) Using Python List slice to get every nth element from a list\n",
    "The following example uses the step to return a sublist that includes every 2nd element of the colors list:"
   ]
  },
  {
   "cell_type": "code",
   "execution_count": 65,
   "metadata": {},
   "outputs": [
    {
     "name": "stdout",
     "output_type": "stream",
     "text": [
      "['red', 'yellow', 'blue', 'violet']\n"
     ]
    }
   ],
   "source": [
    "colors = ['red', 'orange', 'yellow', 'green', 'blue', 'indigo', 'violet']\n",
    "sub_colors = colors[::2]\n",
    "\n",
    "print(sub_colors)"
   ]
  },
  {
   "cell_type": "markdown",
   "metadata": {},
   "source": [
    "# 5) Using Python List slice to reverse a list\n",
    "When you use a negative step, the slice includes the list of elements starting from the last element to the first element. In other words, it reverses the list. See the following example:"
   ]
  },
  {
   "cell_type": "code",
   "execution_count": 66,
   "metadata": {},
   "outputs": [
    {
     "name": "stdout",
     "output_type": "stream",
     "text": [
      "['violet', 'indigo', 'blue', 'green', 'yellow', 'orange', 'red']\n"
     ]
    }
   ],
   "source": [
    "colors = ['red', 'orange', 'yellow', 'green', 'blue', 'indigo', 'violet']\n",
    "reversed_colors = colors[::-1]\n",
    "\n",
    "print(reversed_colors)"
   ]
  },
  {
   "cell_type": "markdown",
   "metadata": {},
   "source": [
    "# 6) Using Python List slice to substitute part of a list\n",
    "Besides extracting a part of a list, the list slice allows you to change the list element.\n",
    "\n",
    "The following example changes the first two elements in the colors list to the new values:"
   ]
  },
  {
   "cell_type": "code",
   "execution_count": 67,
   "metadata": {},
   "outputs": [
    {
     "name": "stdout",
     "output_type": "stream",
     "text": [
      "['black', 'white', 'yellow', 'green', 'blue', 'indigo', 'violet']\n"
     ]
    }
   ],
   "source": [
    "colors = ['red', 'orange', 'yellow', 'green', 'blue', 'indigo', 'violet']\n",
    "colors[0:2] = ['black', 'white']\n",
    "\n",
    "print(colors)"
   ]
  },
  {
   "cell_type": "markdown",
   "metadata": {},
   "source": [
    "# 7) Using Python List slice to partially replace and resize a list\n",
    "The following example uses the list slice to replace the first and second elements with the new ones and also add a new element to the list:"
   ]
  },
  {
   "cell_type": "code",
   "execution_count": 68,
   "metadata": {},
   "outputs": [
    {
     "name": "stdout",
     "output_type": "stream",
     "text": [
      "The list has 7 elements\n",
      "['black', 'white', 'gray', 'yellow', 'green', 'blue', 'indigo', 'violet']\n",
      "The list now has 8 elements\n"
     ]
    }
   ],
   "source": [
    "colors = ['red', 'orange', 'yellow', 'green', 'blue', 'indigo', 'violet']\n",
    "print(f\"The list has {len(colors)} elements\")\n",
    "\n",
    "colors[0:2] = ['black', 'white', 'gray']\n",
    "print(colors)\n",
    "print(f\"The list now has {len(colors)} elements\")"
   ]
  },
  {
   "cell_type": "markdown",
   "metadata": {},
   "source": [
    "# 8) Using Python list slice to delete elements\n",
    "The following shows how to use the list slice to delete the 3rd, 4th, and 5th elements from the colors list:"
   ]
  },
  {
   "cell_type": "code",
   "execution_count": 69,
   "metadata": {},
   "outputs": [
    {
     "name": "stdout",
     "output_type": "stream",
     "text": [
      "['red', 'orange', 'indigo', 'violet']\n"
     ]
    }
   ],
   "source": [
    "colors = ['red', 'orange', 'yellow', 'green', 'blue', 'indigo', 'violet']\n",
    "del colors[2:5]\n",
    "\n",
    "print(colors)"
   ]
  },
  {
   "cell_type": "markdown",
   "metadata": {},
   "source": [
    "# How to Unpack a List in Python\n",
    "\n",
    "Summary: in this tutorial, you’ll learn how to unpack a list in Python to make your code more concise.\n",
    "\n",
    "# Introduction to the list unpacking\n",
    "The following example defines a list of strings:"
   ]
  },
  {
   "cell_type": "code",
   "execution_count": 70,
   "metadata": {},
   "outputs": [
    {
     "name": "stdout",
     "output_type": "stream",
     "text": [
      "red\n",
      "blue\n",
      "['green']\n"
     ]
    }
   ],
   "source": [
    "colors = ['red', 'blue', 'green']\n",
    "red, blue, *other = colors\n",
    "\n",
    "print(red)\n",
    "print(blue)\n",
    "print(other)"
   ]
  },
  {
   "cell_type": "code",
   "execution_count": 71,
   "metadata": {},
   "outputs": [
    {
     "name": "stdout",
     "output_type": "stream",
     "text": [
      "cyan\n",
      "magenta\n",
      "['yellow', 'black']\n"
     ]
    }
   ],
   "source": [
    "colors = ['cyan', 'magenta', 'yellow', 'black']\n",
    "cyan, magenta, *other = colors\n",
    "\n",
    "print(cyan)\n",
    "print(magenta)\n",
    "print(other)"
   ]
  },
  {
   "cell_type": "markdown",
   "metadata": {},
   "source": [
    "# How to Use a For Loop to Iterate over a List\n",
    "\n",
    "Summary: in this tutorial, you’ll learn how to use the Python for loop to iterate over a list in Python.\n",
    "\n",
    "# Using Python for loop to iterate over a list\n",
    "To iterate over a list, you use the for loop statement as follows:"
   ]
  },
  {
   "cell_type": "code",
   "execution_count": 72,
   "metadata": {},
   "outputs": [
    {
     "name": "stdout",
     "output_type": "stream",
     "text": [
      "New York\n",
      "Beijing\n",
      "Cairo\n",
      "Mumbai\n",
      "Mexico\n"
     ]
    }
   ],
   "source": [
    "cities = ['New York', 'Beijing', 'Cairo', 'Mumbai', 'Mexico']\n",
    "\n",
    "for city in cities:\n",
    "    print(city)"
   ]
  },
  {
   "cell_type": "markdown",
   "metadata": {},
   "source": [
    "# Using Python for loop to iterate over a list with index\n",
    "Sometimes, you may want to access indexes of elements inside the loop. In these cases, you can use the enumerate() function.\n",
    "\n",
    "The enumerate() function returns a tuple that contains the current index and element of the list.\n",
    "\n",
    "The following example defines a list of cities and uses a for loop with the enumerate() function to iterate over the list:"
   ]
  },
  {
   "cell_type": "code",
   "execution_count": 73,
   "metadata": {},
   "outputs": [
    {
     "name": "stdout",
     "output_type": "stream",
     "text": [
      "(0, 'New York')\n",
      "(1, 'Beijing')\n",
      "(2, 'Cairo')\n",
      "(3, 'Mumbai')\n",
      "(4, 'Mexico')\n"
     ]
    }
   ],
   "source": [
    "cities = ['New York', 'Beijing', 'Cairo', 'Mumbai', 'Mexico']\n",
    "\n",
    "for item in enumerate(cities):\n",
    "    print(item)"
   ]
  },
  {
   "cell_type": "code",
   "execution_count": 74,
   "metadata": {},
   "outputs": [
    {
     "name": "stdout",
     "output_type": "stream",
     "text": [
      "0: New York\n",
      "1: Beijing\n",
      "2: Cairo\n",
      "3: Mumbai\n",
      "4: Mexico\n"
     ]
    }
   ],
   "source": [
    "cities = ['New York', 'Beijing', 'Cairo', 'Mumbai', 'Mexico']\n",
    "\n",
    "for index, city in enumerate(cities):\n",
    "    print(f\"{index}: {city}\")"
   ]
  },
  {
   "cell_type": "code",
   "execution_count": 75,
   "metadata": {},
   "outputs": [
    {
     "name": "stdout",
     "output_type": "stream",
     "text": [
      "1: New York\n",
      "2: Beijing\n",
      "3: Cairo\n",
      "4: Mumbai\n",
      "5: Mexico\n"
     ]
    }
   ],
   "source": [
    "cities = ['New York', 'Beijing', 'Cairo', 'Mumbai', 'Mexico']\n",
    "\n",
    "for index, city in enumerate(cities,1):\n",
    "    print(f\"{index}: {city}\")"
   ]
  },
  {
   "cell_type": "markdown",
   "metadata": {},
   "source": [
    "# Python Iterables\n",
    "\n",
    "Summary: in this tutorial, you’ll learn about the Python iterables and iterators.\n",
    "\n",
    "# Introduction to Python iterables\n",
    "In Python, an iterable is an object that includes zero, one, or many elements. An iterable has the ability to return its elements one at a time.\n",
    "\n",
    "Because of this feature, you can use a for loop to iterate over an iterable.\n",
    "\n",
    "In fact, the range() function is an iterable because you can iterate over its result:"
   ]
  },
  {
   "cell_type": "code",
   "execution_count": 77,
   "metadata": {},
   "outputs": [
    {
     "name": "stdout",
     "output_type": "stream",
     "text": [
      "0\n",
      "1\n",
      "2\n"
     ]
    }
   ],
   "source": [
    "\n",
    "for index in range(3):\n",
    "    print(index)"
   ]
  },
  {
   "cell_type": "code",
   "execution_count": 78,
   "metadata": {},
   "outputs": [],
   "source": [
    "colors = ['red', 'green', 'blue']\n",
    "colors_iter = iter(colors)"
   ]
  },
  {
   "cell_type": "code",
   "execution_count": 79,
   "metadata": {},
   "outputs": [
    {
     "name": "stdout",
     "output_type": "stream",
     "text": [
      "red\n"
     ]
    }
   ],
   "source": [
    "colors = ['red', 'green', 'blue']\n",
    "colors_iter = iter(colors)\n",
    "\n",
    "color = next(colors_iter)\n",
    "print(color)"
   ]
  },
  {
   "cell_type": "code",
   "execution_count": 80,
   "metadata": {},
   "outputs": [
    {
     "name": "stdout",
     "output_type": "stream",
     "text": [
      "red\n",
      "green\n",
      "blue\n"
     ]
    }
   ],
   "source": [
    "colors = ['red', 'green', 'blue']\n",
    "colors_iter = iter(colors)\n",
    "\n",
    "color = next(colors_iter)\n",
    "print(color)\n",
    "\n",
    "color = next(colors_iter)\n",
    "print(color)\n",
    "\n",
    "color = next(colors_iter)\n",
    "print(color)"
   ]
  },
  {
   "cell_type": "code",
   "execution_count": 81,
   "metadata": {},
   "outputs": [
    {
     "name": "stdout",
     "output_type": "stream",
     "text": [
      "red\n",
      "green\n",
      "blue\n"
     ]
    },
    {
     "ename": "StopIteration",
     "evalue": "",
     "output_type": "error",
     "traceback": [
      "\u001b[1;31m---------------------------------------------------------------------------\u001b[0m",
      "\u001b[1;31mStopIteration\u001b[0m                             Traceback (most recent call last)",
      "\u001b[1;32mc:\\Users\\saima\\python-tutorial-12-15.ipynb Cell 290\u001b[0m line \u001b[0;36m1\n\u001b[0;32m     <a href='vscode-notebook-cell:/c%3A/Users/saima/python-tutorial-12-15.ipynb#Y626sZmlsZQ%3D%3D?line=10'>11</a>\u001b[0m \u001b[39mprint\u001b[39m(color)\n\u001b[0;32m     <a href='vscode-notebook-cell:/c%3A/Users/saima/python-tutorial-12-15.ipynb#Y626sZmlsZQ%3D%3D?line=12'>13</a>\u001b[0m \u001b[39m# cause an excpetion\u001b[39;00m\n\u001b[1;32m---> <a href='vscode-notebook-cell:/c%3A/Users/saima/python-tutorial-12-15.ipynb#Y626sZmlsZQ%3D%3D?line=13'>14</a>\u001b[0m color \u001b[39m=\u001b[39m \u001b[39mnext\u001b[39;49m(colors_iter)\n\u001b[0;32m     <a href='vscode-notebook-cell:/c%3A/Users/saima/python-tutorial-12-15.ipynb#Y626sZmlsZQ%3D%3D?line=14'>15</a>\u001b[0m \u001b[39mprint\u001b[39m(color)\n",
      "\u001b[1;31mStopIteration\u001b[0m: "
     ]
    }
   ],
   "source": [
    "colors = ['red', 'green', 'blue']\n",
    "colors_iter = iter(colors)\n",
    "\n",
    "color = next(colors_iter)\n",
    "print(color)\n",
    "\n",
    "color = next(colors_iter)\n",
    "print(color)\n",
    "\n",
    "color = next(colors_iter)\n",
    "print(color)\n",
    "\n",
    "# cause an excpetion\n",
    "color = next(colors_iter)\n",
    "print(color)"
   ]
  },
  {
   "cell_type": "code",
   "execution_count": 82,
   "metadata": {},
   "outputs": [
    {
     "name": "stdout",
     "output_type": "stream",
     "text": [
      "red\n",
      "green\n",
      "blue\n"
     ]
    }
   ],
   "source": [
    "colors = ['red', 'green', 'blue']\n",
    "iterator = iter(colors)\n",
    "\n",
    "for color in iterator:\n",
    "    print(color)"
   ]
  },
  {
   "cell_type": "markdown",
   "metadata": {},
   "source": [
    "# How to Transform List Elements with Python map() Function\n",
    "\n",
    "Summary: in this tutorial, you’ll learn how to use the Python map() function with lists.\n",
    "\n",
    "# Introduction to the Python map() function\n",
    "When working with a list (or a tuple), you often need to transform the elements of the list and return a new list that contains the transformed element.\n",
    "\n",
    "Suppose, you want to double every number in the following bonuses list:"
   ]
  },
  {
   "cell_type": "code",
   "execution_count": 83,
   "metadata": {},
   "outputs": [
    {
     "name": "stdout",
     "output_type": "stream",
     "text": [
      "[200, 400, 600]\n"
     ]
    }
   ],
   "source": [
    "bonuses = [100, 200, 300]\n",
    "\n",
    "new_bonuses = []\n",
    "\n",
    "for bonus in bonuses:\n",
    "    new_bonuses.append(bonus*2)\n",
    "\n",
    "print(new_bonuses)"
   ]
  },
  {
   "cell_type": "code",
   "execution_count": 84,
   "metadata": {},
   "outputs": [
    {
     "name": "stdout",
     "output_type": "stream",
     "text": [
      "['David', 'Peter', 'Jenifer']\n"
     ]
    }
   ],
   "source": [
    "names = ['david', 'peter', 'jenifer']\n",
    "new_names = map(lambda name: name.capitalize(), names)\n",
    "print(list(new_names))"
   ]
  },
  {
   "cell_type": "markdown",
   "metadata": {},
   "source": [
    "# How to Filter List Elements in Python\n",
    "\n",
    "Summary: in this tutorial, you’ll learn how to filter list elements by using the built-in Python filter() function.\n",
    "\n",
    "# Introduction to Python filter() function\n",
    "Sometimes, you need to iterate over elements of a list and select some of them based on specified criteria.\n",
    "\n",
    "Suppose that you have the following list of scores:\n",
    "\n",
    "scores = [70, 60, 80, 90, 50]\n",
    "Code language: Python (python)\n",
    "To get all elements from the scores list where each element is greater than or equal to 70, you use the following code:"
   ]
  },
  {
   "cell_type": "markdown",
   "metadata": {},
   "source": []
  },
  {
   "cell_type": "code",
   "execution_count": 85,
   "metadata": {},
   "outputs": [
    {
     "name": "stdout",
     "output_type": "stream",
     "text": [
      "[70, 80, 90]\n"
     ]
    }
   ],
   "source": [
    "scores = [70, 60, 80, 90, 50]\n",
    "\n",
    "filtered = []\n",
    "\n",
    "for score in scores:\n",
    "    if score >= 70:\n",
    "        filtered.append(score)\n",
    "\n",
    "print(filtered)"
   ]
  },
  {
   "cell_type": "code",
   "execution_count": 86,
   "metadata": {},
   "outputs": [
    {
     "name": "stdout",
     "output_type": "stream",
     "text": [
      "[70, 80, 90]\n"
     ]
    }
   ],
   "source": [
    "scores = [70, 60, 80, 90, 50]\n",
    "filtered = filter(lambda score: score >= 70, scores)\n",
    "\n",
    "print(list(filtered))"
   ]
  },
  {
   "cell_type": "code",
   "execution_count": 87,
   "metadata": {},
   "outputs": [
    {
     "name": "stdout",
     "output_type": "stream",
     "text": [
      "[['China', 1394015977], ['United States', 329877505], ['India', 1326093247]]\n"
     ]
    }
   ],
   "source": [
    "countries = [\n",
    "    ['China', 1394015977],\n",
    "    ['United States', 329877505],\n",
    "    ['India', 1326093247],\n",
    "    ['Indonesia', 267026366],\n",
    "    ['Bangladesh', 162650853],\n",
    "    ['Pakistan', 233500636],\n",
    "    ['Nigeria', 214028302],\n",
    "    ['Brazil', 21171597],\n",
    "    ['Russia', 141722205],\n",
    "    ['Mexico', 128649565]\n",
    "]\n",
    "\n",
    "populated = filter(lambda c: c[1] > 300000000, countries)\n",
    "\n",
    "print(list(populated))"
   ]
  },
  {
   "cell_type": "markdown",
   "metadata": {},
   "source": [
    "# How to Use the Python Reduce() function to Reduce a List into a Single Value\n",
    "\n",
    "Summary: in this tutorial, you’ll learn how to use the Python reduce() function to reduce a list into a single value.\n",
    "\n",
    "# Reducing a list\n",
    "Sometimes, you want to reduce a list to a single value. For example, suppose that you have a list of numbers:"
   ]
  },
  {
   "cell_type": "code",
   "execution_count": 88,
   "metadata": {},
   "outputs": [
    {
     "name": "stdout",
     "output_type": "stream",
     "text": [
      "365\n"
     ]
    }
   ],
   "source": [
    "scores = [75, 65, 80, 95, 50]\n",
    "\n",
    "total = 0\n",
    "\n",
    "for score in scores:\n",
    "    total += score\n",
    "\n",
    "print(total)"
   ]
  },
  {
   "cell_type": "code",
   "execution_count": 89,
   "metadata": {},
   "outputs": [
    {
     "name": "stdout",
     "output_type": "stream",
     "text": [
      "a=75, b=65, 75 + 65 =140\n",
      "a=140, b=80, 140 + 80 =220\n",
      "a=220, b=95, 220 + 95 =315\n",
      "a=315, b=50, 315 + 50 =365\n",
      "365\n"
     ]
    }
   ],
   "source": [
    "from functools import reduce\n",
    "\n",
    "def sum(a, b):\n",
    "    print(f\"a={a}, b={b}, {a} + {b} ={a+b}\")\n",
    "    return a + b\n",
    "\n",
    "\n",
    "scores = [75, 65, 80, 95, 50]\n",
    "total = reduce(sum, scores)\n",
    "print(total)"
   ]
  },
  {
   "cell_type": "code",
   "execution_count": 90,
   "metadata": {},
   "outputs": [
    {
     "name": "stdout",
     "output_type": "stream",
     "text": [
      "365\n"
     ]
    }
   ],
   "source": [
    "from functools import reduce\n",
    "\n",
    "scores = [75, 65, 80, 95, 50]\n",
    "\n",
    "total = reduce(lambda a, b: a + b, scores)\n",
    "\n",
    "print(total)"
   ]
  },
  {
   "cell_type": "markdown",
   "metadata": {},
   "source": [
    "# Python Dictionary\n",
    "\n",
    "Summary: in this tutorial, you’ll learn about Python Dictionary which allows you to organize related information.\n",
    "\n",
    "# Introduction to the Python Dictionary type\n",
    "A Python dictionary is a collection of key-value pairs where each key is associated with a value.\n",
    "\n",
    "A value in the key-value pair can be a number, a string, a list, a tuple, or even another dictionary. In fact, you can use a value of any valid type in Python as the value in the key-value pair.\n",
    "\n",
    "A key in the key-value pair must be immutable. In other words, the key cannot be changed, for example, a number, a string, a tuple, etc.\n",
    "\n",
    "Python uses curly braces {} to define a dictionary. Inside the curly braces, you can place zero, one, or many key-value pairs.\n",
    "\n",
    "The following example defines an empty dictionary:"
   ]
  },
  {
   "cell_type": "code",
   "execution_count": 91,
   "metadata": {},
   "outputs": [
    {
     "name": "stdout",
     "output_type": "stream",
     "text": [
      "John\n",
      "Doe\n"
     ]
    }
   ],
   "source": [
    "person = {\n",
    "    'first_name': 'John',\n",
    "    'last_name': 'Doe',\n",
    "    'age': 25,\n",
    "    'favorite_colors': ['blue', 'green'],\n",
    "    'active': True\n",
    "}\n",
    "print(person['first_name'])\n",
    "print(person['last_name'])"
   ]
  },
  {
   "cell_type": "code",
   "execution_count": 92,
   "metadata": {},
   "outputs": [
    {
     "ename": "KeyError",
     "evalue": "'ssn'",
     "output_type": "error",
     "traceback": [
      "\u001b[1;31m---------------------------------------------------------------------------\u001b[0m",
      "\u001b[1;31mKeyError\u001b[0m                                  Traceback (most recent call last)",
      "\u001b[1;32mc:\\Users\\saima\\python-tutorial-12-15.ipynb Cell 306\u001b[0m line \u001b[0;36m9\n\u001b[0;32m      <a href='vscode-notebook-cell:/c%3A/Users/saima/python-tutorial-12-15.ipynb#Y651sZmlsZQ%3D%3D?line=0'>1</a>\u001b[0m person \u001b[39m=\u001b[39m {\n\u001b[0;32m      <a href='vscode-notebook-cell:/c%3A/Users/saima/python-tutorial-12-15.ipynb#Y651sZmlsZQ%3D%3D?line=1'>2</a>\u001b[0m     \u001b[39m'\u001b[39m\u001b[39mfirst_name\u001b[39m\u001b[39m'\u001b[39m: \u001b[39m'\u001b[39m\u001b[39mJohn\u001b[39m\u001b[39m'\u001b[39m,\n\u001b[0;32m      <a href='vscode-notebook-cell:/c%3A/Users/saima/python-tutorial-12-15.ipynb#Y651sZmlsZQ%3D%3D?line=2'>3</a>\u001b[0m     \u001b[39m'\u001b[39m\u001b[39mlast_name\u001b[39m\u001b[39m'\u001b[39m: \u001b[39m'\u001b[39m\u001b[39mDoe\u001b[39m\u001b[39m'\u001b[39m,\n\u001b[1;32m   (...)\u001b[0m\n\u001b[0;32m      <a href='vscode-notebook-cell:/c%3A/Users/saima/python-tutorial-12-15.ipynb#Y651sZmlsZQ%3D%3D?line=5'>6</a>\u001b[0m     \u001b[39m'\u001b[39m\u001b[39mactive\u001b[39m\u001b[39m'\u001b[39m: \u001b[39mTrue\u001b[39;00m\n\u001b[0;32m      <a href='vscode-notebook-cell:/c%3A/Users/saima/python-tutorial-12-15.ipynb#Y651sZmlsZQ%3D%3D?line=6'>7</a>\u001b[0m }\n\u001b[1;32m----> <a href='vscode-notebook-cell:/c%3A/Users/saima/python-tutorial-12-15.ipynb#Y651sZmlsZQ%3D%3D?line=8'>9</a>\u001b[0m ssn \u001b[39m=\u001b[39m person[\u001b[39m'\u001b[39;49m\u001b[39mssn\u001b[39;49m\u001b[39m'\u001b[39;49m]\n",
      "\u001b[1;31mKeyError\u001b[0m: 'ssn'"
     ]
    }
   ],
   "source": [
    "person = {\n",
    "    'first_name': 'John',\n",
    "    'last_name': 'Doe',\n",
    "    'age': 25,\n",
    "    'favorite_colors': ['blue', 'green'],\n",
    "    'active': True\n",
    "}\n",
    "\n",
    "ssn = person['ssn']"
   ]
  },
  {
   "cell_type": "code",
   "execution_count": 93,
   "metadata": {},
   "outputs": [
    {
     "name": "stdout",
     "output_type": "stream",
     "text": [
      "None\n"
     ]
    }
   ],
   "source": [
    "person = {\n",
    "    'first_name': 'John',\n",
    "    'last_name': 'Doe',\n",
    "    'age': 25,\n",
    "    'favorite_colors': ['blue', 'green'],\n",
    "    'active': True\n",
    "}\n",
    "\n",
    "ssn = person.get('ssn')\n",
    "print(ssn)"
   ]
  },
  {
   "cell_type": "code",
   "execution_count": 94,
   "metadata": {},
   "outputs": [
    {
     "name": "stdout",
     "output_type": "stream",
     "text": [
      "000-00-0000\n"
     ]
    }
   ],
   "source": [
    "person = {\n",
    "    'first_name': 'John',\n",
    "    'last_name': 'Doe',\n",
    "    'age': 25,\n",
    "    'favorite_colors': ['blue', 'green'],\n",
    "    'active': True\n",
    "}\n",
    "\n",
    "ssn = person.get('ssn', '000-00-0000')\n",
    "print(ssn)"
   ]
  },
  {
   "cell_type": "code",
   "execution_count": 95,
   "metadata": {},
   "outputs": [
    {
     "name": "stdout",
     "output_type": "stream",
     "text": [
      "{'first_name': 'John', 'last_name': 'Doe', 'age': 26, 'favorite_colors': ['blue', 'green'], 'active': True}\n"
     ]
    }
   ],
   "source": [
    "person = {\n",
    "    'first_name': 'John',\n",
    "    'last_name': 'Doe',\n",
    "    'age': 25,\n",
    "    'favorite_colors': ['blue', 'green'],\n",
    "    'active': True\n",
    "}\n",
    "\n",
    "person['age'] = 26\n",
    "\n",
    "print(person)"
   ]
  },
  {
   "cell_type": "code",
   "execution_count": 96,
   "metadata": {},
   "outputs": [
    {
     "name": "stdout",
     "output_type": "stream",
     "text": [
      "{'first_name': 'John', 'last_name': 'Doe', 'age': 25, 'favorite_colors': ['blue', 'green']}\n"
     ]
    }
   ],
   "source": [
    "person = {\n",
    "    'first_name': 'John',\n",
    "    'last_name': 'Doe',\n",
    "    'age': 25,\n",
    "    'favorite_colors': ['blue', 'green'],\n",
    "    'active': True\n",
    "}\n",
    "\n",
    "del person['active']\n",
    "print(person)"
   ]
  },
  {
   "cell_type": "code",
   "execution_count": 97,
   "metadata": {},
   "outputs": [
    {
     "name": "stdout",
     "output_type": "stream",
     "text": [
      "dict_items([('first_name', 'John'), ('last_name', 'Doe'), ('age', 25), ('favorite_colors', ['blue', 'green']), ('active', True)])\n"
     ]
    }
   ],
   "source": [
    "person = {\n",
    "    'first_name': 'John',\n",
    "    'last_name': 'Doe',\n",
    "    'age': 25,\n",
    "    'favorite_colors': ['blue', 'green'],\n",
    "    'active': True\n",
    "}\n",
    "\n",
    "print(person.items())"
   ]
  },
  {
   "cell_type": "code",
   "execution_count": 98,
   "metadata": {},
   "outputs": [
    {
     "name": "stdout",
     "output_type": "stream",
     "text": [
      "first_name: John\n",
      "last_name: Doe\n",
      "age: 25\n",
      "favorite_colors: ['blue', 'green']\n",
      "active: True\n"
     ]
    }
   ],
   "source": [
    "person = {\n",
    "    'first_name': 'John',\n",
    "    'last_name': 'Doe',\n",
    "    'age': 25,\n",
    "    'favorite_colors': ['blue', 'green'],\n",
    "    'active': True\n",
    "}\n",
    "\n",
    "for key, value in person.items():\n",
    "    print(f\"{key}: {value}\")"
   ]
  },
  {
   "cell_type": "code",
   "execution_count": 99,
   "metadata": {},
   "outputs": [
    {
     "name": "stdout",
     "output_type": "stream",
     "text": [
      "first_name\n",
      "last_name\n",
      "age\n",
      "favorite_colors\n",
      "active\n"
     ]
    }
   ],
   "source": [
    "\n",
    "person = {\n",
    "    'first_name': 'John',\n",
    "    'last_name': 'Doe',\n",
    "    'age': 25,\n",
    "    'favorite_colors': ['blue', 'green'],\n",
    "    'active': True\n",
    "}\n",
    "\n",
    "for key in person.keys():\n",
    "    print(key)"
   ]
  },
  {
   "cell_type": "code",
   "execution_count": 100,
   "metadata": {},
   "outputs": [
    {
     "name": "stdout",
     "output_type": "stream",
     "text": [
      "first_name\n",
      "last_name\n",
      "age\n",
      "favorite_colors\n",
      "active\n"
     ]
    }
   ],
   "source": [
    "person = {\n",
    "    'first_name': 'John',\n",
    "    'last_name': 'Doe',\n",
    "    'age': 25,\n",
    "    'favorite_colors': ['blue', 'green'],\n",
    "    'active': True\n",
    "}\n",
    "\n",
    "for key in person:\n",
    "    print(key)"
   ]
  },
  {
   "cell_type": "code",
   "execution_count": 101,
   "metadata": {},
   "outputs": [
    {
     "name": "stdout",
     "output_type": "stream",
     "text": [
      "John\n",
      "Doe\n",
      "25\n",
      "['blue', 'green']\n",
      "True\n"
     ]
    }
   ],
   "source": [
    "person = {\n",
    "    'first_name': 'John',\n",
    "    'last_name': 'Doe',\n",
    "    'age': 25,\n",
    "    'favorite_colors': ['blue', 'green'],\n",
    "    'active': True\n",
    "}\n",
    "\n",
    "for value in person.values():\n",
    "    print(value)"
   ]
  },
  {
   "cell_type": "markdown",
   "metadata": {},
   "source": [
    "# Python Dictionary Comprehension\n",
    "\n",
    "Summary: in this tutorial, you’ll learn about Python dictionary comprehension to transform or filter items in a dictionary.\n",
    "\n",
    "# Introduction to Python dictionary comprehension\n",
    "A dictionary comprehension allows you to run a for loop on a dictionary and do something on each item like transforming or filtering and returns a new dictionary.\n",
    "\n",
    "Unlike a for loop, a dictionary comprehension offers a more expressive and concise syntax when you use it correctly.\n",
    "\n",
    "Here is the general syntax for dictionary comprehension:"
   ]
  },
  {
   "cell_type": "code",
   "execution_count": 103,
   "metadata": {},
   "outputs": [
    {
     "name": "stdout",
     "output_type": "stream",
     "text": [
      "{'AAPL': 123.42, 'AMZN': 3447.6, 'MSFT': 223.38, 'BIIB': 285.6, 'QDEL': 271.32, 'LVGO': 146.88}\n"
     ]
    }
   ],
   "source": [
    "stocks = {\n",
    "    'AAPL': 121,\n",
    "    'AMZN': 3380,\n",
    "    'MSFT': 219,\n",
    "    'BIIB': 280,\n",
    "    'QDEL': 266,\n",
    "    'LVGO': 144\n",
    "}\n",
    "\n",
    "new_stocks = {}\n",
    "for symbol, price in stocks.items():\n",
    "    new_stocks[symbol] = price*1.02\n",
    "\n",
    "print(new_stocks)"
   ]
  },
  {
   "cell_type": "code",
   "execution_count": 104,
   "metadata": {},
   "outputs": [
    {
     "name": "stdout",
     "output_type": "stream",
     "text": [
      "{'AAPL': 123.42, 'AMZN': 3447.6, 'MSFT': 223.38, 'BIIB': 285.6, 'QDEL': 271.32, 'LVGO': 146.88}\n"
     ]
    }
   ],
   "source": [
    "stocks = {\n",
    "    'AAPL': 121,\n",
    "    'AMZN': 3380,\n",
    "    'MSFT': 219,\n",
    "    'BIIB': 280,\n",
    "    'QDEL': 266,\n",
    "    'LVGO': 144\n",
    "}\n",
    "\n",
    "new_stocks = {symbol: price * 1.02 for (symbol, price) in stocks.items()}\n",
    "\n",
    "print(new_stocks)"
   ]
  },
  {
   "cell_type": "code",
   "execution_count": 105,
   "metadata": {},
   "outputs": [
    {
     "name": "stdout",
     "output_type": "stream",
     "text": [
      "{'AMZN': 3380, 'MSFT': 219, 'BIIB': 280, 'QDEL': 266}\n"
     ]
    }
   ],
   "source": [
    "stocks = {\n",
    "    'AAPL': 121,\n",
    "    'AMZN': 3380,\n",
    "    'MSFT': 219,\n",
    "    'BIIB': 280,\n",
    "    'QDEL': 266,\n",
    "    'LVGO': 144\n",
    "}\n",
    "\n",
    "selected_stocks = {}\n",
    "for symbol, price in stocks.items():\n",
    "    if price > 200:\n",
    "        selected_stocks[symbol] = price\n",
    "\n",
    "print(selected_stocks)"
   ]
  },
  {
   "cell_type": "code",
   "execution_count": 106,
   "metadata": {},
   "outputs": [
    {
     "name": "stdout",
     "output_type": "stream",
     "text": [
      "{'AMZN': 3380, 'MSFT': 219, 'BIIB': 280, 'QDEL': 266}\n"
     ]
    }
   ],
   "source": [
    "stocks = {\n",
    "    'AAPL': 121,\n",
    "    'AMZN': 3380,\n",
    "    'MSFT': 219,\n",
    "    'BIIB': 280,\n",
    "    'QDEL': 266,\n",
    "    'LVGO': 144\n",
    "}\n",
    "\n",
    "selected_stocks = {s: p for (s, p) in stocks.items() if p > 200}\n",
    "\n",
    "print(selected_stocks)"
   ]
  },
  {
   "cell_type": "markdown",
   "metadata": {},
   "source": [
    "# Python Set\n",
    "\n",
    "Summary: in this tutorial, you’ll learn about Python Set type and how to use it effectively.\n",
    "\n",
    "# Introduction to the Python Set type\n",
    "A Python set is an unordered list of immutable elements. It means:\n",
    "\n",
    "Elements in a set are unordered.\n",
    "Elements in a set are unique. A set doesn’t allow duplicate elements.\n",
    "Elements in a set cannot be changed. For example, they can be numbers, strings, and tuples, but cannot be lists or dictionaries.\n",
    "To define a set in Python, you use the curly brace {}. For example:"
   ]
  },
  {
   "cell_type": "code",
   "execution_count": 107,
   "metadata": {},
   "outputs": [
    {
     "name": "stdout",
     "output_type": "stream",
     "text": [
      "1.Problem solving\n",
      "2.Software design\n",
      "3.Python programming\n"
     ]
    }
   ],
   "source": [
    "skills = {'Problem solving', 'Software design', 'Python programming'}\n",
    "\n",
    "for index, skill in enumerate(skills, 1):\n",
    "    print(f\"{index}.{skill}\")"
   ]
  },
  {
   "cell_type": "code",
   "execution_count": 108,
   "metadata": {},
   "outputs": [
    {
     "name": "stdout",
     "output_type": "stream",
     "text": [
      "Problem solving\n",
      "Software design\n",
      "Python programming\n"
     ]
    }
   ],
   "source": [
    "skills = {'Problem solving', 'Software design', 'Python programming'}\n",
    "\n",
    "for skill in skills:\n",
    "    print(skill)"
   ]
  },
  {
   "cell_type": "code",
   "execution_count": 109,
   "metadata": {},
   "outputs": [
    {
     "name": "stdout",
     "output_type": "stream",
     "text": [
      "set()\n"
     ]
    }
   ],
   "source": [
    "skills = {'Problem solving', 'Software design', 'Python programming'}\n",
    "skills.clear()\n",
    "\n",
    "print(skills)"
   ]
  },
  {
   "cell_type": "code",
   "execution_count": 110,
   "metadata": {},
   "outputs": [
    {
     "name": "stdout",
     "output_type": "stream",
     "text": [
      "Problem solving\n"
     ]
    }
   ],
   "source": [
    "skills = {'Problem solving', 'Software design', 'Python programming'}\n",
    "skill = skills.pop()\n",
    "\n",
    "print(skill)"
   ]
  },
  {
   "cell_type": "code",
   "execution_count": 111,
   "metadata": {},
   "outputs": [
    {
     "ename": "KeyError",
     "evalue": "'Java'",
     "output_type": "error",
     "traceback": [
      "\u001b[1;31m---------------------------------------------------------------------------\u001b[0m",
      "\u001b[1;31mKeyError\u001b[0m                                  Traceback (most recent call last)",
      "\u001b[1;32mc:\\Users\\saima\\python-tutorial-12-15.ipynb Cell 326\u001b[0m line \u001b[0;36m2\n\u001b[0;32m      <a href='vscode-notebook-cell:/c%3A/Users/saima/python-tutorial-12-15.ipynb#Z1011sZmlsZQ%3D%3D?line=0'>1</a>\u001b[0m skills \u001b[39m=\u001b[39m {\u001b[39m'\u001b[39m\u001b[39mProblem solving\u001b[39m\u001b[39m'\u001b[39m, \u001b[39m'\u001b[39m\u001b[39mSoftware design\u001b[39m\u001b[39m'\u001b[39m, \u001b[39m'\u001b[39m\u001b[39mPython programming\u001b[39m\u001b[39m'\u001b[39m}\n\u001b[1;32m----> <a href='vscode-notebook-cell:/c%3A/Users/saima/python-tutorial-12-15.ipynb#Z1011sZmlsZQ%3D%3D?line=1'>2</a>\u001b[0m skills\u001b[39m.\u001b[39;49mremove(\u001b[39m'\u001b[39;49m\u001b[39mJava\u001b[39;49m\u001b[39m'\u001b[39;49m)\n",
      "\u001b[1;31mKeyError\u001b[0m: 'Java'"
     ]
    }
   ],
   "source": [
    "skills = {'Problem solving', 'Software design', 'Python programming'}\n",
    "skills.remove('Java')"
   ]
  },
  {
   "cell_type": "code",
   "execution_count": null,
   "metadata": {},
   "outputs": [],
   "source": [
    "skills = {'Problem solving', 'Software design', 'Python programming'}\n",
    "if 'Java' in skills:\n",
    "    skills.remove('Java')"
   ]
  },
  {
   "cell_type": "code",
   "execution_count": 112,
   "metadata": {},
   "outputs": [
    {
     "ename": "NameError",
     "evalue": "name 'element' is not defined",
     "output_type": "error",
     "traceback": [
      "\u001b[1;31m---------------------------------------------------------------------------\u001b[0m",
      "\u001b[1;31mNameError\u001b[0m                                 Traceback (most recent call last)",
      "\u001b[1;32mc:\\Users\\saima\\python-tutorial-12-15.ipynb Cell 328\u001b[0m line \u001b[0;36m1\n\u001b[1;32m----> <a href='vscode-notebook-cell:/c%3A/Users/saima/python-tutorial-12-15.ipynb#Z1013sZmlsZQ%3D%3D?line=0'>1</a>\u001b[0m \u001b[39mset\u001b[39m\u001b[39m.\u001b[39mdiscard(element)\n",
      "\u001b[1;31mNameError\u001b[0m: name 'element' is not defined"
     ]
    }
   ],
   "source": [
    "set.discard(element)"
   ]
  },
  {
   "cell_type": "markdown",
   "metadata": {},
   "source": [
    "# Python Set Comprehension\n",
    "\n",
    "Summary: in this tutorial, you’ll learn how to use Python set comprehension to create a new set based on an existing one.\n",
    "\n",
    "# Introduction to Python Set comprehension\n",
    "Suppose that you have the following set that consists of three tags:"
   ]
  },
  {
   "cell_type": "code",
   "execution_count": null,
   "metadata": {},
   "outputs": [],
   "source": []
  },
  {
   "cell_type": "code",
   "execution_count": 113,
   "metadata": {},
   "outputs": [
    {
     "name": "stdout",
     "output_type": "stream",
     "text": [
      "{'numpy', 'pandas', 'django'}\n"
     ]
    }
   ],
   "source": [
    "tags = {'Django', 'Pandas', 'Numpy'}\n",
    "\n",
    "lowercase_tags = set()\n",
    "for tag in tags:\n",
    "    lowercase_tags.add(tag.lower())\n",
    "\n",
    "print(lowercase_tags)"
   ]
  },
  {
   "cell_type": "code",
   "execution_count": 114,
   "metadata": {},
   "outputs": [
    {
     "name": "stdout",
     "output_type": "stream",
     "text": [
      "{'numpy', 'pandas', 'django'}\n"
     ]
    }
   ],
   "source": [
    "tags = {'Django', 'Pandas', 'Numpy'}\n",
    "lowercase_tags = set(map(lambda tag: tag.lower(), tags))\n",
    "\n",
    "print(lowercase_tags)"
   ]
  },
  {
   "cell_type": "code",
   "execution_count": 115,
   "metadata": {},
   "outputs": [
    {
     "name": "stdout",
     "output_type": "stream",
     "text": [
      "{'numpy', 'pandas', 'django'}\n"
     ]
    }
   ],
   "source": [
    "tags = {'Django', 'Pandas', 'Numpy'}\n",
    "lowercase_tags = {tag.lower() for tag in tags}\n",
    "\n",
    "print(lowercase_tags)"
   ]
  },
  {
   "cell_type": "code",
   "execution_count": 116,
   "metadata": {},
   "outputs": [
    {
     "name": "stdout",
     "output_type": "stream",
     "text": [
      "{'pandas', 'django'}\n"
     ]
    }
   ],
   "source": [
    "tags = {'Django', 'Pandas', 'Numpy'}\n",
    "new_tags = {tag.lower() for tag in tags if tag != 'Numpy'}\n",
    "\n",
    "print(new_tags)"
   ]
  },
  {
   "cell_type": "markdown",
   "metadata": {},
   "source": [
    "# Python Set Union\n",
    "\n",
    "Summary: in this tutorial, you’ll learn how to union two or more sets by using the Python set union() or set union operator (|).\n",
    "\n",
    "# Introduction to the set union\n",
    "The union of two sets returns a new set that contains distinct elements from both sets.\n",
    "\n",
    "Suppose that you have the following sets:"
   ]
  },
  {
   "cell_type": "code",
   "execution_count": 117,
   "metadata": {},
   "outputs": [
    {
     "name": "stdout",
     "output_type": "stream",
     "text": [
      "{'Java', 'Python', 'C#'}\n"
     ]
    }
   ],
   "source": [
    "s1 = {'Python', 'Java'}\n",
    "s2 = {'C#', 'Java'}\n",
    "\n",
    "s = s1.union(s2)\n",
    "\n",
    "print(s)\n"
   ]
  },
  {
   "cell_type": "code",
   "execution_count": 118,
   "metadata": {},
   "outputs": [
    {
     "name": "stdout",
     "output_type": "stream",
     "text": [
      "{'Java', 'Python', 'C#'}\n"
     ]
    }
   ],
   "source": [
    "s1 = {'Python', 'Java'}\n",
    "s2 = {'C#', 'Java'}\n",
    "\n",
    "s = s1 | s2\n",
    "\n",
    "print(s)"
   ]
  },
  {
   "cell_type": "code",
   "execution_count": 119,
   "metadata": {},
   "outputs": [
    {
     "name": "stdout",
     "output_type": "stream",
     "text": [
      "{1, 2, 3, 4}\n"
     ]
    }
   ],
   "source": [
    "rates = {1, 2, 3}\n",
    "ranks = [2, 3, 4]\n",
    "\n",
    "ratings = rates.union(ranks)\n",
    "\n",
    "print(ratings)"
   ]
  },
  {
   "cell_type": "markdown",
   "metadata": {},
   "source": [
    "# Python Set Intersection\n",
    "\n",
    "Summary: in this tutorial, you’ll learn about the Python set intersection and how to use it to intersect two or more sets.\n",
    "\n",
    "TL;DR\n",
    "In Python, you can use the set intersection() method or set intersection operator (&) to intersect two or more sets:"
   ]
  },
  {
   "cell_type": "code",
   "execution_count": 120,
   "metadata": {},
   "outputs": [
    {
     "name": "stdout",
     "output_type": "stream",
     "text": [
      "{2, 3}\n"
     ]
    }
   ],
   "source": [
    "numbers = {1, 2, 3}\n",
    "scores = [2, 3, 4]\n",
    "\n",
    "numbers = numbers.intersection(scores)\n",
    "\n",
    "print(numbers)"
   ]
  },
  {
   "cell_type": "code",
   "execution_count": 121,
   "metadata": {},
   "outputs": [
    {
     "name": "stdout",
     "output_type": "stream",
     "text": [
      "{'Java', 'C++'}\n"
     ]
    }
   ],
   "source": [
    "s1 = {'Python', 'Java', 'C++'}\n",
    "s2 = {'C#', 'Java', 'C++'}\n",
    "\n",
    "s = s1 & s2\n",
    "\n",
    "print(s)"
   ]
  },
  {
   "cell_type": "markdown",
   "metadata": {},
   "source": [
    "# Python issubset\n",
    "\n",
    "Summary: in this tutorial, you’ll learn about how to use the Python issubset() method to check if a set is a subset of another set.\n",
    "\n",
    "# Introduction to the Python issubset() method\n",
    "Suppose that you have two sets A and B. Set A is a subset of set B if all elements of A are also elements of B. Then, set B is a superset of set A.\n",
    "\n",
    "The following Venn diagram illustrates that set A is a subset of the set B:"
   ]
  },
  {
   "cell_type": "code",
   "execution_count": 123,
   "metadata": {},
   "outputs": [
    {
     "name": "stdout",
     "output_type": "stream",
     "text": [
      "True\n"
     ]
    }
   ],
   "source": [
    "numbers = {1, 2, 3, 4, 5}\n",
    "scores = {1, 2, 3}\n",
    "\n",
    "print(scores.issubset(numbers))"
   ]
  },
  {
   "cell_type": "code",
   "execution_count": 124,
   "metadata": {},
   "outputs": [
    {
     "name": "stdout",
     "output_type": "stream",
     "text": [
      "True\n"
     ]
    }
   ],
   "source": [
    "numbers = {1, 2, 3, 4, 5}\n",
    "\n",
    "print(numbers.issubset(numbers))"
   ]
  },
  {
   "cell_type": "code",
   "execution_count": 125,
   "metadata": {},
   "outputs": [
    {
     "name": "stdout",
     "output_type": "stream",
     "text": [
      "False\n"
     ]
    }
   ],
   "source": [
    "numbers = {1, 2, 3, 4, 5}\n",
    "scores = {1, 2, 3}\n",
    "\n",
    "print(numbers.issubset(scores))"
   ]
  },
  {
   "cell_type": "code",
   "execution_count": 126,
   "metadata": {},
   "outputs": [
    {
     "name": "stdout",
     "output_type": "stream",
     "text": [
      "True\n",
      "True\n"
     ]
    }
   ],
   "source": [
    "numbers = {1, 2, 3, 4, 5}\n",
    "scores = {1, 2, 3}\n",
    "\n",
    "result = scores <= numbers\n",
    "print(result)  # True\n",
    "\n",
    "result = numbers <= numbers\n",
    "print(result)  # True"
   ]
  },
  {
   "cell_type": "code",
   "execution_count": 127,
   "metadata": {},
   "outputs": [
    {
     "name": "stdout",
     "output_type": "stream",
     "text": [
      "True\n",
      "False\n"
     ]
    }
   ],
   "source": [
    "numbers = {1, 2, 3, 4, 5}\n",
    "scores = {1, 2, 3}\n",
    "\n",
    "result = scores < numbers\n",
    "print(result)  # True\n",
    "\n",
    "result = numbers < numbers\n",
    "print(result)  # False"
   ]
  },
  {
   "cell_type": "markdown",
   "metadata": {},
   "source": [
    "# Python issuperset\n",
    "\n",
    "Summary: in this tutorial, you’ll learn how to use the Python issuperset() method to check if a set is a superset of another.\n",
    "\n",
    "# Introduction to Python issuperset method\n",
    "Suppose that you have two sets: A and B. Set A is a superset of set B if all elements of set B are elements of set A.\n",
    "\n",
    "If set A is a superset of set B, then set B is a subset of set A. To check if a set is a subset of another, you use the issubset() method.\n",
    "\n",
    "If set A and set B are not equal, set A is a proper superset of set B.\n",
    "\n",
    "Logically, a set is a superset of itself.\n",
    "\n",
    "The following illustrates that set A is the superset of the set B because the elements 1, 2, 3 in the set"
   ]
  },
  {
   "cell_type": "code",
   "execution_count": 128,
   "metadata": {},
   "outputs": [
    {
     "name": "stdout",
     "output_type": "stream",
     "text": [
      "True\n"
     ]
    }
   ],
   "source": [
    "numbers = {1, 2, 3, 4, 5}\n",
    "scores = {1, 2, 3}\n",
    "\n",
    "result = numbers.issuperset(scores)\n",
    "\n",
    "print(result)"
   ]
  },
  {
   "cell_type": "code",
   "execution_count": 129,
   "metadata": {},
   "outputs": [
    {
     "name": "stdout",
     "output_type": "stream",
     "text": [
      "True\n"
     ]
    }
   ],
   "source": [
    "numbers = {1, 2, 3, 4, 5}\n",
    "result = numbers.issuperset(numbers)\n",
    "\n",
    "print(result)"
   ]
  },
  {
   "cell_type": "code",
   "execution_count": 130,
   "metadata": {},
   "outputs": [
    {
     "name": "stdout",
     "output_type": "stream",
     "text": [
      "False\n"
     ]
    }
   ],
   "source": [
    "numbers = {1, 2, 3, 4, 5}\n",
    "scores = {1, 2, 3}\n",
    "\n",
    "result = scores.issuperset(numbers)\n",
    "\n",
    "print(result)"
   ]
  },
  {
   "cell_type": "code",
   "execution_count": 131,
   "metadata": {},
   "outputs": [
    {
     "name": "stdout",
     "output_type": "stream",
     "text": [
      "True\n",
      "True\n"
     ]
    }
   ],
   "source": [
    "numbers = {1, 2, 3, 4, 5}\n",
    "scores = {1, 2, 3}\n",
    "\n",
    "result = numbers >= scores\n",
    "print(result)  # True\n",
    "\n",
    "result = numbers >= numbers\n",
    "print(result)  # True"
   ]
  },
  {
   "cell_type": "code",
   "execution_count": 132,
   "metadata": {},
   "outputs": [
    {
     "name": "stdout",
     "output_type": "stream",
     "text": [
      "True\n",
      "False\n"
     ]
    }
   ],
   "source": [
    "numbers = {1, 2, 3, 4, 5}\n",
    "scores = {1, 2, 3}\n",
    "\n",
    "result = numbers > scores\n",
    "print(result)  # True\n",
    "\n",
    "result = numbers > numbers\n",
    "print(result)  # True"
   ]
  },
  {
   "cell_type": "markdown",
   "metadata": {},
   "source": [
    "# Python Disjoint Sets\n",
    "\n",
    "Summary: in this tutorial, you’ll learn about disjoint sets and how to use the Python isdisjoint() method to check if two sets are disjoint.\n",
    "\n",
    "# Introduction to Python disjoint sets\n",
    "Two sets are disjoint when they have no elements in common. In other words, two disjoint sets are sets whose intersection is an empty set.\n",
    "\n",
    "For example, the {1,3,5} and {2,4,6} sets are disjoint because they have no common elements.\n",
    "\n"
   ]
  },
  {
   "cell_type": "code",
   "execution_count": 133,
   "metadata": {},
   "outputs": [
    {
     "name": "stdout",
     "output_type": "stream",
     "text": [
      "True\n"
     ]
    }
   ],
   "source": [
    "odd_numbers = {1, 3, 5}\n",
    "even_numbers = {2, 4, 6}\n",
    "\n",
    "result = odd_numbers.isdisjoint(even_numbers)\n",
    "\n",
    "print(result)"
   ]
  },
  {
   "cell_type": "code",
   "execution_count": 134,
   "metadata": {},
   "outputs": [
    {
     "name": "stdout",
     "output_type": "stream",
     "text": [
      "False\n"
     ]
    }
   ],
   "source": [
    "letters = {'A', 'B', 'C'}\n",
    "alphanumerics = {'A', 1, 2}\n",
    "\n",
    "result = letters.isdisjoint(alphanumerics)\n",
    "\n",
    "print(result)"
   ]
  },
  {
   "cell_type": "code",
   "execution_count": 135,
   "metadata": {},
   "outputs": [
    {
     "name": "stdout",
     "output_type": "stream",
     "text": [
      "True\n"
     ]
    }
   ],
   "source": [
    "letters = {'A', 'B', 'C'}\n",
    "result = letters.isdisjoint([1, 2, 3])\n",
    "\n",
    "print(result)"
   ]
  },
  {
   "cell_type": "markdown",
   "metadata": {},
   "source": [
    "# Python try…except\n",
    "\n",
    "Summary: in this tutorial, you’ll learn how to use the Python try...except statement to handle exceptions gracefully.\n",
    "\n",
    "In Python, there’re two main kinds of errors: syntax errors and exceptions."
   ]
  },
  {
   "cell_type": "markdown",
   "metadata": {},
   "source": [
    "# Exceptions\n",
    "Even though when your code has valid syntax, it may cause an error during execution.\n",
    "\n",
    "In Python, errors that occur during the execution are called exceptions. The causes of exceptions mainly come from the environment where the code executes. For example:\n",
    "\n",
    "Reading a file that doesn’t exist.\n",
    "Connecting to a remote server that is offline.\n",
    "Bad user inputs.\n",
    "When an exception occurs, the program doesn’t handle it automatically. This results in an error message.\n",
    "\n",
    "For example, the following program calculates the sales growth:"
   ]
  },
  {
   "cell_type": "code",
   "execution_count": 136,
   "metadata": {},
   "outputs": [
    {
     "name": "stdout",
     "output_type": "stream",
     "text": [
      "Enter the net sales for\n"
     ]
    },
    {
     "ename": "ValueError",
     "evalue": "could not convert string to float: ''",
     "output_type": "error",
     "traceback": [
      "\u001b[1;31m---------------------------------------------------------------------------\u001b[0m",
      "\u001b[1;31mValueError\u001b[0m                                Traceback (most recent call last)",
      "\u001b[1;32mc:\\Users\\saima\\python-tutorial-12-15.ipynb Cell 360\u001b[0m line \u001b[0;36m3\n\u001b[0;32m      <a href='vscode-notebook-cell:/c%3A/Users/saima/python-tutorial-12-15.ipynb#Z1056sZmlsZQ%3D%3D?line=0'>1</a>\u001b[0m \u001b[39mprint\u001b[39m(\u001b[39m'\u001b[39m\u001b[39mEnter the net sales for\u001b[39m\u001b[39m'\u001b[39m)\n\u001b[1;32m----> <a href='vscode-notebook-cell:/c%3A/Users/saima/python-tutorial-12-15.ipynb#Z1056sZmlsZQ%3D%3D?line=2'>3</a>\u001b[0m previous \u001b[39m=\u001b[39m \u001b[39mfloat\u001b[39;49m(\u001b[39minput\u001b[39;49m(\u001b[39m'\u001b[39;49m\u001b[39m- Prior period:\u001b[39;49m\u001b[39m'\u001b[39;49m))\n\u001b[0;32m      <a href='vscode-notebook-cell:/c%3A/Users/saima/python-tutorial-12-15.ipynb#Z1056sZmlsZQ%3D%3D?line=3'>4</a>\u001b[0m current \u001b[39m=\u001b[39m \u001b[39mfloat\u001b[39m(\u001b[39minput\u001b[39m(\u001b[39m'\u001b[39m\u001b[39m- Current period:\u001b[39m\u001b[39m'\u001b[39m))\n\u001b[0;32m      <a href='vscode-notebook-cell:/c%3A/Users/saima/python-tutorial-12-15.ipynb#Z1056sZmlsZQ%3D%3D?line=5'>6</a>\u001b[0m \u001b[39m# calculate the change in percentage\u001b[39;00m\n",
      "\u001b[1;31mValueError\u001b[0m: could not convert string to float: ''"
     ]
    }
   ],
   "source": [
    "print('Enter the net sales for')\n",
    "\n",
    "previous = float(input('- Prior period:'))\n",
    "current = float(input('- Current period:'))\n",
    "\n",
    "# calculate the change in percentage\n",
    "change = (current - previous) * 100 / previous\n",
    "\n",
    "# show the result\n",
    "if change > 0:\n",
    "    result = f'Sales increase {abs(change)}%'\n",
    "else:\n",
    "    result = f'Sales decrease {abs(change)}%'\n",
    "\n",
    "print(result)"
   ]
  },
  {
   "cell_type": "code",
   "execution_count": 137,
   "metadata": {},
   "outputs": [
    {
     "name": "stdout",
     "output_type": "stream",
     "text": [
      "Enter the net sales for\n",
      "Sales increase 38.0%\n"
     ]
    }
   ],
   "source": [
    "try:\n",
    "    # get input net sales\n",
    "    print('Enter the net sales for')\n",
    "\n",
    "    previous = float(input('- Prior period:'))\n",
    "    current = float(input('- Current period:'))\n",
    "\n",
    "    # calculate the change in percentage\n",
    "    change = (current - previous) * 100 / previous\n",
    "\n",
    "    # show the result\n",
    "    if change > 0:\n",
    "        result = f'Sales increase {abs(change)}%'\n",
    "    else:\n",
    "        result = f'Sales decrease {abs(change)}%'\n",
    "\n",
    "    print(result)\n",
    "except:\n",
    "    print('Error! Please enter a number for net sales.')"
   ]
  },
  {
   "cell_type": "code",
   "execution_count": 138,
   "metadata": {},
   "outputs": [
    {
     "name": "stdout",
     "output_type": "stream",
     "text": [
      "Enter the net sales for\n",
      "Sales increase 8.181818181818182%\n"
     ]
    }
   ],
   "source": [
    "try:\n",
    "    # get input net sales\n",
    "    print('Enter the net sales for')\n",
    "\n",
    "    previous = float(input('- Prior period:'))\n",
    "    current = float(input('- Current period:'))\n",
    "\n",
    "    # calculate the change in percentage\n",
    "    change = (current - previous) * 100 / previous\n",
    "\n",
    "    # show the result\n",
    "    if change > 0:\n",
    "        result = f'Sales increase {abs(change)}%'\n",
    "    else:\n",
    "        result = f'Sales decrease {abs(change)}%'\n",
    "\n",
    "    print(result)\n",
    "except ValueError:\n",
    "    print('Error! Please enter a number for net sales.')\n",
    "except ZeroDivisionError:\n",
    "    print('Error! The prior net sales cannot be zero.')\n",
    "except Exception as error:\n",
    "    print(error)"
   ]
  },
  {
   "cell_type": "markdown",
   "metadata": {},
   "source": [
    "Python try…except…finally\n",
    "\n",
    "Summary: in this tutorial, you’ll learn about the Python try...except...finally statement.\n",
    "\n",
    "Introduction to Python try…catch…finally statement"
   ]
  },
  {
   "cell_type": "code",
   "execution_count": 139,
   "metadata": {},
   "outputs": [
    {
     "name": "stdout",
     "output_type": "stream",
     "text": [
      "division by zero\n",
      "Finishing up.\n"
     ]
    }
   ],
   "source": [
    "a = 10\n",
    "b = 0\n",
    "\n",
    "try:\n",
    "    c = a / b\n",
    "    print(c)\n",
    "except ZeroDivisionError as error:\n",
    "    print(error)\n",
    "finally:\n",
    "    print('Finishing up.')\n"
   ]
  },
  {
   "cell_type": "code",
   "execution_count": 140,
   "metadata": {},
   "outputs": [
    {
     "name": "stdout",
     "output_type": "stream",
     "text": [
      "5.0\n",
      "Finishing up.\n"
     ]
    }
   ],
   "source": [
    "a = 10\n",
    "b = 2\n",
    "\n",
    "try:\n",
    "    c = a / b\n",
    "    print(c)\n",
    "except ZeroDivisionError as error:\n",
    "    print(error)\n",
    "finally:\n",
    "    print('Finishing up.')"
   ]
  },
  {
   "cell_type": "markdown",
   "metadata": {},
   "source": [
    "# Python try…except…else\n",
    "\n",
    "Summary: in this tutorial, you’ll learn how to use the Python try...except...else statement.\n",
    "\n",
    "# Introduction to the Python try…except…else statement"
   ]
  },
  {
   "cell_type": "markdown",
   "metadata": {},
   "source": [
    "If an exception occurs in the try clause, Python skips the rest of the statements in the try clause and the except statement execute.\n",
    "In case no exception occurs in the try clause, the else clause will execute.\n",
    "When you include the finally clause, the else clause executes after the try clause and before the finally clause.\n",
    "\n",
    "Python try…except…else statement examples\n",
    "Let’s take some examples of using the try...except...else statement.\n",
    "\n",
    "1) Using try…except…else statement for control flow\n",
    "The following example illustrates how to use the try...except...else clause develop a program that calculates the body mass index (BMI).\n",
    "\n",
    "First, define a function for calculating the (BMI) based on height and weight:"
   ]
  },
  {
   "cell_type": "code",
   "execution_count": 141,
   "metadata": {},
   "outputs": [],
   "source": [
    "def evaluate_bmi(bmi):\n",
    "    \"\"\" evaluate the bmi \"\"\"\n",
    "    if 18.5 <= bmi <= 24.9:\n",
    "        return 'healthy'\n",
    "\n",
    "    if bmi >= 25:\n",
    "        return 'overweight'\n",
    "\n",
    "    return 'underweight'"
   ]
  },
  {
   "cell_type": "code",
   "execution_count": 142,
   "metadata": {},
   "outputs": [],
   "source": [
    "def main():\n",
    "    try:\n",
    "        height = float(input('Enter your height (meters):'))\n",
    "        weight = float(input('Enter your weight (kilograms):'))\n",
    "\n",
    "    except ValueError as error:\n",
    "        print('Error! please enter a valid number.')\n",
    "    else:\n",
    "        bmi = round(calculate_bmi(height, weight), 1)\n",
    "        evaluation = evaluate_bmi(bmi)\n",
    "\n",
    "        print(f'Your body mass index is {bmi}')\n",
    "        print(f'This is considered {evaluation}!')"
   ]
  },
  {
   "cell_type": "code",
   "execution_count": 143,
   "metadata": {},
   "outputs": [
    {
     "name": "stdout",
     "output_type": "stream",
     "text": [
      "Error! 1 does not exist.\n",
      "Press Ctrl-C to exit.\n",
      "Error!  does not exist.\n",
      "Press Ctrl-C to exit.\n",
      "Error!  does not exist.\n",
      "Press Ctrl-C to exit.\n",
      "Error!  does not exist.\n",
      "Press Ctrl-C to exit.\n",
      "Error!  does not exist.\n",
      "Press Ctrl-C to exit.\n",
      "Error!  does not exist.\n",
      "Press Ctrl-C to exit.\n",
      "Error! f does not exist.\n",
      "Press Ctrl-C to exit.\n",
      "Error! f does not exist.\n",
      "Press Ctrl-C to exit.\n",
      "Error!  does not exist.\n",
      "Press Ctrl-C to exit.\n",
      "Error! d does not exist.\n",
      "Press Ctrl-C to exit.\n"
     ]
    }
   ],
   "source": [
    "fruits = {\n",
    "    'apple': 10,\n",
    "    'orange': 20,\n",
    "    'banana': 30\n",
    "}\n",
    "\n",
    "key = None\n",
    "while True:\n",
    "    try:\n",
    "        key = input('Enter a key to lookup:')\n",
    "        fruit = fruits[key.lower()]\n",
    "    except KeyError:\n",
    "        print(f'Error! {key} does not exist.')\n",
    "    except KeyboardInterrupt:\n",
    "        break\n",
    "    else:\n",
    "        print(fruit)\n",
    "    finally:\n",
    "        print('Press Ctrl-C to exit.')"
   ]
  },
  {
   "cell_type": "markdown",
   "metadata": {},
   "source": [
    "# Python try…except…else\n",
    "\n",
    "Summary: in this tutorial, you’ll learn how to use the Python try...except...else statement.\n",
    "\n",
    "Introduction to the Python try…except…else statement\n",
    "The try statement has an optional else clause with the following syntax"
   ]
  },
  {
   "cell_type": "code",
   "execution_count": null,
   "metadata": {},
   "outputs": [],
   "source": [
    "def evaluate_bmi(bmi):\n",
    "    \"\"\" evaluate the bmi \"\"\"\n",
    "    if 18.5 <= bmi <= 24.9:\n",
    "        return 'healthy'\n",
    "\n",
    "    if bmi >= 25:\n",
    "        return 'overweight'\n",
    "\n",
    "    return 'underweight'"
   ]
  },
  {
   "cell_type": "code",
   "execution_count": 1,
   "metadata": {},
   "outputs": [],
   "source": [
    "def main():\n",
    "    try:\n",
    "        height = float(input('Enter your height (meters):'))\n",
    "        weight = float(input('Enter your weight (kilograms):'))\n",
    "\n",
    "    except ValueError as error:\n",
    "        print('Error! please enter a valid number.')\n",
    "    else:\n",
    "        bmi = round(calculate_bmi(height, weight), 1)\n",
    "        evaluation = evaluate_bmi(bmi)\n",
    "\n",
    "        print(f'Your body mass index is {bmi}')\n",
    "        print(f'This is considered {evaluation}!')"
   ]
  },
  {
   "cell_type": "code",
   "execution_count": 2,
   "metadata": {},
   "outputs": [],
   "source": [
    "def calculate_bmi(height, weight):\n",
    "    \"\"\" calculate body mass index (BMI) \"\"\"\n",
    "    return weight / height**2\n",
    "\n",
    "\n",
    "def evaluate_bmi(bmi):\n",
    "    \"\"\" evaluate the bmi \"\"\"\n",
    "    if 18.5 <= bmi <= 24.9:\n",
    "        return 'healthy'\n",
    "\n",
    "    if bmi >= 25:\n",
    "        return 'overweight'\n",
    "\n",
    "    return 'underweight'\n",
    "\n",
    "\n",
    "def main():\n",
    "    try:\n",
    "        height = float(input('Enter your height (meters):'))\n",
    "        weight = float(input('Enter your weight (kilograms):'))\n",
    "\n",
    "    except ValueError as error:\n",
    "        print(error)\n",
    "    else:\n",
    "        bmi = round(calculate_bmi(height, weight), 1)\n",
    "        evaluation = evaluate_bmi(bmi)\n",
    "\n",
    "        print(f'Your body mass index is {bmi}')\n",
    "        print(f'This is considered {evaluation}!')\n"
   ]
  },
  {
   "cell_type": "markdown",
   "metadata": {},
   "source": [
    "# Python for else\n",
    "\n",
    "Summary: in this tutorial, you’ll learn about the Python for else statement and how to use it effectively.\n",
    "\n",
    "# Introduction to the Python for else statement"
   ]
  },
  {
   "cell_type": "code",
   "execution_count": 3,
   "metadata": {},
   "outputs": [],
   "source": [
    "people = [{'name': 'John', 'age': 25},\n",
    "        {'name': 'Jane', 'age': 22},\n",
    "        {'name': 'Peter', 'age': 30},\n",
    "        {'name': 'Jenifer', 'age': 28}]"
   ]
  },
  {
   "cell_type": "code",
   "execution_count": 4,
   "metadata": {},
   "outputs": [
    {
     "name": "stdout",
     "output_type": "stream",
     "text": [
      " not found!\n"
     ]
    }
   ],
   "source": [
    "people = [{'name': 'John', 'age': 25},\n",
    "        {'name': 'Jane', 'age': 22},\n",
    "        {'name': 'Peter', 'age': 30},\n",
    "        {'name': 'Jenifer', 'age': 28}]\n",
    "\n",
    "name = input('Enter a name:')\n",
    "\n",
    "found = False\n",
    "for person in people:\n",
    "    if person['name'] == name:\n",
    "        found = True\n",
    "        print(person)\n",
    "        break\n",
    "\n",
    "if not found:\n",
    "    print(f'{name} not found!')"
   ]
  },
  {
   "cell_type": "code",
   "execution_count": 5,
   "metadata": {},
   "outputs": [
    {
     "name": "stdout",
     "output_type": "stream",
     "text": [
      "peter not found!\n"
     ]
    }
   ],
   "source": [
    "name = input('Enter a name:')\n",
    "\n",
    "found = False\n",
    "for person in people:\n",
    "    if person['name'] == name:\n",
    "        found = True\n",
    "        print(person)\n",
    "        break\n",
    "\n",
    "if not found:\n",
    "    print(f'{name} not found!')"
   ]
  },
  {
   "cell_type": "markdown",
   "metadata": {},
   "source": [
    "# Python while else\n",
    "\n",
    "Summary: in this tutorial, you’ll learn about the Python while else statement and how to use it effectively.\n",
    "\n",
    "# Introduction to Python while else statement"
   ]
  },
  {
   "cell_type": "code",
   "execution_count": 6,
   "metadata": {},
   "outputs": [
    {
     "name": "stdout",
     "output_type": "stream",
     "text": [
      "[{'fruit': 'apple', 'qty': 20}, {'fruit': 'banana', 'qty': 30}, {'fruit': 'orange', 'qty': 10}, {'fruit': 'mango', 'qty': 3}]\n"
     ]
    }
   ],
   "source": [
    "basket = [\n",
    "    {'fruit': 'apple', 'qty': 20},\n",
    "    {'fruit': 'banana', 'qty': 30},\n",
    "    {'fruit': 'orange', 'qty': 10}\n",
    "]\n",
    "\n",
    "fruit = input('Enter a fruit:')\n",
    "\n",
    "index = 0\n",
    "found_it = False\n",
    "\n",
    "while index < len(basket):\n",
    "    item = basket[index]\n",
    "    # check the fruit name\n",
    "    if item['fruit'] == fruit:\n",
    "        found_it = True\n",
    "        print(f\"The basket has {item['qty']} {item['fruit']}(s)\")\n",
    "        break\n",
    "\n",
    "    index += 1\n",
    "\n",
    "if not found_it:\n",
    "    qty = int(input(f'Enter the qty for {fruit}:'))\n",
    "    basket.append({'fruit': fruit, 'qty': qty})\n",
    "    print(basket)"
   ]
  },
  {
   "cell_type": "markdown",
   "metadata": {},
   "source": [
    "# Python do…while Loop Statement Emulation\n",
    "\n",
    "Summary: in this tutorial, you’ll learn how to emulate the do...while loop statement in Python\n",
    "\n",
    "# Introduction to the do…while loop statement"
   ]
  },
  {
   "cell_type": "code",
   "execution_count": 7,
   "metadata": {},
   "outputs": [
    {
     "name": "stdout",
     "output_type": "stream",
     "text": [
      "Bingo! 1 attempt(s)\n"
     ]
    }
   ],
   "source": [
    "from random import randint\n",
    "\n",
    "# determine the range\n",
    "MIN = 0\n",
    "MAX = 10\n",
    "\n",
    "# generate a secret number\n",
    "secret_number = randint(MIN, MAX)\n",
    "\n",
    "# initialize the attempt\n",
    "attempt = 0\n",
    "\n",
    "# The first attempt\n",
    "input_number = int(input(f'Enter a number between {MIN} and {MAX}:'))\n",
    "attempt += 1\n",
    "\n",
    "if input_number > secret_number:\n",
    "    print('It should be smaller.')\n",
    "elif input_number < secret_number:\n",
    "    print('It should be bigger.')\n",
    "else:\n",
    "    print(f'Bingo! {attempt} attempt(s)')\n",
    "\n",
    "# From the second attempt\n",
    "while input_number != secret_number:\n",
    "\n",
    "    input_number = int(input(f'Enter a number between {MIN} and {MAX}:'))\n",
    "    attempt += 1\n",
    "\n",
    "    if input_number > secret_number:\n",
    "        print('It should be smaller.')\n",
    "    elif input_number < secret_number:\n",
    "        print('It should be bigger.')\n",
    "    else:\n",
    "        print(f'Bingo! {attempt} attempt(s)')"
   ]
  },
  {
   "cell_type": "code",
   "execution_count": 8,
   "metadata": {},
   "outputs": [
    {
     "name": "stdout",
     "output_type": "stream",
     "text": [
      "It should be bigger.\n",
      "It should be bigger.\n",
      "It should be smaller.\n",
      "It should be smaller.\n",
      "Bingo! 5 attempt(s)\n"
     ]
    }
   ],
   "source": [
    "from random import randint\n",
    "\n",
    "# determine the range\n",
    "MIN = 0\n",
    "MAX = 10\n",
    "\n",
    "# generate a secret number\n",
    "secret_number = randint(MIN, MAX)\n",
    "\n",
    "# initialize the attempt\n",
    "attempt = 0\n",
    "\n",
    "while True:\n",
    "    attempt += 1\n",
    "\n",
    "    input_number = int(input(f'Enter a number between {MIN} and {MAX}:'))\n",
    "\n",
    "    if input_number > secret_number:\n",
    "        print('It should be smaller.')\n",
    "    elif input_number < secret_number:\n",
    "        print('It should be bigger.')\n",
    "    else:\n",
    "        print(f'Bingo! {attempt} attempt(s)')\n",
    "        break"
   ]
  },
  {
   "cell_type": "code",
   "execution_count": null,
   "metadata": {},
   "outputs": [],
   "source": []
  }
 ],
 "metadata": {
  "kernelspec": {
   "display_name": "ece5831-2023",
   "language": "python",
   "name": "python3"
  },
  "language_info": {
   "codemirror_mode": {
    "name": "ipython",
    "version": 3
   },
   "file_extension": ".py",
   "mimetype": "text/x-python",
   "name": "python",
   "nbconvert_exporter": "python",
   "pygments_lexer": "ipython3",
   "version": "3.8.17"
  },
  "orig_nbformat": 4
 },
 "nbformat": 4,
 "nbformat_minor": 2
}
